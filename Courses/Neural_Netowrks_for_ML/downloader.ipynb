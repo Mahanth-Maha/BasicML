{
 "cells": [
  {
   "cell_type": "markdown",
   "metadata": {},
   "source": [
    "Neural Networks for Machine Learning\n",
    "----\n",
    "2012 COURSERA COURSE LECTURES:\n",
    "* lectures : https://www.cs.toronto.edu/~hinton/coursera_lectures.html \n",
    "* slides : https://www.cs.toronto.edu/~hinton/coursera_slides.html"
   ]
  },
  {
   "cell_type": "markdown",
   "metadata": {},
   "source": [
    "#### Geoffrey E. Hinton\n",
    "\n",
    "Department of Computer Science\n",
    "\n",
    "University of Toronto"
   ]
  },
  {
   "cell_type": "code",
   "execution_count": 4,
   "metadata": {},
   "outputs": [],
   "source": [
    "hinton = r'https://www.cs.toronto.edu/~hinton/'\n",
    "lectures = r'coursera_lectures.html'\n",
    "slides = r'coursera_slides.html'"
   ]
  },
  {
   "cell_type": "code",
   "execution_count": 6,
   "metadata": {},
   "outputs": [
    {
     "data": {
      "text/plain": [
       "('https://www.cs.toronto.edu/~hinton/coursera/lecture1/lec1a.mp4', 76)"
      ]
     },
     "execution_count": 6,
     "metadata": {},
     "output_type": "execute_result"
    }
   ],
   "source": [
    "import os\n",
    "import requests\n",
    "from bs4 import BeautifulSoup\n",
    "\n",
    "response = requests.get(hinton + lectures)\n",
    "html_content = response.content\n",
    "\n",
    "soup = BeautifulSoup(html_content, 'html.parser')\n",
    "links = soup.find_all('a', href=True)  \n",
    "video_links = [hinton + link['href'] for link in links if link['href'].endswith('.mp4')]\n",
    "video_links[0] , len(video_links)\n"
   ]
  },
  {
   "cell_type": "code",
   "execution_count": 7,
   "metadata": {},
   "outputs": [],
   "source": [
    "from IPython.core.interactiveshell import InteractiveShell\n",
    "InteractiveShell.ast_node_interactivity = \"last\"  # Options: 'last', 'all', 'last_expr', etc."
   ]
  },
  {
   "cell_type": "code",
   "execution_count": 8,
   "metadata": {},
   "outputs": [
    {
     "name": "stdout",
     "output_type": "stream",
     "text": [
      "Downloading 1/76: https://www.cs.toronto.edu/~hinton/coursera/lecture1/lec1a.mp4\n",
      "Saved: lectures\\lec1a.mp4\n",
      "Downloading 2/76: https://www.cs.toronto.edu/~hinton/coursera/lecture1/lec1b.mp4\n",
      "Saved: lectures\\lec1b.mp4\n",
      "Downloading 3/76: https://www.cs.toronto.edu/~hinton/coursera/lecture1/lec1c.mp4\n",
      "Saved: lectures\\lec1c.mp4\n",
      "Downloading 4/76: https://www.cs.toronto.edu/~hinton/coursera/lecture1/lec1d.mp4\n",
      "Saved: lectures\\lec1d.mp4\n",
      "Downloading 5/76: https://www.cs.toronto.edu/~hinton/coursera/lecture1/lec1e.mp4\n",
      "Saved: lectures\\lec1e.mp4\n",
      "Downloading 6/76: https://www.cs.toronto.edu/~hinton/coursera/lecture2/lec2a.mp4\n",
      "Saved: lectures\\lec2a.mp4\n",
      "Downloading 7/76: https://www.cs.toronto.edu/~hinton/coursera/lecture2/lec2b.mp4\n",
      "Saved: lectures\\lec2b.mp4\n",
      "Downloading 8/76: https://www.cs.toronto.edu/~hinton/coursera/lecture2/lec2c.mp4\n",
      "Saved: lectures\\lec2c.mp4\n",
      "Downloading 9/76: https://www.cs.toronto.edu/~hinton/coursera/lecture2/lec2d.mp4\n",
      "Saved: lectures\\lec2d.mp4\n",
      "Downloading 10/76: https://www.cs.toronto.edu/~hinton/coursera/lecture2/lec2e.mp4\n",
      "Saved: lectures\\lec2e.mp4\n",
      "Downloading 11/76: https://www.cs.toronto.edu/~hinton/coursera/lecture3/lec3a.mp4\n",
      "Saved: lectures\\lec3a.mp4\n",
      "Downloading 12/76: https://www.cs.toronto.edu/~hinton/coursera/lecture3/lec3b.mp4\n",
      "Saved: lectures\\lec3b.mp4\n",
      "Downloading 13/76: https://www.cs.toronto.edu/~hinton/coursera/lecture3/lec3c.mp4\n",
      "Saved: lectures\\lec3c.mp4\n",
      "Downloading 14/76: https://www.cs.toronto.edu/~hinton/coursera/lecture3/lec3d.mp4\n",
      "Saved: lectures\\lec3d.mp4\n",
      "Downloading 15/76: https://www.cs.toronto.edu/~hinton/coursera/lecture3/lec3e.mp4\n",
      "Saved: lectures\\lec3e.mp4\n",
      "Downloading 16/76: https://www.cs.toronto.edu/~hinton/coursera/lecture4/lec4a.mp4\n",
      "Saved: lectures\\lec4a.mp4\n",
      "Downloading 17/76: https://www.cs.toronto.edu/~hinton/coursera/lecture4/lec4b.mp4\n",
      "Saved: lectures\\lec4b.mp4\n",
      "Downloading 18/76: https://www.cs.toronto.edu/~hinton/coursera/lecture4/lec4c.mp4\n",
      "Saved: lectures\\lec4c.mp4\n",
      "Downloading 19/76: https://www.cs.toronto.edu/~hinton/coursera/lecture4/lec4d.mp4\n",
      "Saved: lectures\\lec4d.mp4\n",
      "Downloading 20/76: https://www.cs.toronto.edu/~hinton/coursera/lecture4/lec4e.mp4\n",
      "Saved: lectures\\lec4e.mp4\n",
      "Downloading 21/76: https://www.cs.toronto.edu/~hinton/coursera/lecture5/lec5a.mp4\n",
      "Saved: lectures\\lec5a.mp4\n",
      "Downloading 22/76: https://www.cs.toronto.edu/~hinton/coursera/lecture5/lec5b.mp4\n",
      "Saved: lectures\\lec5b.mp4\n",
      "Downloading 23/76: https://www.cs.toronto.edu/~hinton/coursera/lecture5/lec5c.mp4\n",
      "Saved: lectures\\lec5c.mp4\n",
      "Downloading 24/76: https://www.cs.toronto.edu/~hinton/coursera/lecture5/lec5d.mp4\n",
      "Saved: lectures\\lec5d.mp4\n",
      "Downloading 25/76: https://www.cs.toronto.edu/~hinton/coursera/lecture6/lec6a.mp4\n",
      "Saved: lectures\\lec6a.mp4\n",
      "Downloading 26/76: https://www.cs.toronto.edu/~hinton/coursera/lecture6/lec6b.mp4\n",
      "Saved: lectures\\lec6b.mp4\n",
      "Downloading 27/76: https://www.cs.toronto.edu/~hinton/coursera/lecture6/lec6c.mp4\n",
      "Saved: lectures\\lec6c.mp4\n",
      "Downloading 28/76: https://www.cs.toronto.edu/~hinton/coursera/lecture6/lec6d.mp4\n",
      "Saved: lectures\\lec6d.mp4\n",
      "Downloading 29/76: https://www.cs.toronto.edu/~hinton/coursera/lecture6/lec6e.mp4\n",
      "Saved: lectures\\lec6e.mp4\n",
      "Downloading 30/76: https://www.cs.toronto.edu/~hinton/coursera/lecture7/lec7a.mp4\n",
      "Saved: lectures\\lec7a.mp4\n",
      "Downloading 31/76: https://www.cs.toronto.edu/~hinton/coursera/lecture7/lec7b.mp4\n",
      "Saved: lectures\\lec7b.mp4\n",
      "Downloading 32/76: https://www.cs.toronto.edu/~hinton/coursera/lecture7/lec7c.mp4\n",
      "Saved: lectures\\lec7c.mp4\n",
      "Downloading 33/76: https://www.cs.toronto.edu/~hinton/coursera/lecture7/lec7d.mp4\n",
      "Saved: lectures\\lec7d.mp4\n",
      "Downloading 34/76: https://www.cs.toronto.edu/~hinton/coursera/lecture7/lec7e.mp4\n",
      "Saved: lectures\\lec7e.mp4\n",
      "Downloading 35/76: https://www.cs.toronto.edu/~hinton/coursera_lecture8/lec8a.mp4\n",
      "Failed to download https://www.cs.toronto.edu/~hinton/coursera_lecture8/lec8a.mp4: 404 Client Error: Not Found for url: https://www.cs.toronto.edu/~hinton/coursera_lecture8/lec8a.mp4\n",
      "Downloading 36/76: https://www.cs.toronto.edu/~hinton/coursera/lecture8/lec8b.mp4\n",
      "Saved: lectures\\lec8b.mp4\n",
      "Downloading 37/76: https://www.cs.toronto.edu/~hinton/coursera/lecture8/lec8c.mp4\n",
      "Saved: lectures\\lec8c.mp4\n",
      "Downloading 38/76: https://www.cs.toronto.edu/~hinton/coursera/lecture8/lec8d.mp4\n",
      "Saved: lectures\\lec8d.mp4\n",
      "Downloading 39/76: https://www.cs.toronto.edu/~hinton/coursera/lecture9/lec9a.mp4\n",
      "Saved: lectures\\lec9a.mp4\n",
      "Downloading 40/76: https://www.cs.toronto.edu/~hinton/coursera/lecture9/lec9b.mp4\n",
      "Saved: lectures\\lec9b.mp4\n",
      "Downloading 41/76: https://www.cs.toronto.edu/~hinton/coursera/lecture9/lec9c.mp4\n",
      "Saved: lectures\\lec9c.mp4\n",
      "Downloading 42/76: https://www.cs.toronto.edu/~hinton/coursera/lecture9/lec9d.mp4\n",
      "Saved: lectures\\lec9d.mp4\n",
      "Downloading 43/76: https://www.cs.toronto.edu/~hinton/coursera/lecture9/lec9e.mp4\n",
      "Saved: lectures\\lec9e.mp4\n",
      "Downloading 44/76: https://www.cs.toronto.edu/~hinton/coursera/lecture9/lec9f.mp4\n",
      "Saved: lectures\\lec9f.mp4\n",
      "Downloading 45/76: https://www.cs.toronto.edu/~hinton/coursera/lecture10/lec10a.mp4\n",
      "Saved: lectures\\lec10a.mp4\n",
      "Downloading 46/76: https://www.cs.toronto.edu/~hinton/coursera/lecture10/lec10b.mp4\n",
      "Saved: lectures\\lec10b.mp4\n",
      "Downloading 47/76: https://www.cs.toronto.edu/~hinton/coursera/lecture10/lec10c.mp4\n",
      "Saved: lectures\\lec10c.mp4\n",
      "Downloading 48/76: https://www.cs.toronto.edu/~hinton/coursera/lecture10/lec10d.mp4\n",
      "Saved: lectures\\lec10d.mp4\n",
      "Downloading 49/76: https://www.cs.toronto.edu/~hinton/coursera/lecture10/lec10e.mp4\n",
      "Saved: lectures\\lec10e.mp4\n",
      "Downloading 50/76: https://www.cs.toronto.edu/~hinton/coursera/lecture11/lec11a.mp4\n",
      "Saved: lectures\\lec11a.mp4\n",
      "Downloading 51/76: https://www.cs.toronto.edu/~hinton/coursera/lecture11/lec11b.mp4\n",
      "Saved: lectures\\lec11b.mp4\n",
      "Downloading 52/76: https://www.cs.toronto.edu/~hinton/coursera/lecture11/lec11c.mp4\n",
      "Saved: lectures\\lec11c.mp4\n",
      "Downloading 53/76: https://www.cs.toronto.edu/~hinton/coursera/lecture11/lec11d.mp4\n",
      "Saved: lectures\\lec11d.mp4\n",
      "Downloading 54/76: https://www.cs.toronto.edu/~hinton/coursera/lecture11/lec11e.mp4\n",
      "Saved: lectures\\lec11e.mp4\n",
      "Downloading 55/76: https://www.cs.toronto.edu/~hinton/coursera/lecture12/lec12a.mp4\n",
      "Saved: lectures\\lec12a.mp4\n",
      "Downloading 56/76: https://www.cs.toronto.edu/~hinton/coursera/lecture12/lec12b.mp4\n",
      "Saved: lectures\\lec12b.mp4\n",
      "Downloading 57/76: https://www.cs.toronto.edu/~hinton/coursera/lecture12/lec12c.mp4\n",
      "Saved: lectures\\lec12c.mp4\n",
      "Downloading 58/76: https://www.cs.toronto.edu/~hinton/coursera/lecture12/lec12d.mp4\n",
      "Saved: lectures\\lec12d.mp4\n",
      "Downloading 59/76: https://www.cs.toronto.edu/~hinton/coursera/lecture12/lec12e.mp4\n",
      "Saved: lectures\\lec12e.mp4\n",
      "Downloading 60/76: https://www.cs.toronto.edu/~hinton/coursera/lecture13/lec13a.mp4\n",
      "Saved: lectures\\lec13a.mp4\n",
      "Downloading 61/76: https://www.cs.toronto.edu/~hinton/coursera/lecture13/lec13b.mp4\n",
      "Saved: lectures\\lec13b.mp4\n",
      "Downloading 62/76: https://www.cs.toronto.edu/~hinton/coursera/lecture13/lec13d.mp4\n",
      "Saved: lectures\\lec13d.mp4\n",
      "Downloading 63/76: https://www.cs.toronto.edu/~hinton/coursera/lecture14/lec14a.mp4\n",
      "Saved: lectures\\lec14a.mp4\n",
      "Downloading 64/76: https://www.cs.toronto.edu/~hinton/coursera/lecture14/lec14b.mp4\n",
      "Saved: lectures\\lec14b.mp4\n",
      "Downloading 65/76: https://www.cs.toronto.edu/~hinton/coursera/lecture14/lec14c.mp4\n",
      "Saved: lectures\\lec14c.mp4\n",
      "Downloading 66/76: https://www.cs.toronto.edu/~hinton/coursera/lecture14/lec14d.mp4\n",
      "Saved: lectures\\lec14d.mp4\n",
      "Downloading 67/76: https://www.cs.toronto.edu/~hinton/coursera/lecture14/lec14e.mp4\n",
      "Saved: lectures\\lec14e.mp4\n",
      "Downloading 68/76: https://www.cs.toronto.edu/~hinton/coursera/lecture15/lec15a.mp4\n",
      "Saved: lectures\\lec15a.mp4\n",
      "Downloading 69/76: https://www.cs.toronto.edu/~hinton/coursera/lecture15/lec15b.mp4\n",
      "Saved: lectures\\lec15b.mp4\n",
      "Downloading 70/76: https://www.cs.toronto.edu/~hinton/coursera/lecture15/lec15c.mp4\n",
      "Saved: lectures\\lec15c.mp4\n",
      "Downloading 71/76: https://www.cs.toronto.edu/~hinton/coursera/lecture15/lec15d.mp4\n",
      "Saved: lectures\\lec15d.mp4\n",
      "Downloading 72/76: https://www.cs.toronto.edu/~hinton/coursera/lecture15/lec15e.mp4\n",
      "Saved: lectures\\lec15e.mp4\n",
      "Downloading 73/76: https://www.cs.toronto.edu/~hinton/coursera/lecture15/lec15f.mp4\n",
      "Saved: lectures\\lec15f.mp4\n",
      "Downloading 74/76: https://www.cs.toronto.edu/~hinton/coursera/lecture16/lec16a.mp4\n",
      "Saved: lectures\\lec16a.mp4\n",
      "Downloading 75/76: https://www.cs.toronto.edu/~hinton/coursera/lecture16/lec16b.mp4\n",
      "Saved: lectures\\lec16b.mp4\n",
      "Downloading 76/76: https://www.cs.toronto.edu/~hinton/coursera/lecture16/lec16c.mp4\n",
      "Saved: lectures\\lec16c.mp4\n"
     ]
    }
   ],
   "source": [
    "output_dir = \"lectures\"\n",
    "os.makedirs(output_dir, exist_ok=True)\n",
    "\n",
    "for idx, video_url in enumerate(video_links, 1):\n",
    "    file_name = os.path.join(output_dir, os.path.basename(video_url))\n",
    "    print(f\"Downloading {idx}/{len(video_links)}: {video_url}\")\n",
    "\n",
    "    try:\n",
    "        response = requests.get(video_url, stream=True)\n",
    "        response.raise_for_status()\n",
    "\n",
    "        with open(file_name, 'wb') as file:\n",
    "            for chunk in response.iter_content(chunk_size=8192):\n",
    "                _ = file.write(chunk)\n",
    "\n",
    "        print(f\"Saved: {file_name}\")\n",
    "    except Exception as e:\n",
    "        print(f\"Failed to download {video_url}: {e}\")\n"
   ]
  },
  {
   "cell_type": "code",
   "execution_count": 11,
   "metadata": {},
   "outputs": [
    {
     "data": {
      "text/plain": [
       "(['https://www.cs.toronto.edu/~hinton/coursera/lecture1/lec1.pptx',\n",
       "  'https://www.cs.toronto.edu/~hinton/coursera/lecture1/lec1.pdf',\n",
       "  'https://www.cs.toronto.edu/~hinton/coursera/lecture2/lec2.pptx',\n",
       "  'https://www.cs.toronto.edu/~hinton/coursera/lecture2/lec2.pdf',\n",
       "  'https://www.cs.toronto.edu/~hinton/coursera/lecture3/lec3.pptx',\n",
       "  'https://www.cs.toronto.edu/~hinton/coursera/lecture3/lec3.pdf',\n",
       "  'https://www.cs.toronto.edu/~hinton/coursera/lecture4/lec4.pptx',\n",
       "  'https://www.cs.toronto.edu/~hinton/coursera/lecture4/lec4.pdf',\n",
       "  'https://www.cs.toronto.edu/~hinton/coursera/lecture5/lec5.pptx',\n",
       "  'https://www.cs.toronto.edu/~hinton/coursera/lecture5/lec5.pdf'],\n",
       " 32)"
      ]
     },
     "execution_count": 11,
     "metadata": {},
     "output_type": "execute_result"
    }
   ],
   "source": [
    "\n",
    "response = requests.get(hinton + slides)\n",
    "html_content = response.content\n",
    "\n",
    "soup = BeautifulSoup(html_content, 'html.parser')\n",
    "links = soup.find_all('a', href=True)  \n",
    "slides_links = [hinton + link['href'] for link in links if link['href']]\n",
    "slides_links[:10] , len(slides_links)\n"
   ]
  },
  {
   "cell_type": "code",
   "execution_count": 12,
   "metadata": {},
   "outputs": [
    {
     "data": {
      "text/plain": [
       "range(1, 17)"
      ]
     },
     "execution_count": 12,
     "metadata": {},
     "output_type": "execute_result"
    }
   ],
   "source": [
    "base_url = hinton + r'coursera/'\n",
    "\n",
    "lectures = range(1, 17)  # Lecture numbers from 1 to 16\n",
    "\n",
    "# Directory to save the files\n",
    "save_directory = \"slides\"\n",
    "os.makedirs(save_directory, exist_ok=True)\n",
    "lectures"
   ]
  },
  {
   "cell_type": "code",
   "execution_count": 17,
   "metadata": {},
   "outputs": [
    {
     "name": "stdout",
     "output_type": "stream",
     "text": [
      "https://www.cs.toronto.edu/~hinton/coursera/lecture1/lec1.pptx\n",
      "https://www.cs.toronto.edu/~hinton/coursera/lecture1/lec1.pdf\n"
     ]
    },
    {
     "data": {
      "text/plain": [
       "3797020"
      ]
     },
     "execution_count": 17,
     "metadata": {},
     "output_type": "execute_result"
    },
    {
     "name": "stdout",
     "output_type": "stream",
     "text": [
      "Downloaded: slides\\PPT_lecture1.pptx\n"
     ]
    },
    {
     "data": {
      "text/plain": [
       "4064871"
      ]
     },
     "execution_count": 17,
     "metadata": {},
     "output_type": "execute_result"
    },
    {
     "name": "stdout",
     "output_type": "stream",
     "text": [
      "Downloaded: slides\\lecture1.pdf\n",
      "https://www.cs.toronto.edu/~hinton/coursera/lecture2/lec2.pptx\n",
      "https://www.cs.toronto.edu/~hinton/coursera/lecture2/lec2.pdf\n"
     ]
    },
    {
     "data": {
      "text/plain": [
       "409209"
      ]
     },
     "execution_count": 17,
     "metadata": {},
     "output_type": "execute_result"
    },
    {
     "name": "stdout",
     "output_type": "stream",
     "text": [
      "Downloaded: slides\\PPT_lecture2.pptx\n"
     ]
    },
    {
     "data": {
      "text/plain": [
       "504781"
      ]
     },
     "execution_count": 17,
     "metadata": {},
     "output_type": "execute_result"
    },
    {
     "name": "stdout",
     "output_type": "stream",
     "text": [
      "Downloaded: slides\\lecture2.pdf\n",
      "https://www.cs.toronto.edu/~hinton/coursera/lecture3/lec3.pptx\n",
      "https://www.cs.toronto.edu/~hinton/coursera/lecture3/lec3.pdf\n"
     ]
    },
    {
     "data": {
      "text/plain": [
       "1192264"
      ]
     },
     "execution_count": 17,
     "metadata": {},
     "output_type": "execute_result"
    },
    {
     "name": "stdout",
     "output_type": "stream",
     "text": [
      "Downloaded: slides\\PPT_lecture3.pptx\n"
     ]
    },
    {
     "data": {
      "text/plain": [
       "548034"
      ]
     },
     "execution_count": 17,
     "metadata": {},
     "output_type": "execute_result"
    },
    {
     "name": "stdout",
     "output_type": "stream",
     "text": [
      "Downloaded: slides\\lecture3.pdf\n",
      "https://www.cs.toronto.edu/~hinton/coursera/lecture4/lec4.pptx\n",
      "https://www.cs.toronto.edu/~hinton/coursera/lecture4/lec4.pdf\n"
     ]
    },
    {
     "data": {
      "text/plain": [
       "1147269"
      ]
     },
     "execution_count": 17,
     "metadata": {},
     "output_type": "execute_result"
    },
    {
     "name": "stdout",
     "output_type": "stream",
     "text": [
      "Downloaded: slides\\PPT_lecture4.pptx\n"
     ]
    },
    {
     "data": {
      "text/plain": [
       "964077"
      ]
     },
     "execution_count": 17,
     "metadata": {},
     "output_type": "execute_result"
    },
    {
     "name": "stdout",
     "output_type": "stream",
     "text": [
      "Downloaded: slides\\lecture4.pdf\n",
      "https://www.cs.toronto.edu/~hinton/coursera/lecture5/lec5.pptx\n",
      "https://www.cs.toronto.edu/~hinton/coursera/lecture5/lec5.pdf\n"
     ]
    },
    {
     "data": {
      "text/plain": [
       "1733266"
      ]
     },
     "execution_count": 17,
     "metadata": {},
     "output_type": "execute_result"
    },
    {
     "name": "stdout",
     "output_type": "stream",
     "text": [
      "Downloaded: slides\\PPT_lecture5.pptx\n"
     ]
    },
    {
     "data": {
      "text/plain": [
       "1633972"
      ]
     },
     "execution_count": 17,
     "metadata": {},
     "output_type": "execute_result"
    },
    {
     "name": "stdout",
     "output_type": "stream",
     "text": [
      "Downloaded: slides\\lecture5.pdf\n",
      "https://www.cs.toronto.edu/~hinton/coursera/lecture6/lec6.pptx\n",
      "https://www.cs.toronto.edu/~hinton/coursera/lecture6/lec6.pdf\n"
     ]
    },
    {
     "data": {
      "text/plain": [
       "672616"
      ]
     },
     "execution_count": 17,
     "metadata": {},
     "output_type": "execute_result"
    },
    {
     "name": "stdout",
     "output_type": "stream",
     "text": [
      "Downloaded: slides\\PPT_lecture6.pptx\n"
     ]
    },
    {
     "data": {
      "text/plain": [
       "546843"
      ]
     },
     "execution_count": 17,
     "metadata": {},
     "output_type": "execute_result"
    },
    {
     "name": "stdout",
     "output_type": "stream",
     "text": [
      "Downloaded: slides\\lecture6.pdf\n",
      "https://www.cs.toronto.edu/~hinton/coursera/lecture7/lec7.pptx\n",
      "https://www.cs.toronto.edu/~hinton/coursera/lecture7/lec7.pdf\n"
     ]
    },
    {
     "data": {
      "text/plain": [
       "228020"
      ]
     },
     "execution_count": 17,
     "metadata": {},
     "output_type": "execute_result"
    },
    {
     "name": "stdout",
     "output_type": "stream",
     "text": [
      "Downloaded: slides\\PPT_lecture7.pptx\n"
     ]
    },
    {
     "data": {
      "text/plain": [
       "975959"
      ]
     },
     "execution_count": 17,
     "metadata": {},
     "output_type": "execute_result"
    },
    {
     "name": "stdout",
     "output_type": "stream",
     "text": [
      "Downloaded: slides\\lecture7.pdf\n",
      "https://www.cs.toronto.edu/~hinton/coursera/lecture8/lec8.pptx\n",
      "https://www.cs.toronto.edu/~hinton/coursera/lecture8/lec8.pdf\n"
     ]
    },
    {
     "data": {
      "text/plain": [
       "568185"
      ]
     },
     "execution_count": 17,
     "metadata": {},
     "output_type": "execute_result"
    },
    {
     "name": "stdout",
     "output_type": "stream",
     "text": [
      "Downloaded: slides\\PPT_lecture8.pptx\n"
     ]
    },
    {
     "data": {
      "text/plain": [
       "658312"
      ]
     },
     "execution_count": 17,
     "metadata": {},
     "output_type": "execute_result"
    },
    {
     "name": "stdout",
     "output_type": "stream",
     "text": [
      "Downloaded: slides\\lecture8.pdf\n",
      "https://www.cs.toronto.edu/~hinton/coursera/lecture9/lec9.pptx\n",
      "https://www.cs.toronto.edu/~hinton/coursera/lecture9/lec9.pdf\n"
     ]
    },
    {
     "data": {
      "text/plain": [
       "1550272"
      ]
     },
     "execution_count": 17,
     "metadata": {},
     "output_type": "execute_result"
    },
    {
     "name": "stdout",
     "output_type": "stream",
     "text": [
      "Downloaded: slides\\PPT_lecture9.pptx\n"
     ]
    },
    {
     "data": {
      "text/plain": [
       "718980"
      ]
     },
     "execution_count": 17,
     "metadata": {},
     "output_type": "execute_result"
    },
    {
     "name": "stdout",
     "output_type": "stream",
     "text": [
      "Downloaded: slides\\lecture9.pdf\n",
      "https://www.cs.toronto.edu/~hinton/coursera/lecture10/lec10.pptx\n",
      "https://www.cs.toronto.edu/~hinton/coursera/lecture10/lec10.pdf\n"
     ]
    },
    {
     "data": {
      "text/plain": [
       "901578"
      ]
     },
     "execution_count": 17,
     "metadata": {},
     "output_type": "execute_result"
    },
    {
     "name": "stdout",
     "output_type": "stream",
     "text": [
      "Downloaded: slides\\PPT_lecture10.pptx\n"
     ]
    },
    {
     "data": {
      "text/plain": [
       "847104"
      ]
     },
     "execution_count": 17,
     "metadata": {},
     "output_type": "execute_result"
    },
    {
     "name": "stdout",
     "output_type": "stream",
     "text": [
      "Downloaded: slides\\lecture10.pdf\n",
      "https://www.cs.toronto.edu/~hinton/coursera/lecture11/lec11.pptx\n",
      "https://www.cs.toronto.edu/~hinton/coursera/lecture11/lec11.pdf\n"
     ]
    },
    {
     "data": {
      "text/plain": [
       "743830"
      ]
     },
     "execution_count": 17,
     "metadata": {},
     "output_type": "execute_result"
    },
    {
     "name": "stdout",
     "output_type": "stream",
     "text": [
      "Downloaded: slides\\PPT_lecture11.pptx\n"
     ]
    },
    {
     "data": {
      "text/plain": [
       "711191"
      ]
     },
     "execution_count": 17,
     "metadata": {},
     "output_type": "execute_result"
    },
    {
     "name": "stdout",
     "output_type": "stream",
     "text": [
      "Downloaded: slides\\lecture11.pdf\n",
      "https://www.cs.toronto.edu/~hinton/coursera/lecture12/lec12.pptx\n",
      "https://www.cs.toronto.edu/~hinton/coursera/lecture12/lec12.pdf\n"
     ]
    },
    {
     "data": {
      "text/plain": [
       "1976130"
      ]
     },
     "execution_count": 17,
     "metadata": {},
     "output_type": "execute_result"
    },
    {
     "name": "stdout",
     "output_type": "stream",
     "text": [
      "Downloaded: slides\\PPT_lecture12.pptx\n"
     ]
    },
    {
     "data": {
      "text/plain": [
       "1826380"
      ]
     },
     "execution_count": 17,
     "metadata": {},
     "output_type": "execute_result"
    },
    {
     "name": "stdout",
     "output_type": "stream",
     "text": [
      "Downloaded: slides\\lecture12.pdf\n",
      "https://www.cs.toronto.edu/~hinton/coursera/lecture13/lec13.pptx\n",
      "https://www.cs.toronto.edu/~hinton/coursera/lecture13/lec13.pdf\n"
     ]
    },
    {
     "data": {
      "text/plain": [
       "424750"
      ]
     },
     "execution_count": 17,
     "metadata": {},
     "output_type": "execute_result"
    },
    {
     "name": "stdout",
     "output_type": "stream",
     "text": [
      "Downloaded: slides\\PPT_lecture13.pptx\n"
     ]
    },
    {
     "data": {
      "text/plain": [
       "314624"
      ]
     },
     "execution_count": 17,
     "metadata": {},
     "output_type": "execute_result"
    },
    {
     "name": "stdout",
     "output_type": "stream",
     "text": [
      "Downloaded: slides\\lecture13.pdf\n",
      "https://www.cs.toronto.edu/~hinton/coursera/lecture14/lec14.pptx\n",
      "https://www.cs.toronto.edu/~hinton/coursera/lecture14/lec14.pdf\n"
     ]
    },
    {
     "data": {
      "text/plain": [
       "1261111"
      ]
     },
     "execution_count": 17,
     "metadata": {},
     "output_type": "execute_result"
    },
    {
     "name": "stdout",
     "output_type": "stream",
     "text": [
      "Downloaded: slides\\PPT_lecture14.pptx\n"
     ]
    },
    {
     "data": {
      "text/plain": [
       "1159508"
      ]
     },
     "execution_count": 17,
     "metadata": {},
     "output_type": "execute_result"
    },
    {
     "name": "stdout",
     "output_type": "stream",
     "text": [
      "Downloaded: slides\\lecture14.pdf\n",
      "https://www.cs.toronto.edu/~hinton/coursera/lecture15/lec15.pptx\n",
      "https://www.cs.toronto.edu/~hinton/coursera/lecture15/lec15.pdf\n"
     ]
    },
    {
     "data": {
      "text/plain": [
       "1890852"
      ]
     },
     "execution_count": 17,
     "metadata": {},
     "output_type": "execute_result"
    },
    {
     "name": "stdout",
     "output_type": "stream",
     "text": [
      "Downloaded: slides\\PPT_lecture15.pptx\n"
     ]
    },
    {
     "data": {
      "text/plain": [
       "2607207"
      ]
     },
     "execution_count": 17,
     "metadata": {},
     "output_type": "execute_result"
    },
    {
     "name": "stdout",
     "output_type": "stream",
     "text": [
      "Downloaded: slides\\lecture15.pdf\n",
      "https://www.cs.toronto.edu/~hinton/coursera/lecture16/lec16.pptx\n",
      "https://www.cs.toronto.edu/~hinton/coursera/lecture16/lec16.pdf\n"
     ]
    },
    {
     "data": {
      "text/plain": [
       "344302"
      ]
     },
     "execution_count": 17,
     "metadata": {},
     "output_type": "execute_result"
    },
    {
     "name": "stdout",
     "output_type": "stream",
     "text": [
      "Downloaded: slides\\PPT_lecture16.pptx\n"
     ]
    },
    {
     "data": {
      "text/plain": [
       "346868"
      ]
     },
     "execution_count": 17,
     "metadata": {},
     "output_type": "execute_result"
    },
    {
     "name": "stdout",
     "output_type": "stream",
     "text": [
      "Downloaded: slides\\lecture16.pdf\n"
     ]
    }
   ],
   "source": [
    "\n",
    "for lecture in lectures:\n",
    "    lecture_name = f\"lecture{lecture}\"\n",
    "    lec_file = f\"lec{lecture}\"\n",
    "    \n",
    "    # File URLs\n",
    "    ppt_url = f\"{base_url}{lecture_name}/{lec_file}.pptx\"\n",
    "    pdf_url = f\"{base_url}{lecture_name}/{lec_file}.pdf\"\n",
    "\n",
    "    # File paths\n",
    "    ppt_save_path = os.path.join(save_directory, f\"PPT_{lecture_name}.pptx\")\n",
    "    pdf_save_path = os.path.join(save_directory, f\"{lecture_name}.pdf\")\n",
    "    \n",
    "    # Download PPT\n",
    "    try:\n",
    "        ppt_response = requests.get(ppt_url)\n",
    "        ppt_response.raise_for_status()  # Raise exception for HTTP errors\n",
    "        with open(ppt_save_path, \"wb\") as ppt_file:\n",
    "            ppt_file.write(ppt_response.content)\n",
    "        print(f\"Downloaded: {ppt_save_path}\")\n",
    "    except requests.exceptions.RequestException as e:\n",
    "        print(f\"Failed to download PPT for Lecture {lecture}: {e}\")\n",
    "    \n",
    "    # Download PDF\n",
    "    try:\n",
    "        pdf_response = requests.get(pdf_url)\n",
    "        pdf_response.raise_for_status()  # Raise exception for HTTP errors\n",
    "        with open(pdf_save_path, \"wb\") as pdf_file:\n",
    "            pdf_file.write(pdf_response.content)\n",
    "        print(f\"Downloaded: {pdf_save_path}\")\n",
    "    except requests.exceptions.RequestException as e:\n",
    "        print(f\"Failed to download PDF for Lecture {lecture}: {e}\")\n"
   ]
  },
  {
   "cell_type": "code",
   "execution_count": null,
   "metadata": {},
   "outputs": [],
   "source": []
  }
 ],
 "metadata": {
  "kernelspec": {
   "display_name": "iisc",
   "language": "python",
   "name": "iisc"
  },
  "language_info": {
   "codemirror_mode": {
    "name": "ipython",
    "version": 3
   },
   "file_extension": ".py",
   "mimetype": "text/x-python",
   "name": "python",
   "nbconvert_exporter": "python",
   "pygments_lexer": "ipython3",
   "version": "3.9.15"
  }
 },
 "nbformat": 4,
 "nbformat_minor": 2
}
