{
 "cells": [
  {
   "cell_type": "markdown",
   "metadata": {},
   "source": [
    "# Regression in torch"
   ]
  },
  {
   "cell_type": "code",
   "execution_count": 1,
   "metadata": {},
   "outputs": [],
   "source": [
    "import torch\n",
    "import torch.nn as nn "
   ]
  },
  {
   "cell_type": "code",
   "execution_count": 2,
   "metadata": {},
   "outputs": [],
   "source": [
    "import numpy as np\n",
    "import matplotlib.pyplot as plt\n",
    "\n",
    "from sklearn.datasets import make_regression\n",
    "from sklearn.model_selection import train_test_split"
   ]
  },
  {
   "cell_type": "code",
   "execution_count": 4,
   "metadata": {},
   "outputs": [
    {
     "data": {
      "text/plain": [
       "(torch.Size([670, 2]),\n",
       " torch.Size([670, 1]),\n",
       " torch.Size([330, 2]),\n",
       " torch.Size([330, 1]))"
      ]
     },
     "execution_count": 4,
     "metadata": {},
     "output_type": "execute_result"
    },
    {
     "data": {
      "text/plain": [
       "(torch.float32, torch.float32)"
      ]
     },
     "execution_count": 4,
     "metadata": {},
     "output_type": "execute_result"
    },
    {
     "data": {
      "text/plain": [
       "(tensor([[-0.0133, -0.6167],\n",
       "         [-0.5397,  1.4429],\n",
       "         [ 0.5377, -0.3485],\n",
       "         [-0.5720, -0.3416],\n",
       "         [-0.2966,  0.2488]]),\n",
       " tensor([[-40.0575],\n",
       "         [122.9814],\n",
       "         [-17.9709],\n",
       "         [-45.9810],\n",
       "         [ 29.1849]]))"
      ]
     },
     "execution_count": 4,
     "metadata": {},
     "output_type": "execute_result"
    }
   ],
   "source": [
    "samples = 1000\n",
    "dims  = 2\n",
    "X , y = make_regression(n_samples=samples, n_features=dims, noise=10, random_state=1) \n",
    "X_train, X_test, y_train, y_test = train_test_split(X, y, test_size=0.33, random_state=1)\n",
    "\n",
    "X_train = torch.from_numpy(X_train.astype(np.float32))\n",
    "X_test = torch.from_numpy(X_test.astype(np.float32))\n",
    "y_train = torch.from_numpy(y_train.astype(np.float32))\n",
    "y_test = torch.from_numpy(y_test.astype(np.float32))\n",
    "\n",
    "y_train = y_train.view(y_train.shape[0], 1) \n",
    "y_test = y_test.view(y_test.shape[0], 1)\n",
    "\n",
    "X_train.shape, y_train.shape , X_test.shape, y_test.shape\n",
    "X_train.dtype , y_train.dtype\n",
    "X_train[:5], y_train[:5]"
   ]
  },
  {
   "cell_type": "code",
   "execution_count": 5,
   "metadata": {},
   "outputs": [],
   "source": [
    "samples, dims = X_train.shape\n",
    "input_size = dims\n",
    "output_size = 1\n",
    "learning_rate = 0.01\n",
    "epochs = 1000\n",
    "\n",
    "model = nn.Linear(input_size, output_size)"
   ]
  },
  {
   "cell_type": "code",
   "execution_count": 6,
   "metadata": {},
   "outputs": [],
   "source": [
    "criterion = nn.MSELoss()\n",
    "optimizer = torch.optim.SGD(model.parameters(), lr=learning_rate)"
   ]
  },
  {
   "cell_type": "code",
   "execution_count": 7,
   "metadata": {},
   "outputs": [
    {
     "name": "stdout",
     "output_type": "stream",
     "text": [
      "epoch     0 loss 7991.50684\n",
      "epoch   100 loss 239.23923\n",
      "epoch   200 loss 95.17429\n",
      "epoch   300 loss 92.32184\n",
      "epoch   400 loss 92.26221\n",
      "epoch   500 loss 92.26090\n",
      "epoch   600 loss 92.26087\n",
      "epoch   700 loss 92.26089\n",
      "epoch   800 loss 92.26088\n",
      "epoch   900 loss 92.26088\n",
      "epoch  1000 loss 92.26088\n"
     ]
    }
   ],
   "source": [
    "for i in range(epochs + 1):\n",
    "    # forward \n",
    "    y_pred = model(X_train)\n",
    "\n",
    "    # loss\n",
    "    loss = criterion(y_pred, y_train)\n",
    "\n",
    "    # backward\n",
    "    loss.backward()\n",
    "\n",
    "    # update\n",
    "    optimizer.step()\n",
    "    optimizer.zero_grad()\n",
    "\n",
    "    if i % (epochs/10) == 0:\n",
    "        print(f'epoch {i:5d} loss {loss.item():.5f}')"
   ]
  },
  {
   "cell_type": "code",
   "execution_count": 8,
   "metadata": {},
   "outputs": [
    {
     "name": "stdout",
     "output_type": "stream",
     "text": [
      "Test loss 99.52586\n"
     ]
    }
   ],
   "source": [
    "y_pred = model(X_test)\n",
    "loss = criterion(y_pred, y_test)\n",
    "print(f'Test loss {loss.item():.5f}')"
   ]
  },
  {
   "cell_type": "code",
   "execution_count": 9,
   "metadata": {},
   "outputs": [
    {
     "data": {
      "text/plain": [
       "[<matplotlib.lines.Line2D at 0x1b1754b0850>]"
      ]
     },
     "execution_count": 9,
     "metadata": {},
     "output_type": "execute_result"
    },
    {
     "data": {
      "text/plain": [
       "[<matplotlib.lines.Line2D at 0x1b1754b0be0>]"
      ]
     },
     "execution_count": 9,
     "metadata": {},
     "output_type": "execute_result"
    },
    {
     "data": {
      "image/png": "[encoded data removed]",
      "text/plain": [
       "<Figure size 640x480 with 1 Axes>"
      ]
     },
     "metadata": {},
     "output_type": "display_data"
    }
   ],
   "source": [
    "y_pred = y_pred.detach().numpy()\n",
    "y_test = y_test.detach().numpy()\n",
    "plt.plot(y_test, y_pred, 'ro')\n",
    "plt.plot(y_test, y_test, 'b')"
   ]
  },
  {
   "cell_type": "code",
   "execution_count": null,
   "metadata": {},
   "outputs": [],
   "source": [
    "  "
   ]
  }
 ],
 "metadata": {
  "kernelspec": {
   "display_name": "iisc",
   "language": "python",
   "name": "iisc"
  },
  "language_info": {
   "codemirror_mode": {
    "name": "ipython",
    "version": 3
   },
   "file_extension": ".py",
   "mimetype": "text/x-python",
   "name": "python",
   "nbconvert_exporter": "python",
   "pygments_lexer": "ipython3",
   "version": "3.9.15"
  }
 },
 "nbformat": 4,
 "nbformat_minor": 2
}
