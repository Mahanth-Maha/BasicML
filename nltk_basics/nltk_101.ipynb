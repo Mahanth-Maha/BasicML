{
 "cells": [
  {
   "cell_type": "code",
   "execution_count": 1,
   "metadata": {},
   "outputs": [],
   "source": [
    "import nltk "
   ]
  },
  {
   "cell_type": "code",
   "execution_count": 2,
   "metadata": {},
   "outputs": [],
   "source": [
    "# nltk.download()"
   ]
  },
  {
   "cell_type": "code",
   "execution_count": 3,
   "metadata": {},
   "outputs": [
    {
     "name": "stdout",
     "output_type": "stream",
     "text": [
      "*** Introductory Examples for the NLTK Book ***\n",
      "Loading text1, ..., text9 and sent1, ..., sent9\n",
      "Type the name of the text or sentence to view it.\n",
      "Type: 'texts()' or 'sents()' to list the materials.\n",
      "text1: Moby Dick by Herman Melville 1851\n",
      "text2: Sense and Sensibility by Jane Austen 1811\n",
      "text3: The Book of Genesis\n",
      "text4: Inaugural Address Corpus\n",
      "text5: Chat Corpus\n",
      "text6: Monty Python and the Holy Grail\n",
      "text7: Wall Street Journal\n",
      "text8: Personals Corpus\n",
      "text9: The Man Who Was Thursday by G . K . Chesterton 1908\n"
     ]
    }
   ],
   "source": [
    "from nltk.book import * "
   ]
  },
  {
   "cell_type": "code",
   "execution_count": 4,
   "metadata": {},
   "outputs": [
    {
     "data": {
      "text/plain": [
       "<Text: Moby Dick by Herman Melville 1851>"
      ]
     },
     "execution_count": 4,
     "metadata": {},
     "output_type": "execute_result"
    }
   ],
   "source": [
    "text1"
   ]
  },
  {
   "cell_type": "code",
   "execution_count": 5,
   "metadata": {},
   "outputs": [
    {
     "data": {
      "text/plain": [
       "(nltk.text.Text, 260819, 19317)"
      ]
     },
     "execution_count": 5,
     "metadata": {},
     "output_type": "execute_result"
    }
   ],
   "source": [
    "type(text1) , len(text1) , len(set(text1))"
   ]
  },
  {
   "cell_type": "code",
   "execution_count": 6,
   "metadata": {},
   "outputs": [
    {
     "data": {
      "text/plain": [
       "(str, '[')"
      ]
     },
     "execution_count": 6,
     "metadata": {},
     "output_type": "execute_result"
    },
    {
     "data": {
      "text/plain": [
       "(str, 'Moby')"
      ]
     },
     "execution_count": 6,
     "metadata": {},
     "output_type": "execute_result"
    },
    {
     "data": {
      "text/plain": [
       "(str, 'Dick')"
      ]
     },
     "execution_count": 6,
     "metadata": {},
     "output_type": "execute_result"
    },
    {
     "data": {
      "text/plain": [
       "'[ Moby Dick by Herman Melville 1851 ] ETYMOLOGY . ( Supplied by a Late Consumptive Usher to a Grammar School ) The pale Usher -- threadbare in coat , heart , body , and brain ; I see him now . He was ever dusting his old lexicons and grammars , with a queer handkerchief , mockingly embellished with all the gay flags of all the known nations of the world . He loved to dust his old grammars ; it somehow mildly reminded him of his mortality . \" While you take in hand to school others ,'"
      ]
     },
     "execution_count": 6,
     "metadata": {},
     "output_type": "execute_result"
    }
   ],
   "source": [
    "type(text1[0]), text1[0]\n",
    "type(text1[1]), text1[1]\n",
    "type(text1[2]), text1[2]\n",
    "\n",
    "' '.join(text1[:100])"
   ]
  },
  {
   "cell_type": "code",
   "execution_count": 7,
   "metadata": {},
   "outputs": [
    {
     "data": {
      "text/plain": [
       "<Text: Sense and Sensibility by Jane Austen 1811>"
      ]
     },
     "execution_count": 7,
     "metadata": {},
     "output_type": "execute_result"
    },
    {
     "data": {
      "text/plain": [
       "(141576, 6833)"
      ]
     },
     "execution_count": 7,
     "metadata": {},
     "output_type": "execute_result"
    },
    {
     "data": {
      "text/plain": [
       "(str, '[')"
      ]
     },
     "execution_count": 7,
     "metadata": {},
     "output_type": "execute_result"
    },
    {
     "data": {
      "text/plain": [
       "(str, 'Sense')"
      ]
     },
     "execution_count": 7,
     "metadata": {},
     "output_type": "execute_result"
    },
    {
     "data": {
      "text/plain": [
       "(str, 'and')"
      ]
     },
     "execution_count": 7,
     "metadata": {},
     "output_type": "execute_result"
    },
    {
     "data": {
      "text/plain": [
       "'[ Sense and Sensibility by Jane Austen 1811 ] CHAPTER 1 The family of Dashwood had long been settled in Sussex . Their estate was large , and their residence was at Norland Park , in the centre of their property , where , for many generations , they had lived in so respectable a manner as to engage the general good opinion of their surrounding acquaintance . The late owner of this estate was a single man , who lived to a very advanced age , and who for many years of his life , had a constant companion'"
      ]
     },
     "execution_count": 7,
     "metadata": {},
     "output_type": "execute_result"
    }
   ],
   "source": [
    "text2 \n",
    "len(text2) , len(set(text2))\n",
    "type(text2[0]), text2[0]\n",
    "type(text2[1]), text2[1]\n",
    "type(text2[2]), text2[2]\n",
    "\n",
    "' '.join(text2[:100])"
   ]
  },
  {
   "cell_type": "code",
   "execution_count": 8,
   "metadata": {},
   "outputs": [
    {
     "name": "stdout",
     "output_type": "stream",
     "text": [
      "Displaying 25 of 50 matches:\n",
      "d Sensibility by Jane Austen 1811 ] CHAPTER 1 The family of Dashwood had long b\n",
      "at a more advanced period of life . CHAPTER 2 Mrs . John Dashwood now installed\n",
      " acts as his own wife pointed out . CHAPTER 3 Mrs . Dashwood remained at Norlan\n",
      "estiny be different from her ' s !\" CHAPTER 4 \" What a pity it is , Elinor ,\" s\n",
      " sending a letter of acquiescence . CHAPTER 5 No sooner was her answer dispatch\n",
      "But who will remain to enjoy you ?\" CHAPTER 6 The first part of their journey w\n",
      "f dining at the park the next day . CHAPTER 7 Barton Park was about half a mile\n",
      "e of life which humanity required . CHAPTER 8 Mrs . Jennings was a widow with a\n",
      " restless and dissatisfied in it ?\" CHAPTER 9 The Dashwoods were now settled at\n",
      "ng about and spraining of ankles .\" CHAPTER 10 Marianne ' s preserver , as Marg\n",
      "of disliking him as much as ever .\" CHAPTER 11 Little had Mrs . Dashwood or her\n",
      "lancholy order of disastrous love . CHAPTER 12 As Elinor and Marianne were walk\n",
      "rsuaded by Elinor to stay at home . CHAPTER 13 Their intended excursion to Whit\n",
      "m in the house with equal delight . CHAPTER 14 The sudden termination of Colone\n",
      "to be with them by four o ' clock . CHAPTER 15 Mrs . Dashwood ' s visit to Lady\n",
      "h her feelings connected with him . CHAPTER 16 Marianne would have thought hers\n",
      "reated from the family connection . CHAPTER 17 Mrs . Dashwood was surprised onl\n",
      "sat for some time silent and dull . CHAPTER 18 Elinor saw , with great uneasine\n",
      "d not have ventured to mention it . CHAPTER 19 Edward remained a week at the co\n",
      "st look for the change elsewhere .\" CHAPTER 20 As the Miss Dashwoods entered th\n",
      "Palmer is the kind of man I like .\" CHAPTER 21 The Palmers returned to Clevelan\n",
      "even openly mentioned by Sir John . CHAPTER 22 Marianne , who had never much to\n",
      " second editions , Volume 1 ends .] CHAPTER 23 However small Elinor ' s general\n",
      "f being heard at the card - table . CHAPTER 24 In a firm , though cautious tone\n",
      "inners to proclaim its importance . CHAPTER 25 Though Mrs . Jennings was in the\n"
     ]
    }
   ],
   "source": [
    "text2.concordance('CHAPTER')"
   ]
  },
  {
   "cell_type": "code",
   "execution_count": 9,
   "metadata": {},
   "outputs": [
    {
     "name": "stdout",
     "output_type": "stream",
     "text": [
      "house world place room family time day latter subject business truth\n",
      "post morning park it attention heart fortune first other\n"
     ]
    }
   ],
   "source": [
    "text2.similar('rest')"
   ]
  },
  {
   "cell_type": "code",
   "execution_count": 10,
   "metadata": {},
   "outputs": [
    {
     "name": "stdout",
     "output_type": "stream",
     "text": [
      "the_in the_of the_i the_for the_elinor the_at the_they\n"
     ]
    }
   ],
   "source": [
    "text2.common_contexts(['world', 'rest'])"
   ]
  },
  {
   "cell_type": "code",
   "execution_count": 11,
   "metadata": {},
   "outputs": [
    {
     "name": "stdout",
     "output_type": "stream",
     "text": [
      "house room other matter time latter subject country day others party\n",
      "past family park truth affair case same cottage window\n"
     ]
    }
   ],
   "source": [
    "text2.similar('world')"
   ]
  },
  {
   "cell_type": "code",
   "execution_count": 12,
   "metadata": {},
   "outputs": [
    {
     "data": {
      "image/png": "[encoded data removed]",
      "text/plain": [
       "<Figure size 640x480 with 1 Axes>"
      ]
     },
     "metadata": {},
     "output_type": "display_data"
    }
   ],
   "source": [
    "text2.dispersion_plot('world house room other matter time'.split())"
   ]
  },
  {
   "cell_type": "code",
   "execution_count": 14,
   "metadata": {},
   "outputs": [
    {
     "data": {
      "text/plain": [
       "(93, 69)"
      ]
     },
     "execution_count": 14,
     "metadata": {},
     "output_type": "execute_result"
    }
   ],
   "source": [
    "text2.count('world'), text2.count('home') "
   ]
  },
  {
   "cell_type": "code",
   "execution_count": 13,
   "metadata": {},
   "outputs": [
    {
     "name": "stderr",
     "output_type": "stream",
     "text": [
      "Building ngram index...\n"
     ]
    },
    {
     "name": "stdout",
     "output_type": "stream",
     "text": [
      "knew , had by this remembrance , and if , by rapid degrees , so long .\n",
      ", she could live without one another , and in her rambles . at least\n",
      "the last evening of a brother , could you know , from the first .\n",
      "Dashwood ? this gentleman himself , and must put up with a kindness\n",
      "which they are very much vexed at , for it -- and I shall keep it\n",
      "entirely . admire it ; and it is , explain the grounds , or if any\n",
      "place could give her ease , was a\n"
     ]
    },
    {
     "data": {
      "text/plain": [
       "'knew , had by this remembrance , and if , by rapid degrees , so long .\\n, she could live without one another , and in her rambles . at least\\nthe last evening of a brother , could you know , from the first .\\nDashwood ? this gentleman himself , and must put up with a kindness\\nwhich they are very much vexed at , for it -- and I shall keep it\\nentirely . admire it ; and it is , explain the grounds , or if any\\nplace could give her ease , was a'"
      ]
     },
     "execution_count": 13,
     "metadata": {},
     "output_type": "execute_result"
    }
   ],
   "source": [
    "text2.generate()"
   ]
  },
  {
   "cell_type": "code",
   "execution_count": null,
   "metadata": {},
   "outputs": [],
   "source": []
  }
 ],
 "metadata": {
  "kernelspec": {
   "display_name": "iisc",
   "language": "python",
   "name": "iisc"
  },
  "language_info": {
   "codemirror_mode": {
    "name": "ipython",
    "version": 3
   },
   "file_extension": ".py",
   "mimetype": "text/x-python",
   "name": "python",
   "nbconvert_exporter": "python",
   "pygments_lexer": "ipython3",
   "version": "3.9.15"
  }
 },
 "nbformat": 4,
 "nbformat_minor": 2
}
