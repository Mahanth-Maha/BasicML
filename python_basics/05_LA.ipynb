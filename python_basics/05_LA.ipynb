{
 "cells": [
  {
   "cell_type": "code",
   "execution_count": 35,
   "metadata": {},
   "outputs": [],
   "source": [
    "import pandas as pd \n",
    "import numpy as np \n",
    "import matplotlib.pyplot as plt\n",
    "import seaborn as sns\n",
    "from sklearn.model_selection import train_test_split \n",
    "import scipy as sp\n",
    "import sympy as sym\n"
   ]
  },
  {
   "cell_type": "code",
   "execution_count": 36,
   "metadata": {},
   "outputs": [],
   "source": [
    "sym.init_printing()"
   ]
  },
  {
   "cell_type": "markdown",
   "metadata": {},
   "source": [
    "for \n",
    "$$ \n",
    "\\begin{align*}\n",
    "s + t & = 2\\\\\n",
    "s + 2t &= 3\n",
    "\\end{align*}\n",
    "$$\n",
    "$$\n",
    "\\begin{bmatrix}\n",
    "1 & 1 & | 2\\\\\n",
    "1 & 2 & | 3\n",
    "\\end{bmatrix}\n",
    "$$"
   ]
  },
  {
   "cell_type": "code",
   "execution_count": 37,
   "metadata": {},
   "outputs": [
    {
     "data": {
      "image/png": "[encoded data removed]",
      "text/latex": [
       "$\\displaystyle \\left( \\left[\\begin{matrix}1 & 0 & \\frac{7}{3}\\\\0 & 1 & \\frac{1}{3}\\end{matrix}\\right], \\  \\left( 0, \\  1\\right)\\right)$"
      ],
      "text/plain": [
       "⎛⎡1  0  7/3⎤        ⎞\n",
       "⎜⎢         ⎥, (0, 1)⎟\n",
       "⎝⎣0  1  1/3⎦        ⎠"
      ]
     },
     "execution_count": 37,
     "metadata": {},
     "output_type": "execute_result"
    }
   ],
   "source": [
    "A = np.array([[1,-1,2],[1,2,3]] )\n",
    "A = sym.Matrix(2,3,A.flatten())\n",
    "A.rref()"
   ]
  },
  {
   "cell_type": "markdown",
   "metadata": {},
   "source": [
    "hence s = $\\frac{7}{3}$ and t = $\\frac{1}{3}$"
   ]
  },
  {
   "cell_type": "code",
   "execution_count": 38,
   "metadata": {},
   "outputs": [
    {
     "data": {
      "image/png": "[encoded data removed]",
      "text/latex": [
       "$\\displaystyle \\left[\\begin{matrix}-1 & -1 & 1\\\\-3 & -1 & 2\\\\7 & 4 & -5\\end{matrix}\\right]$"
      ],
      "text/plain": [
       "⎡-1  -1  1 ⎤\n",
       "⎢          ⎥\n",
       "⎢-3  -1  2 ⎥\n",
       "⎢          ⎥\n",
       "⎣7   4   -5⎦"
      ]
     },
     "execution_count": 38,
     "metadata": {},
     "output_type": "execute_result"
    }
   ],
   "source": [
    "S1 = sym.Matrix(3,3,[3,1,1,1,2,1,5,3,2])\n",
    "S1_inv = None\n",
    "if S1.det() != 0:\n",
    "    S1_inv = S1.inv()\n",
    "S1_inv"
   ]
  },
  {
   "cell_type": "code",
   "execution_count": 39,
   "metadata": {},
   "outputs": [
    {
     "data": {
      "text/plain": [
       "array([[3., 1., 1.],\n",
       "       [1., 2., 1.],\n",
       "       [5., 3., 2.]])"
      ]
     },
     "execution_count": 39,
     "metadata": {},
     "output_type": "execute_result"
    },
    {
     "data": {
      "text/plain": [
       "array([[-1., -1.,  1.],\n",
       "       [-3., -1.,  2.],\n",
       "       [ 7.,  4., -5.]])"
      ]
     },
     "execution_count": 39,
     "metadata": {},
     "output_type": "execute_result"
    }
   ],
   "source": [
    "S1 = np.array(S1).astype(float)\n",
    "S1\n",
    "S1_inv = None\n",
    "if np.linalg.matrix_rank(S1) == S1.shape[0]:\n",
    "    S1_inv = np.linalg.inv(S1) \n",
    "S1_inv"
   ]
  },
  {
   "cell_type": "code",
   "execution_count": 40,
   "metadata": {},
   "outputs": [
    {
     "data": {
      "text/plain": [
       "EigResult(eigenvalues=array([3., 1.]), eigenvectors=array([[ 1.        , -0.4472136 ],\n",
       "       [ 0.        ,  0.89442719]]))"
      ]
     },
     "execution_count": 40,
     "metadata": {},
     "output_type": "execute_result"
    },
    {
     "data": {
      "image/png": "[encoded data removed]",
      "text/latex": [
       "$\\displaystyle \\left[ \\left( 1, \\  1, \\  \\left[ \\left[\\begin{matrix}- \\frac{1}{2}\\\\1\\end{matrix}\\right]\\right]\\right), \\  \\left( 3, \\  1, \\  \\left[ \\left[\\begin{matrix}1\\\\0\\end{matrix}\\right]\\right]\\right)\\right]$"
      ],
      "text/plain": [
       "⎡⎛      ⎡⎡-1/2⎤⎤⎞  ⎛      ⎡⎡1⎤⎤⎞⎤\n",
       "⎢⎜1, 1, ⎢⎢    ⎥⎥⎟, ⎜3, 1, ⎢⎢ ⎥⎥⎟⎥\n",
       "⎣⎝      ⎣⎣ 1  ⎦⎦⎠  ⎝      ⎣⎣0⎦⎦⎠⎦"
      ]
     },
     "execution_count": 40,
     "metadata": {},
     "output_type": "execute_result"
    }
   ],
   "source": [
    "S2 = sym.Matrix(2,2,[3,1,0,1])\n",
    "S1 = np.array(S2).astype(float)\n",
    "np.linalg.eig(S1)\n",
    "S2.eigenvects()"
   ]
  },
  {
   "cell_type": "code",
   "execution_count": 41,
   "metadata": {},
   "outputs": [
    {
     "data": {
      "text/plain": [
       "(array([[1.        , 0.11068573],\n",
       "        [0.11068573, 1.        ]]),\n",
       " 0.11068573118123137)"
      ]
     },
     "execution_count": 41,
     "metadata": {},
     "output_type": "execute_result"
    }
   ],
   "source": [
    "x = np.array([1,-2,5,3,2,4,1,1,8,-5,4,-2,3,4,5,2,6])\n",
    "y = np.array([1,-2,5,3,4,4,-2,1,8,5,-4,2,3,4,5,5,6])\n",
    "x = np.random.permutation(x)\n",
    "y = np.random.permutation(y)\n",
    "corr = np.corrcoef(x,y)\n",
    "corr_ = np.sum((x - np.mean(x))*(y - np.mean(y)))/(np.sqrt(np.sum((x - np.mean(x))**2)*np.sum((y - np.mean(y))**2)))\n",
    "corr, corr_"
   ]
  },
  {
   "cell_type": "code",
   "execution_count": null,
   "metadata": {},
   "outputs": [],
   "source": [
    " "
   ]
  }
 ],
 "metadata": {
  "kernelspec": {
   "display_name": "iisc",
   "language": "python",
   "name": "iisc"
  },
  "language_info": {
   "codemirror_mode": {
    "name": "ipython",
    "version": 3
   },
   "file_extension": ".py",
   "mimetype": "text/x-python",
   "name": "python",
   "nbconvert_exporter": "python",
   "pygments_lexer": "ipython3",
   "version": "3.9.15"
  }
 },
 "nbformat": 4,
 "nbformat_minor": 2
}
