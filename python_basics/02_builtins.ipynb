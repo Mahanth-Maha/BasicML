{
 "cells": [
  {
   "cell_type": "markdown",
   "metadata": {},
   "source": [
    "## abs"
   ]
  },
  {
   "cell_type": "code",
   "execution_count": 1,
   "metadata": {},
   "outputs": [
    {
     "data": {
      "text/plain": [
       "2"
      ]
     },
     "execution_count": 1,
     "metadata": {},
     "output_type": "execute_result"
    },
    {
     "data": {
      "text/plain": [
       "2.34"
      ]
     },
     "execution_count": 1,
     "metadata": {},
     "output_type": "execute_result"
    },
    {
     "data": {
      "text/plain": [
       "11.40175425099138"
      ]
     },
     "execution_count": 1,
     "metadata": {},
     "output_type": "execute_result"
    }
   ],
   "source": [
    "abs(2)\n",
    "abs(-2.34)\n",
    "abs(7 + 9j) # | 7 + 9j | = sqrt(7^2 + 9^2) = sqrt(130) = 11.40175425099138"
   ]
  },
  {
   "cell_type": "markdown",
   "metadata": {},
   "source": [
    "## all"
   ]
  },
  {
   "cell_type": "markdown",
   "metadata": {},
   "source": [
    "```def all(iterable):\n",
    "    for element in iterable:\n",
    "        if not element:\n",
    "            return False\n",
    "    return True\n",
    "```"
   ]
  },
  {
   "cell_type": "code",
   "execution_count": 2,
   "metadata": {},
   "outputs": [
    {
     "data": {
      "text/plain": [
       "False"
      ]
     },
     "execution_count": 2,
     "metadata": {},
     "output_type": "execute_result"
    },
    {
     "data": {
      "text/plain": [
       "True"
      ]
     },
     "execution_count": 2,
     "metadata": {},
     "output_type": "execute_result"
    },
    {
     "data": {
      "text/plain": [
       "False"
      ]
     },
     "execution_count": 2,
     "metadata": {},
     "output_type": "execute_result"
    },
    {
     "data": {
      "text/plain": [
       "True"
      ]
     },
     "execution_count": 2,
     "metadata": {},
     "output_type": "execute_result"
    }
   ],
   "source": [
    "def isPrime(n):\n",
    "    if n < 2:\n",
    "        return False\n",
    "    for i in range(2, n):\n",
    "        if n % i == 0:\n",
    "            return False\n",
    "    return True\n",
    "l1 = [1, 2, 3, 4, 5]\n",
    "l2 = [2,3,5,7,11,13,17,19,23,29]\n",
    "l3 = [4,6,8,9,10,12,14,15,16,18,20]\n",
    "all([isPrime(x) for x in l1]) \n",
    "all([isPrime(x) for x in l2])\n",
    "all([isPrime(x) for x in l3])\n",
    "all([])  # True for EMpty List"
   ]
  },
  {
   "cell_type": "markdown",
   "metadata": {},
   "source": [
    "## any"
   ]
  },
  {
   "cell_type": "markdown",
   "metadata": {},
   "source": [
    "```def any(iterable):\n",
    "    for element in iterable:\n",
    "        if element:\n",
    "            return True\n",
    "    return False\n",
    "```"
   ]
  },
  {
   "cell_type": "code",
   "execution_count": 3,
   "metadata": {},
   "outputs": [
    {
     "data": {
      "text/plain": [
       "True"
      ]
     },
     "execution_count": 3,
     "metadata": {},
     "output_type": "execute_result"
    },
    {
     "data": {
      "text/plain": [
       "True"
      ]
     },
     "execution_count": 3,
     "metadata": {},
     "output_type": "execute_result"
    },
    {
     "data": {
      "text/plain": [
       "False"
      ]
     },
     "execution_count": 3,
     "metadata": {},
     "output_type": "execute_result"
    },
    {
     "data": {
      "text/plain": [
       "False"
      ]
     },
     "execution_count": 3,
     "metadata": {},
     "output_type": "execute_result"
    }
   ],
   "source": [
    "any([isPrime(x) for x in l1]) \n",
    "any([isPrime(x) for x in l2])\n",
    "any([isPrime(x) for x in l3])\n",
    "any([])  # False for EMpty List"
   ]
  },
  {
   "cell_type": "markdown",
   "metadata": {},
   "source": [
    "## ascii"
   ]
  },
  {
   "cell_type": "code",
   "execution_count": 4,
   "metadata": {},
   "outputs": [
    {
     "data": {
      "text/plain": [
       "(\"'EMoji \\\\U0001f972 198247 \\\\U0001f44f movie 983@^*&(!) \\\\U0001f3ac\\\\U0001f4af\\\\U0001f525 KISSIK : \\\\U0001f933 KISS KISS KISS... KISSIK \\\\U0001f4f8\\\\U0001f60a\\\\U0001f602 ^%+_}|{}``~~'\",\n",
       " str)"
      ]
     },
     "execution_count": 4,
     "metadata": {},
     "output_type": "execute_result"
    }
   ],
   "source": [
    "my_s = \"EMoji 🥲 198247 👏 movie 983@^*&(!) 🎬💯🔥 KISSIK : 🤳 KISS KISS KISS... KISSIK 📸😊😂 ^%+_}|{}``~~\"\n",
    "asci_my_s = ascii(my_s)\n",
    "asci_my_s , type(asci_my_s )"
   ]
  },
  {
   "cell_type": "markdown",
   "metadata": {},
   "source": [
    "## bin"
   ]
  },
  {
   "cell_type": "code",
   "execution_count": 5,
   "metadata": {},
   "outputs": [
    {
     "data": {
      "text/plain": [
       "('0b100', '-0b11000')"
      ]
     },
     "execution_count": 5,
     "metadata": {},
     "output_type": "execute_result"
    }
   ],
   "source": [
    "bin(4) , bin(-24)"
   ]
  },
  {
   "cell_type": "code",
   "execution_count": 6,
   "metadata": {},
   "outputs": [
    {
     "data": {
      "text/plain": [
       "('0b110011', '0b110011', '0b110011', '0b110011')"
      ]
     },
     "execution_count": 6,
     "metadata": {},
     "output_type": "execute_result"
    }
   ],
   "source": [
    "bin(0x33), bin(0b110011), bin(0o63), bin(51) # 0x33 = 0b110011 = 0o63 = 51"
   ]
  },
  {
   "cell_type": "markdown",
   "metadata": {},
   "source": [
    "## oct"
   ]
  },
  {
   "cell_type": "code",
   "execution_count": 7,
   "metadata": {},
   "outputs": [
    {
     "data": {
      "text/plain": [
       "('0o4', '-0o30')"
      ]
     },
     "execution_count": 7,
     "metadata": {},
     "output_type": "execute_result"
    }
   ],
   "source": [
    "oct(4) , oct(-24)"
   ]
  },
  {
   "cell_type": "code",
   "execution_count": 8,
   "metadata": {},
   "outputs": [
    {
     "data": {
      "text/plain": [
       "('0o63', '0o63', '0o63', '0o63')"
      ]
     },
     "execution_count": 8,
     "metadata": {},
     "output_type": "execute_result"
    }
   ],
   "source": [
    "oct(0x33), oct(0b110011), oct(0o63), oct(51) # 0x33 = 0b110011 = 0o63 = 51"
   ]
  },
  {
   "cell_type": "markdown",
   "metadata": {},
   "source": [
    "## hex"
   ]
  },
  {
   "cell_type": "code",
   "execution_count": 9,
   "metadata": {},
   "outputs": [
    {
     "data": {
      "text/plain": [
       "('0x4', '-0x18')"
      ]
     },
     "execution_count": 9,
     "metadata": {},
     "output_type": "execute_result"
    }
   ],
   "source": [
    "hex(4) , hex(-24)"
   ]
  },
  {
   "cell_type": "code",
   "execution_count": 10,
   "metadata": {},
   "outputs": [
    {
     "data": {
      "text/plain": [
       "('0x33', '0x33', '0x33', '0x33')"
      ]
     },
     "execution_count": 10,
     "metadata": {},
     "output_type": "execute_result"
    }
   ],
   "source": [
    "hex(0x33), hex(0b110011), hex(0o63), hex(51) # 0x33 = 0b110011 = 0o63 = 51"
   ]
  },
  {
   "cell_type": "code",
   "execution_count": 11,
   "metadata": {},
   "outputs": [
    {
     "data": {
      "text/plain": [
       "(str, str, str)"
      ]
     },
     "execution_count": 11,
     "metadata": {},
     "output_type": "execute_result"
    }
   ],
   "source": [
    "type(bin(4)), type(oct(4)), type(hex(4)) "
   ]
  },
  {
   "cell_type": "code",
   "execution_count": 12,
   "metadata": {},
   "outputs": [],
   "source": [
    "# oct(bin(4)) # ERROR"
   ]
  },
  {
   "cell_type": "markdown",
   "metadata": {},
   "source": [
    "## format"
   ]
  },
  {
   "cell_type": "code",
   "execution_count": 13,
   "metadata": {},
   "outputs": [
    {
     "data": {
      "text/plain": [
       "'0b11000'"
      ]
     },
     "execution_count": 13,
     "metadata": {},
     "output_type": "execute_result"
    },
    {
     "data": {
      "text/plain": [
       "'11000'"
      ]
     },
     "execution_count": 13,
     "metadata": {},
     "output_type": "execute_result"
    }
   ],
   "source": [
    "format(24, '#b')\n",
    "format(24, 'b')"
   ]
  },
  {
   "cell_type": "code",
   "execution_count": 14,
   "metadata": {},
   "outputs": [
    {
     "data": {
      "text/plain": [
       "'0o30'"
      ]
     },
     "execution_count": 14,
     "metadata": {},
     "output_type": "execute_result"
    },
    {
     "data": {
      "text/plain": [
       "'30'"
      ]
     },
     "execution_count": 14,
     "metadata": {},
     "output_type": "execute_result"
    }
   ],
   "source": [
    "format(24, '#o')\n",
    "format(24, 'o')"
   ]
  },
  {
   "cell_type": "code",
   "execution_count": 15,
   "metadata": {},
   "outputs": [
    {
     "data": {
      "text/plain": [
       "'0x18'"
      ]
     },
     "execution_count": 15,
     "metadata": {},
     "output_type": "execute_result"
    },
    {
     "data": {
      "text/plain": [
       "'18'"
      ]
     },
     "execution_count": 15,
     "metadata": {},
     "output_type": "execute_result"
    },
    {
     "data": {
      "text/plain": [
       "'0X18'"
      ]
     },
     "execution_count": 15,
     "metadata": {},
     "output_type": "execute_result"
    },
    {
     "data": {
      "text/plain": [
       "'18'"
      ]
     },
     "execution_count": 15,
     "metadata": {},
     "output_type": "execute_result"
    }
   ],
   "source": [
    "format(24, '#x')\n",
    "format(24, 'x')\n",
    "format(24, '#X')\n",
    "format(24, 'X')"
   ]
  },
  {
   "cell_type": "code",
   "execution_count": 16,
   "metadata": {},
   "outputs": [
    {
     "data": {
      "text/plain": [
       "'\\x18'"
      ]
     },
     "execution_count": 16,
     "metadata": {},
     "output_type": "execute_result"
    },
    {
     "data": {
      "text/plain": [
       "'24'"
      ]
     },
     "execution_count": 16,
     "metadata": {},
     "output_type": "execute_result"
    },
    {
     "data": {
      "text/plain": [
       "'2.400000e+01'"
      ]
     },
     "execution_count": 16,
     "metadata": {},
     "output_type": "execute_result"
    },
    {
     "data": {
      "text/plain": [
       "'2.400000E+01'"
      ]
     },
     "execution_count": 16,
     "metadata": {},
     "output_type": "execute_result"
    },
    {
     "data": {
      "text/plain": [
       "'24.000000'"
      ]
     },
     "execution_count": 16,
     "metadata": {},
     "output_type": "execute_result"
    },
    {
     "data": {
      "text/plain": [
       "'24.000000'"
      ]
     },
     "execution_count": 16,
     "metadata": {},
     "output_type": "execute_result"
    },
    {
     "data": {
      "text/plain": [
       "'24'"
      ]
     },
     "execution_count": 16,
     "metadata": {},
     "output_type": "execute_result"
    },
    {
     "data": {
      "text/plain": [
       "'24'"
      ]
     },
     "execution_count": 16,
     "metadata": {},
     "output_type": "execute_result"
    },
    {
     "data": {
      "text/plain": [
       "'24'"
      ]
     },
     "execution_count": 16,
     "metadata": {},
     "output_type": "execute_result"
    },
    {
     "data": {
      "text/plain": [
       "'2400.000000%'"
      ]
     },
     "execution_count": 16,
     "metadata": {},
     "output_type": "execute_result"
    }
   ],
   "source": [
    "format(24, 'c')\n",
    "format(24, 'd')\n",
    "format(24, 'e')\n",
    "format(24, 'E')\n",
    "format(24, 'f')\n",
    "format(24, 'F')\n",
    "format(24, 'g')\n",
    "format(24, 'G')\n",
    "format(24, 'n')\n",
    "format(24, '%')"
   ]
  },
  {
   "cell_type": "markdown",
   "metadata": {},
   "source": [
    "## BOOL"
   ]
  },
  {
   "cell_type": "markdown",
   "metadata": {},
   "source": [
    "Any thing is `True` except these ... (`False` List):\n",
    "*    0\n",
    "*    0.0\n",
    "*    0j\n",
    "*    ''\n",
    "*    []\n",
    "*    ()\n",
    "*    {}\n",
    "*    set()\n",
    "*    None\n",
    "*    False"
   ]
  },
  {
   "cell_type": "code",
   "execution_count": 17,
   "metadata": {},
   "outputs": [
    {
     "data": {
      "text/plain": [
       "(False, False, False, False, False, False)"
      ]
     },
     "execution_count": 17,
     "metadata": {},
     "output_type": "execute_result"
    },
    {
     "data": {
      "text/plain": [
       "(True, True, True, True, True, True)"
      ]
     },
     "execution_count": 17,
     "metadata": {},
     "output_type": "execute_result"
    }
   ],
   "source": [
    "bool(0), bool(0.0), bool(0j), bool(0+0j), bool(0.0+0.0j), bool(0.0+0j)\n",
    "bool(1), bool(0.000001), bool(1j), bool(1+0j), bool(0.0+0.1j), bool(1.0+0j)"
   ]
  },
  {
   "cell_type": "markdown",
   "metadata": {},
   "source": [
    "## breakpoint"
   ]
  },
  {
   "cell_type": "code",
   "execution_count": 19,
   "metadata": {},
   "outputs": [
    {
     "data": {
      "text/plain": [
       "(2.4484684018774328, 1.3808867709499106)"
      ]
     },
     "execution_count": 19,
     "metadata": {},
     "output_type": "execute_result"
    }
   ],
   "source": [
    "# enters to pdb\n",
    "\n",
    "import numpy as np\n",
    "\n",
    "def gradient_descent(learning_rate, max_iter, x, y):\n",
    "    m = 0\n",
    "    b = 0\n",
    "    n = len(x)\n",
    "    for i in range(max_iter):\n",
    "        y_pred = m * x + b\n",
    "        cost = (1/n) * sum([val**2 for val in (y - y_pred)])\n",
    "        md = -(2/n) * sum(x * (y - y_pred))\n",
    "        bd = -(2/n) * sum(y - y_pred)\n",
    "        m = m - learning_rate * md\n",
    "        b = b - learning_rate * bd\n",
    "        # print(f\"Iteration {i+1} : m = {m}, b = {b}, cost = {cost}\")\n",
    "        if i == 25:\n",
    "            # import pdb; pdb.set_trace()\n",
    "            # breakpoint()\n",
    "            pass\n",
    "    return m, b\n",
    "gradient_descent(0.01, 100, np.array([1,2,3,4,5]), np.array([5,7,9,11,13]))"
   ]
  },
  {
   "cell_type": "markdown",
   "metadata": {},
   "source": [
    "## Bytes & Bytearray"
   ]
  },
  {
   "cell_type": "code",
   "execution_count": 22,
   "metadata": {},
   "outputs": [
    {
     "data": {
      "text/plain": [
       "b'Maha'"
      ]
     },
     "execution_count": 22,
     "metadata": {},
     "output_type": "execute_result"
    },
    {
     "data": {
      "text/plain": [
       "b'Maha'"
      ]
     },
     "execution_count": 22,
     "metadata": {},
     "output_type": "execute_result"
    },
    {
     "data": {
      "text/plain": [
       "b'\\xff\\xfeM\\x00a\\x00h\\x00a\\x00'"
      ]
     },
     "execution_count": 22,
     "metadata": {},
     "output_type": "execute_result"
    },
    {
     "data": {
      "text/plain": [
       "b'\\xff\\xfe\\x00\\x00M\\x00\\x00\\x00a\\x00\\x00\\x00h\\x00\\x00\\x00a\\x00\\x00\\x00'"
      ]
     },
     "execution_count": 22,
     "metadata": {},
     "output_type": "execute_result"
    }
   ],
   "source": [
    "bytes('Maha', 'ASCII')\n",
    "bytes('Maha', 'UTF-8')\n",
    "bytes('Maha', 'UTF-16')\n",
    "bytes('Maha', 'UTF-32')"
   ]
  },
  {
   "cell_type": "code",
   "execution_count": 26,
   "metadata": {},
   "outputs": [
    {
     "data": {
      "text/plain": [
       "bytearray(b'Maha')"
      ]
     },
     "execution_count": 26,
     "metadata": {},
     "output_type": "execute_result"
    },
    {
     "data": {
      "text/plain": [
       "bytearray(b'Maha')"
      ]
     },
     "execution_count": 26,
     "metadata": {},
     "output_type": "execute_result"
    },
    {
     "data": {
      "text/plain": [
       "bytearray(b'\\x01\\x02\\x03\\x04\\x05\\x06\\x07\\x08\\t\\n')"
      ]
     },
     "execution_count": 26,
     "metadata": {},
     "output_type": "execute_result"
    },
    {
     "data": {
      "text/plain": [
       "bytearray(b'\\x01\\x02\\x03\\x04\\x05\\x06\\x07\\x08\\t\\n\\x0b')"
      ]
     },
     "execution_count": 26,
     "metadata": {},
     "output_type": "execute_result"
    }
   ],
   "source": [
    "bytearray('Maha', 'ASCII')\n",
    "bytearray('Maha', 'UTF-8')\n",
    "\n",
    "b = bytearray([1,2,3,4,5,6,7,8,9,10])\n",
    "b\n",
    "b.append(11)\n",
    "b"
   ]
  },
  {
   "cell_type": "code",
   "execution_count": 29,
   "metadata": {},
   "outputs": [
    {
     "data": {
      "text/plain": [
       "bytearray(b'\\x0b\\n\\t\\x08\\x07\\x06\\x05\\x04\\x03\\x02\\x01')"
      ]
     },
     "execution_count": 29,
     "metadata": {},
     "output_type": "execute_result"
    }
   ],
   "source": [
    "b.reverse()\n",
    "b"
   ]
  },
  {
   "cell_type": "code",
   "execution_count": 31,
   "metadata": {},
   "outputs": [
    {
     "data": {
      "text/plain": [
       "b'\\x00\\x00\\x00\\x00\\x00'"
      ]
     },
     "execution_count": 31,
     "metadata": {},
     "output_type": "execute_result"
    },
    {
     "data": {
      "text/plain": [
       "bytearray(b'\\x00\\x00\\x00\\x00\\x00')"
      ]
     },
     "execution_count": 31,
     "metadata": {},
     "output_type": "execute_result"
    }
   ],
   "source": [
    "# create 5 byte space\n",
    "bytes(5)\n",
    "bytearray(5)\n"
   ]
  },
  {
   "cell_type": "markdown",
   "metadata": {},
   "source": [
    "## Callable"
   ]
  },
  {
   "cell_type": "code",
   "execution_count": 33,
   "metadata": {},
   "outputs": [
    {
     "data": {
      "text/plain": [
       "True"
      ]
     },
     "execution_count": 33,
     "metadata": {},
     "output_type": "execute_result"
    },
    {
     "data": {
      "text/plain": [
       "True"
      ]
     },
     "execution_count": 33,
     "metadata": {},
     "output_type": "execute_result"
    },
    {
     "data": {
      "text/plain": [
       "True"
      ]
     },
     "execution_count": 33,
     "metadata": {},
     "output_type": "execute_result"
    },
    {
     "data": {
      "text/plain": [
       "True"
      ]
     },
     "execution_count": 33,
     "metadata": {},
     "output_type": "execute_result"
    },
    {
     "data": {
      "text/plain": [
       "True"
      ]
     },
     "execution_count": 33,
     "metadata": {},
     "output_type": "execute_result"
    },
    {
     "data": {
      "text/plain": [
       "False"
      ]
     },
     "execution_count": 33,
     "metadata": {},
     "output_type": "execute_result"
    },
    {
     "data": {
      "text/plain": [
       "False"
      ]
     },
     "execution_count": 33,
     "metadata": {},
     "output_type": "execute_result"
    }
   ],
   "source": [
    "callable(print)\n",
    "callable(isPrime)\n",
    "callable(int)\n",
    "callable(str)\n",
    "callable(type)\n",
    "callable('hey')\n",
    "callable('hey'.upper())"
   ]
  },
  {
   "cell_type": "code",
   "execution_count": 35,
   "metadata": {},
   "outputs": [
    {
     "data": {
      "text/plain": [
       "True"
      ]
     },
     "execution_count": 35,
     "metadata": {},
     "output_type": "execute_result"
    },
    {
     "data": {
      "text/plain": [
       "True"
      ]
     },
     "execution_count": 35,
     "metadata": {},
     "output_type": "execute_result"
    }
   ],
   "source": [
    "callable(callable)\n",
    "callable(bool)"
   ]
  },
  {
   "cell_type": "code",
   "execution_count": 36,
   "metadata": {},
   "outputs": [
    {
     "data": {
      "text/plain": [
       "False"
      ]
     },
     "execution_count": 36,
     "metadata": {},
     "output_type": "execute_result"
    },
    {
     "data": {
      "text/plain": [
       "True"
      ]
     },
     "execution_count": 36,
     "metadata": {},
     "output_type": "execute_result"
    },
    {
     "data": {
      "text/plain": [
       "False"
      ]
     },
     "execution_count": 36,
     "metadata": {},
     "output_type": "execute_result"
    },
    {
     "data": {
      "text/plain": [
       "True"
      ]
     },
     "execution_count": 36,
     "metadata": {},
     "output_type": "execute_result"
    }
   ],
   "source": [
    "callable([])\n",
    "callable(list)\n",
    "callable({})\n",
    "callable(dict)"
   ]
  },
  {
   "cell_type": "markdown",
   "metadata": {},
   "source": [
    "## chr  & ord"
   ]
  },
  {
   "cell_type": "code",
   "execution_count": 42,
   "metadata": {},
   "outputs": [
    {
     "data": {
      "text/plain": [
       "('^', 94, 94, '^')"
      ]
     },
     "execution_count": 42,
     "metadata": {},
     "output_type": "execute_result"
    }
   ],
   "source": [
    "chr(94) , ord('^') , ord(chr(94)) , chr(ord('^'))"
   ]
  },
  {
   "cell_type": "code",
   "execution_count": 50,
   "metadata": {},
   "outputs": [
    {
     "data": {
      "text/plain": [
       "'\\U0010ffff'"
      ]
     },
     "execution_count": 50,
     "metadata": {},
     "output_type": "execute_result"
    }
   ],
   "source": [
    "# valid range of chr is 0 to 1114111 (0x10FFFF in base 16)\n",
    "chr(1114111)"
   ]
  },
  {
   "cell_type": "code",
   "execution_count": 53,
   "metadata": {},
   "outputs": [
    {
     "data": {
      "text/plain": [
       "'ة'"
      ]
     },
     "execution_count": 53,
     "metadata": {},
     "output_type": "execute_result"
    }
   ],
   "source": [
    "chr(1577) # some arabic char"
   ]
  },
  {
   "cell_type": "markdown",
   "metadata": {},
   "source": [
    "## compile"
   ]
  },
  {
   "cell_type": "markdown",
   "metadata": {},
   "source": [
    "returns AST object, which can be executed by `exec()` or `eval()`\n",
    "\n",
    "compile(src, fn , mode)\n",
    "\n",
    "source : string\n",
    "\n",
    "filename : -\n",
    "\n",
    "mode : exec / eval / single "
   ]
  },
  {
   "cell_type": "code",
   "execution_count": 54,
   "metadata": {},
   "outputs": [
    {
     "data": {
      "text/plain": [
       "<code object <module> at 0x0000019B7BF062F0, file \"test\", line 1>"
      ]
     },
     "execution_count": 54,
     "metadata": {},
     "output_type": "execute_result"
    }
   ],
   "source": [
    "# exec\n",
    "\n",
    "e1 = compile('print(\"Hello World\")', 'test_exec', 'exec')\n",
    "e1"
   ]
  },
  {
   "cell_type": "code",
   "execution_count": 55,
   "metadata": {},
   "outputs": [
    {
     "name": "stdout",
     "output_type": "stream",
     "text": [
      "Hello World\n"
     ]
    }
   ],
   "source": [
    "eval(e1)"
   ]
  },
  {
   "cell_type": "code",
   "execution_count": 57,
   "metadata": {},
   "outputs": [
    {
     "name": "stdout",
     "output_type": "stream",
     "text": [
      "Hello World\n",
      "Hello World\n"
     ]
    }
   ],
   "source": [
    "e2 = compile('print(\"Hello World\")', 'test_eval', 'eval')\n",
    "eval(e2)\n",
    "exec(e2)"
   ]
  },
  {
   "cell_type": "code",
   "execution_count": 59,
   "metadata": {},
   "outputs": [
    {
     "name": "stdout",
     "output_type": "stream",
     "text": [
      "Hello World 20\n"
     ]
    }
   ],
   "source": [
    "e3 = compile('print(f\"Hello World {20}\")', 'test_single', 'single')\n",
    "exec(e3)"
   ]
  },
  {
   "cell_type": "code",
   "execution_count": 62,
   "metadata": {},
   "outputs": [
    {
     "name": "stdout",
     "output_type": "stream",
     "text": [
      "0\n",
      "1\n",
      "1\n",
      "2\n",
      "3\n",
      "5\n",
      "8\n",
      "13\n",
      "21\n",
      "34\n"
     ]
    }
   ],
   "source": [
    "src_code_fibanocci_10 = 'f0 = 0\\nf1 = 1\\nfor i in range(10):\\n\\tprint(f0)\\n\\tf0, f1 = f1, f0+f1'\n",
    "ast_code = compile(src_code_fibanocci_10, 'test_fib', 'exec')\n",
    "eval(ast_code)"
   ]
  },
  {
   "cell_type": "markdown",
   "metadata": {},
   "source": [
    "## complex()"
   ]
  },
  {
   "cell_type": "code",
   "execution_count": 65,
   "metadata": {},
   "outputs": [
    {
     "data": {
      "text/plain": [
       "0j"
      ]
     },
     "execution_count": 65,
     "metadata": {},
     "output_type": "execute_result"
    },
    {
     "data": {
      "text/plain": [
       "(1+0j)"
      ]
     },
     "execution_count": 65,
     "metadata": {},
     "output_type": "execute_result"
    },
    {
     "data": {
      "text/plain": [
       "(1+2j)"
      ]
     },
     "execution_count": 65,
     "metadata": {},
     "output_type": "execute_result"
    }
   ],
   "source": [
    "complex()\n",
    "complex(1)\n",
    "complex(1,2)"
   ]
  },
  {
   "cell_type": "code",
   "execution_count": 68,
   "metadata": {},
   "outputs": [
    {
     "data": {
      "text/plain": [
       "(3+3j)"
      ]
     },
     "execution_count": 68,
     "metadata": {},
     "output_type": "execute_result"
    },
    {
     "data": {
      "text/plain": [
       "1.0"
      ]
     },
     "execution_count": 68,
     "metadata": {},
     "output_type": "execute_result"
    },
    {
     "data": {
      "text/plain": [
       "2.0"
      ]
     },
     "execution_count": 68,
     "metadata": {},
     "output_type": "execute_result"
    },
    {
     "data": {
      "text/plain": [
       "(1-2j)"
      ]
     },
     "execution_count": 68,
     "metadata": {},
     "output_type": "execute_result"
    },
    {
     "data": {
      "text/plain": [
       "(5+0j)"
      ]
     },
     "execution_count": 68,
     "metadata": {},
     "output_type": "execute_result"
    }
   ],
   "source": [
    "a,b = complex(1,2), complex(2,1)\n",
    "a+b\n",
    "a.real\n",
    "a.imag\n",
    "a.conjugate()\n",
    "a.conjugate()*a"
   ]
  },
  {
   "cell_type": "markdown",
   "metadata": {},
   "source": [
    "## dir"
   ]
  },
  {
   "cell_type": "code",
   "execution_count": 70,
   "metadata": {},
   "outputs": [
    {
     "data": {
      "text/plain": [
       "['In',\n",
       " 'InteractiveShell',\n",
       " 'Out',\n",
       " '_',\n",
       " '_1',\n",
       " '_10',\n",
       " '_11',\n",
       " '_13',\n",
       " '_14',\n",
       " '_15',\n",
       " '_16',\n",
       " '_17',\n",
       " '_18',\n",
       " '_19',\n",
       " '_2',\n",
       " '_21',\n",
       " '_22',\n",
       " '_23',\n",
       " '_24',\n",
       " '_25',\n",
       " '_26',\n",
       " '_28',\n",
       " '_29',\n",
       " '_3',\n",
       " '_30',\n",
       " '_31',\n",
       " '_32',\n",
       " '_33',\n",
       " '_34',\n",
       " '_35',\n",
       " '_36',\n",
       " '_38',\n",
       " '_39',\n",
       " '_4',\n",
       " '_40',\n",
       " '_41',\n",
       " '_42',\n",
       " '_44',\n",
       " '_46',\n",
       " '_47',\n",
       " '_48',\n",
       " '_49',\n",
       " '_5',\n",
       " '_50',\n",
       " '_51',\n",
       " '_52',\n",
       " '_53',\n",
       " '_54',\n",
       " '_6',\n",
       " '_61',\n",
       " '_63',\n",
       " '_64',\n",
       " '_65',\n",
       " '_66',\n",
       " '_67',\n",
       " '_68',\n",
       " '_69',\n",
       " '_7',\n",
       " '_8',\n",
       " '_9',\n",
       " '__',\n",
       " '___',\n",
       " '__builtin__',\n",
       " '__builtins__',\n",
       " '__doc__',\n",
       " '__loader__',\n",
       " '__name__',\n",
       " '__package__',\n",
       " '__spec__',\n",
       " '__vsc_ipynb_file__',\n",
       " '_dh',\n",
       " '_i',\n",
       " '_i1',\n",
       " '_i10',\n",
       " '_i11',\n",
       " '_i12',\n",
       " '_i13',\n",
       " '_i14',\n",
       " '_i15',\n",
       " '_i16',\n",
       " '_i17',\n",
       " '_i18',\n",
       " '_i19',\n",
       " '_i2',\n",
       " '_i20',\n",
       " '_i21',\n",
       " '_i22',\n",
       " '_i23',\n",
       " '_i24',\n",
       " '_i25',\n",
       " '_i26',\n",
       " '_i27',\n",
       " '_i28',\n",
       " '_i29',\n",
       " '_i3',\n",
       " '_i30',\n",
       " '_i31',\n",
       " '_i32',\n",
       " '_i33',\n",
       " '_i34',\n",
       " '_i35',\n",
       " '_i36',\n",
       " '_i37',\n",
       " '_i38',\n",
       " '_i39',\n",
       " '_i4',\n",
       " '_i40',\n",
       " '_i41',\n",
       " '_i42',\n",
       " '_i43',\n",
       " '_i44',\n",
       " '_i45',\n",
       " '_i46',\n",
       " '_i47',\n",
       " '_i48',\n",
       " '_i49',\n",
       " '_i5',\n",
       " '_i50',\n",
       " '_i51',\n",
       " '_i52',\n",
       " '_i53',\n",
       " '_i54',\n",
       " '_i55',\n",
       " '_i56',\n",
       " '_i57',\n",
       " '_i58',\n",
       " '_i59',\n",
       " '_i6',\n",
       " '_i60',\n",
       " '_i61',\n",
       " '_i62',\n",
       " '_i63',\n",
       " '_i64',\n",
       " '_i65',\n",
       " '_i66',\n",
       " '_i67',\n",
       " '_i68',\n",
       " '_i69',\n",
       " '_i7',\n",
       " '_i70',\n",
       " '_i8',\n",
       " '_i9',\n",
       " '_ih',\n",
       " '_ii',\n",
       " '_iii',\n",
       " '_oh',\n",
       " 'a',\n",
       " 'asci_my_s',\n",
       " 'ast_code',\n",
       " 'b',\n",
       " 'e1',\n",
       " 'e2',\n",
       " 'e3',\n",
       " 'exit',\n",
       " 'f0',\n",
       " 'f1',\n",
       " 'get_ipython',\n",
       " 'gradient_descent',\n",
       " 'i',\n",
       " 'isPrime',\n",
       " 'l1',\n",
       " 'l2',\n",
       " 'l3',\n",
       " 'my_s',\n",
       " 'np',\n",
       " 'open',\n",
       " 'quit',\n",
       " 'src_code_fibanocci_10']"
      ]
     },
     "execution_count": 70,
     "metadata": {},
     "output_type": "execute_result"
    }
   ],
   "source": [
    "dir() # lists all active variables"
   ]
  },
  {
   "cell_type": "code",
   "execution_count": 72,
   "metadata": {},
   "outputs": [
    {
     "data": {
      "text/plain": [
       "['BPF',\n",
       " 'LOG4',\n",
       " 'NV_MAGICCONST',\n",
       " 'RECIP_BPF',\n",
       " 'Random',\n",
       " 'SG_MAGICCONST',\n",
       " 'SystemRandom',\n",
       " 'TWOPI',\n",
       " '_Sequence',\n",
       " '_Set',\n",
       " '__all__',\n",
       " '__builtins__',\n",
       " '__cached__',\n",
       " '__doc__',\n",
       " '__file__',\n",
       " '__loader__',\n",
       " '__name__',\n",
       " '__package__',\n",
       " '__spec__',\n",
       " '_accumulate',\n",
       " '_acos',\n",
       " '_bisect',\n",
       " '_ceil',\n",
       " '_cos',\n",
       " '_e',\n",
       " '_exp',\n",
       " '_floor',\n",
       " '_inst',\n",
       " '_log',\n",
       " '_os',\n",
       " '_pi',\n",
       " '_random',\n",
       " '_repeat',\n",
       " '_sha512',\n",
       " '_sin',\n",
       " '_sqrt',\n",
       " '_test',\n",
       " '_test_generator',\n",
       " '_urandom',\n",
       " '_warn',\n",
       " 'betavariate',\n",
       " 'choice',\n",
       " 'choices',\n",
       " 'expovariate',\n",
       " 'gammavariate',\n",
       " 'gauss',\n",
       " 'getrandbits',\n",
       " 'getstate',\n",
       " 'lognormvariate',\n",
       " 'normalvariate',\n",
       " 'paretovariate',\n",
       " 'randbytes',\n",
       " 'randint',\n",
       " 'random',\n",
       " 'randrange',\n",
       " 'sample',\n",
       " 'seed',\n",
       " 'setstate',\n",
       " 'shuffle',\n",
       " 'triangular',\n",
       " 'uniform',\n",
       " 'vonmisesvariate',\n",
       " 'weibullvariate']"
      ]
     },
     "execution_count": 72,
     "metadata": {},
     "output_type": "execute_result"
    }
   ],
   "source": [
    "import random as rd\n",
    "dir(rd)"
   ]
  },
  {
   "cell_type": "markdown",
   "metadata": {},
   "source": [
    "## divmod"
   ]
  },
  {
   "cell_type": "code",
   "execution_count": 75,
   "metadata": {},
   "outputs": [
    {
     "data": {
      "text/plain": [
       "((6, 1), '==', (6, 1))"
      ]
     },
     "execution_count": 75,
     "metadata": {},
     "output_type": "execute_result"
    }
   ],
   "source": [
    "a = 103\n",
    "b = 17\n",
    "divmod(a,b) , \"==\" , (a// b , a % b )"
   ]
  },
  {
   "cell_type": "markdown",
   "metadata": {},
   "source": [
    "## enumerate"
   ]
  },
  {
   "cell_type": "code",
   "execution_count": 78,
   "metadata": {},
   "outputs": [
    {
     "data": {
      "text/plain": [
       "[(0, 'Monday'),\n",
       " (1, 'Tuesday'),\n",
       " (2, 'Wednesday'),\n",
       " (3, 'Thursday'),\n",
       " (4, 'Friday'),\n",
       " (5, 'Saturday'),\n",
       " (6, 'Sunday')]"
      ]
     },
     "execution_count": 78,
     "metadata": {},
     "output_type": "execute_result"
    },
    {
     "data": {
      "text/plain": [
       "[(1, 'Monday'),\n",
       " (2, 'Tuesday'),\n",
       " (3, 'Wednesday'),\n",
       " (4, 'Thursday'),\n",
       " (5, 'Friday'),\n",
       " (6, 'Saturday'),\n",
       " (7, 'Sunday')]"
      ]
     },
     "execution_count": 78,
     "metadata": {},
     "output_type": "execute_result"
    }
   ],
   "source": [
    "weekdays = ['Monday', 'Tuesday', 'Wednesday', 'Thursday', 'Friday', 'Saturday', 'Sunday']\n",
    "list(enumerate(weekdays))\n",
    "list(enumerate(weekdays, start = 1))"
   ]
  },
  {
   "cell_type": "markdown",
   "metadata": {},
   "source": [
    "## filter"
   ]
  },
  {
   "cell_type": "code",
   "execution_count": 81,
   "metadata": {},
   "outputs": [
    {
     "data": {
      "text/plain": [
       "[2, 3, 5, 7, 11, 13, 17, 19]"
      ]
     },
     "execution_count": 81,
     "metadata": {},
     "output_type": "execute_result"
    }
   ],
   "source": [
    "list(filter(isPrime, range(1, 20))) # filters all the FALSEY values"
   ]
  },
  {
   "cell_type": "code",
   "execution_count": 82,
   "metadata": {},
   "outputs": [
    {
     "data": {
      "text/plain": [
       "[2, 4, 6, 8, 10, 12, 14, 16, 18]"
      ]
     },
     "execution_count": 82,
     "metadata": {},
     "output_type": "execute_result"
    }
   ],
   "source": [
    "list( filter(lambda x: x % 2 == 0, range(1, 20)) )"
   ]
  },
  {
   "cell_type": "markdown",
   "metadata": {},
   "source": [
    "## int"
   ]
  },
  {
   "cell_type": "code",
   "execution_count": 106,
   "metadata": {},
   "outputs": [
    {
     "data": {
      "text/plain": [
       "(5, 5)"
      ]
     },
     "execution_count": 106,
     "metadata": {},
     "output_type": "execute_result"
    }
   ],
   "source": [
    "int('5') , int(5.5)\n"
   ]
  },
  {
   "cell_type": "code",
   "execution_count": 107,
   "metadata": {},
   "outputs": [
    {
     "ename": "ValueError",
     "evalue": "invalid literal for int() with base 10: '1.2245'",
     "output_type": "error",
     "traceback": [
      "\u001b[1;31m---------------------------------------------------------------------------\u001b[0m",
      "\u001b[1;31mValueError\u001b[0m                                Traceback (most recent call last)",
      "Cell \u001b[1;32mIn[107], line 2\u001b[0m\n\u001b[0;32m      1\u001b[0m dig \u001b[38;5;241m=\u001b[39m \u001b[38;5;124m'\u001b[39m\u001b[38;5;124m1.2245\u001b[39m\u001b[38;5;124m'\u001b[39m\n\u001b[1;32m----> 2\u001b[0m \u001b[38;5;28;43mint\u001b[39;49m\u001b[43m(\u001b[49m\u001b[43mdig\u001b[49m\u001b[43m)\u001b[49m\n",
      "\u001b[1;31mValueError\u001b[0m: invalid literal for int() with base 10: '1.2245'"
     ]
    }
   ],
   "source": [
    "dig = '1.2245'\n",
    "int(dig)"
   ]
  },
  {
   "cell_type": "code",
   "execution_count": 108,
   "metadata": {},
   "outputs": [
    {
     "data": {
      "text/plain": [
       "1"
      ]
     },
     "execution_count": 108,
     "metadata": {},
     "output_type": "execute_result"
    }
   ],
   "source": [
    "int(float(dig))"
   ]
  },
  {
   "cell_type": "code",
   "execution_count": 122,
   "metadata": {},
   "outputs": [
    {
     "data": {
      "text/plain": [
       "24"
      ]
     },
     "execution_count": 122,
     "metadata": {},
     "output_type": "execute_result"
    },
    {
     "data": {
      "text/plain": [
       "24"
      ]
     },
     "execution_count": 122,
     "metadata": {},
     "output_type": "execute_result"
    },
    {
     "data": {
      "text/plain": [
       "24"
      ]
     },
     "execution_count": 122,
     "metadata": {},
     "output_type": "execute_result"
    },
    {
     "data": {
      "text/plain": [
       "24"
      ]
     },
     "execution_count": 122,
     "metadata": {},
     "output_type": "execute_result"
    }
   ],
   "source": [
    "int(bin(24),2)\n",
    "int(format(24, 'o'),8)\n",
    "int('24',10)\n",
    "int(format(24, 'x'),16)"
   ]
  },
  {
   "cell_type": "markdown",
   "metadata": {},
   "source": [
    "## float"
   ]
  },
  {
   "cell_type": "code",
   "execution_count": 83,
   "metadata": {},
   "outputs": [
    {
     "data": {
      "text/plain": [
       "1.2245"
      ]
     },
     "execution_count": 83,
     "metadata": {},
     "output_type": "execute_result"
    }
   ],
   "source": [
    "float(dig)"
   ]
  },
  {
   "cell_type": "code",
   "execution_count": 84,
   "metadata": {},
   "outputs": [
    {
     "ename": "ValueError",
     "evalue": "invalid literal for int() with base 10: '1.2245'",
     "output_type": "error",
     "traceback": [
      "\u001b[1;31m---------------------------------------------------------------------------\u001b[0m",
      "\u001b[1;31mValueError\u001b[0m                                Traceback (most recent call last)",
      "Cell \u001b[1;32mIn[84], line 1\u001b[0m\n\u001b[1;32m----> 1\u001b[0m \u001b[38;5;28;43mint\u001b[39;49m\u001b[43m(\u001b[49m\u001b[43mdig\u001b[49m\u001b[43m)\u001b[49m\n",
      "\u001b[1;31mValueError\u001b[0m: invalid literal for int() with base 10: '1.2245'"
     ]
    }
   ],
   "source": [
    "int(dig)"
   ]
  },
  {
   "cell_type": "code",
   "execution_count": 85,
   "metadata": {},
   "outputs": [
    {
     "data": {
      "text/plain": [
       "(inf, -inf, nan)"
      ]
     },
     "execution_count": 85,
     "metadata": {},
     "output_type": "execute_result"
    }
   ],
   "source": [
    "float('inf') , float('-inf') , float('nan') # case insensitive"
   ]
  },
  {
   "cell_type": "markdown",
   "metadata": {},
   "source": [
    "## format"
   ]
  },
  {
   "cell_type": "code",
   "execution_count": 87,
   "metadata": {},
   "outputs": [
    {
     "data": {
      "text/plain": [
       "'11000'"
      ]
     },
     "execution_count": 87,
     "metadata": {},
     "output_type": "execute_result"
    },
    {
     "data": {
      "text/plain": [
       "'0b11000'"
      ]
     },
     "execution_count": 87,
     "metadata": {},
     "output_type": "execute_result"
    },
    {
     "data": {
      "text/plain": [
       "(str, str)"
      ]
     },
     "execution_count": 87,
     "metadata": {},
     "output_type": "execute_result"
    }
   ],
   "source": [
    "format(24, 'b')\n",
    "format(24, '#b')\n",
    "type(format(24, 'b')) , type(format(24, '#b'))"
   ]
  },
  {
   "cell_type": "code",
   "execution_count": 91,
   "metadata": {},
   "outputs": [
    {
     "data": {
      "text/plain": [
       "'0.634000%'"
      ]
     },
     "execution_count": 91,
     "metadata": {},
     "output_type": "execute_result"
    },
    {
     "data": {
      "text/plain": [
       "'99.366000%'"
      ]
     },
     "execution_count": 91,
     "metadata": {},
     "output_type": "execute_result"
    }
   ],
   "source": [
    "p = 0.00634\n",
    "format(p, '%')\n",
    "format(1-p, '%')"
   ]
  },
  {
   "cell_type": "markdown",
   "metadata": {},
   "source": [
    "## globals & locals"
   ]
  },
  {
   "cell_type": "code",
   "execution_count": 92,
   "metadata": {},
   "outputs": [
    {
     "data": {
      "text/plain": [
       "{'__name__': '__main__',\n",
       " '__doc__': 'Automatically created module for IPython interactive environment',\n",
       " '__package__': None,\n",
       " '__loader__': None,\n",
       " '__spec__': None,\n",
       " '__builtin__': <module 'builtins' (built-in)>,\n",
       " '__builtins__': <module 'builtins' (built-in)>,\n",
       " '_ih': ['',\n",
       "  'abs(2)\\nabs(-2.34)\\nabs(7 + 9j) # | 7 + 9j | = sqrt(7^2 + 9^2) = sqrt(130) = 11.40175425099138',\n",
       "  'def isPrime(n):\\n    if n < 2:\\n        return False\\n    for i in range(2, n):\\n        if n % i == 0:\\n            return False\\n    return True\\nl1 = [1, 2, 3, 4, 5]\\nl2 = [2,3,5,7,11,13,17,19,23,29]\\nl3 = [4,6,8,9,10,12,14,15,16,18,20]\\nall([isPrime(x) for x in l1]) \\nall([isPrime(x) for x in l2])\\nall([isPrime(x) for x in l3])\\nall([])  # True for EMpty List',\n",
       "  'any([isPrime(x) for x in l1]) \\nany([isPrime(x) for x in l2])\\nany([isPrime(x) for x in l3])\\nany([])  # False for EMpty List',\n",
       "  'my_s = \"EMoji 🥲 198247 👏 movie 983@^*&(!) 🎬💯🔥 KISSIK : 🤳 KISS KISS KISS... KISSIK 📸😊😂 ^%+_}|{}``~~\"\\nasci_my_s = ascii(my_s)\\nasci_my_s , type(asci_my_s )',\n",
       "  'bin(4) , bin(-24)',\n",
       "  'bin(0x33), bin(0b110011), bin(0o63), bin(51) # 0x33 = 0b110011 = 0o63 = 51',\n",
       "  'oct(4) , oct(-24)',\n",
       "  'oct(0x33), oct(0b110011), oct(0o63), oct(51) # 0x33 = 0b110011 = 0o63 = 51',\n",
       "  'hex(4) , hex(-24)',\n",
       "  'hex(0x33), hex(0b110011), hex(0o63), hex(51) # 0x33 = 0b110011 = 0o63 = 51',\n",
       "  'type(bin(4)), type(oct(4)), type(hex(4)) ',\n",
       "  '# oct(bin(4)) # ERROR',\n",
       "  \"format(24, '#b')\\nformat(24, 'b')\",\n",
       "  \"format(24, '#o')\\nformat(24, 'o')\",\n",
       "  \"format(24, '#x')\\nformat(24, 'x')\\nformat(24, '#X')\\nformat(24, 'X')\",\n",
       "  \"format(24, 'c')\\nformat(24, 'd')\\nformat(24, 'e')\\nformat(24, 'E')\\nformat(24, 'f')\\nformat(24, 'F')\\nformat(24, 'g')\\nformat(24, 'G')\\nformat(24, 'n')\\nformat(24, '%')\",\n",
       "  'bool(0), bool(0.0), bool(0j), bool(0+0j), bool(0.0+0.0j), bool(0.0+0j)\\nbool(1), bool(0.000001), bool(1j), bool(1+0j), bool(0.0+0.1j), bool(1.0+0j)',\n",
       "  '# enters to pdb\\n\\nimport numpy as np\\n\\ndef gradient_descent(learning_rate, max_iter, x, y):\\n    m = 0\\n    b = 0\\n    n = len(x)\\n    for i in range(max_iter):\\n        y_pred = m * x + b\\n        cost = (1/n) * sum([val**2 for val in (y - y_pred)])\\n        md = -(2/n) * sum(x * (y - y_pred))\\n        bd = -(2/n) * sum(y - y_pred)\\n        m = m - learning_rate * md\\n        b = b - learning_rate * bd\\n        print(f\"Iteration {i+1} : m = {m}, b = {b}, cost = {cost}\")\\n        if i == 25:\\n            # import pdb; pdb.set_trace()\\n            # breakpoint()\\n            pass\\n    return m, b\\ngradient_descent(0.01, 100, np.array([1,2,3,4,5]), np.array([5,7,9,11,13]))',\n",
       "  '# enters to pdb\\n\\nimport numpy as np\\n\\ndef gradient_descent(learning_rate, max_iter, x, y):\\n    m = 0\\n    b = 0\\n    n = len(x)\\n    for i in range(max_iter):\\n        y_pred = m * x + b\\n        cost = (1/n) * sum([val**2 for val in (y - y_pred)])\\n        md = -(2/n) * sum(x * (y - y_pred))\\n        bd = -(2/n) * sum(y - y_pred)\\n        m = m - learning_rate * md\\n        b = b - learning_rate * bd\\n        # print(f\"Iteration {i+1} : m = {m}, b = {b}, cost = {cost}\")\\n        if i == 25:\\n            # import pdb; pdb.set_trace()\\n            # breakpoint()\\n            pass\\n    return m, b\\ngradient_descent(0.01, 100, np.array([1,2,3,4,5]), np.array([5,7,9,11,13]))',\n",
       "  \"bytes('Maha')\",\n",
       "  \"bytes('Maha', 'ASCII')\",\n",
       "  \"bytes('Maha', 'ASCII')\\nbytes('Maha', 'UTF-8')\\nbytes('Maha', 'UTF-16')\\nbytes('Maha', 'UTF-32')\",\n",
       "  \"bytearray('Maha', 'ASCII')\",\n",
       "  \"bytearray('Maha', 'ASCII')\\n\\nbytearray('Maha', 'UTF-8')\",\n",
       "  \"bytearray('Maha', 'ASCII')\\nbytearray('Maha', 'UTF-8')\\n\\nbytearray([1,2,3,4,5,6,7,8,9,10])\",\n",
       "  \"bytearray('Maha', 'ASCII')\\nbytearray('Maha', 'UTF-8')\\n\\nb = bytearray([1,2,3,4,5,6,7,8,9,10])\\nb\\nb.append(11)\\nb\",\n",
       "  'b.reverse()',\n",
       "  'b.reverse()\\nb',\n",
       "  'b.reverse()\\nb',\n",
       "  'bytes(5)\\nbytearray(5)',\n",
       "  '# create 5 byte space\\nbytes(5)\\nbytearray(5)',\n",
       "  'callable(print)\\ncallable(isPrime)\\ncallable(int)\\ncallable(str)\\ncallable(type)',\n",
       "  \"callable(print)\\ncallable(isPrime)\\ncallable(int)\\ncallable(str)\\ncallable(type)\\ncallable('hey')\\ncallable('hey'.upper())\",\n",
       "  'callable(callable)',\n",
       "  'callable(callable)\\ncallable(bool)',\n",
       "  'callable([])\\ncallable(list)\\ncallable({})\\ncallable(dict)',\n",
       "  \"chr('h')\",\n",
       "  'chr(96)',\n",
       "  'chr(94)',\n",
       "  'chr(94)',\n",
       "  \"chr(94) , ord('^')\",\n",
       "  \"chr(94) , ord('^') , ord(chr(94)) , chr(ord('^'))\",\n",
       "  '# valid range of chr is 0 to 1114111 (0x10FFFF in base 16)\\nchr(1114111) , chr(1114112) # ERROR',\n",
       "  '# valid range of chr is 0 to 1114111 (0x10FFFF in base 16)\\nchr(1114111) ',\n",
       "  \"# valid range of chr is 0 to 1114111 (0x10FFFF in base 16)\\nformat(chr(1114111) , 'c')\",\n",
       "  '# valid range of chr is 0 to 1114111 (0x10FFFF in base 16)\\nchr(1114111) ',\n",
       "  \"# valid range of chr is 0 to 1114111 (0x10FFFF in base 16)\\nchr(1114111).encode('utf-8')\",\n",
       "  \"# valid range of chr is 0 to 1114111 (0x10FFFF in base 16)\\nchr(1114111).encode('utf-16')\",\n",
       "  \"# valid range of chr is 0 to 1114111 (0x10FFFF in base 16)\\nchr(1114111).encode('utf-32')\",\n",
       "  '# valid range of chr is 0 to 1114111 (0x10FFFF in base 16)\\nchr(1114111)',\n",
       "  'chr(1577)',\n",
       "  'chr(1577) # some arabic char',\n",
       "  'chr(1577) # some arabic char',\n",
       "  '# exec\\n\\ne1 = compile(\\'print(\"Hello World\")\\', \\'test\\', \\'exec\\')\\ne1',\n",
       "  'eval(e1)',\n",
       "  'e2 = compile(\\'print(\"Hello World\")\\', \\'test_eval\\', \\'eval\\')',\n",
       "  'e2 = compile(\\'print(\"Hello World\")\\', \\'test_eval\\', \\'eval\\')\\neval(e2)\\nexec(e2)',\n",
       "  'e3 = compile(\\'print(f\"Hello World {20}\")\\', \\'test_single\\', \\'single\\')',\n",
       "  'e3 = compile(\\'print(f\"Hello World {20}\")\\', \\'test_single\\', \\'single\\')\\nexec(e3)',\n",
       "  \"src_code_fibanocci_10 = 'f0 = 0\\\\nf1 = 1\\\\nfor i in range(10):\\\\n\\\\tprint(f0)\\\\n\\\\tf0, f1 = f1, f0+f1'\\ncompile(src_code_fibanocci_10, 'test_fib', 'single')\",\n",
       "  \"src_code_fibanocci_10 = 'f0 = 0\\\\nf1 = 1\\\\nfor i in range(10):\\\\n\\\\tprint(f0)\\\\n\\\\tf0, f1 = f1, f0+f1'\\ncompile(src_code_fibanocci_10, 'test_fib', 'exec')\",\n",
       "  \"src_code_fibanocci_10 = 'f0 = 0\\\\nf1 = 1\\\\nfor i in range(10):\\\\n\\\\tprint(f0)\\\\n\\\\tf0, f1 = f1, f0+f1'\\nast_code = compile(src_code_fibanocci_10, 'test_fib', 'exec')\\neval(ast_code)\",\n",
       "  'complex()',\n",
       "  'complex()\\ncomplex(1)\\ncomplex(1,2)\\ncomplex(1,2.3)',\n",
       "  'complex()\\ncomplex(1)\\ncomplex(1,2)',\n",
       "  'a,b = complex(1,2), complex(2,1)\\na+b',\n",
       "  'a,b = complex(1,2), complex(2,1)\\na+b\\na.real\\na.imag\\na.conjugate()',\n",
       "  'a,b = complex(1,2), complex(2,1)\\na+b\\na.real\\na.imag\\na.conjugate()\\na.conjugate()*a',\n",
       "  'dir()',\n",
       "  'dir() # lists all active variables',\n",
       "  'dir(random)',\n",
       "  'import random as rd\\ndir(rd)',\n",
       "  'a = 103\\nb = 17\\ndivmod(a,b) , a// b , a % b ',\n",
       "  'a = 103\\nb = 17\\ndivmod(a,b) , == , (a// b , a % b )',\n",
       "  'a = 103\\nb = 17\\ndivmod(a,b) , \"==\" , (a// b , a % b )',\n",
       "  \"weekdays = ['Monday', 'Tuesday', 'Wednesday', 'Thursday', 'Friday', 'Saturday', 'Sunday']\\nenumerate(weekdays)\",\n",
       "  \"weekdays = ['Monday', 'Tuesday', 'Wednesday', 'Thursday', 'Friday', 'Saturday', 'Sunday']\\nlist(enumerate(weekdays))\",\n",
       "  \"weekdays = ['Monday', 'Tuesday', 'Wednesday', 'Thursday', 'Friday', 'Saturday', 'Sunday']\\nlist(enumerate(weekdays))\\nlist(enumerate(weekdays, start = 1))\",\n",
       "  'filter(isPrime, range(1, 20))',\n",
       "  'print(filter(isPrime, range(1, 20)))',\n",
       "  'list(filter(isPrime, range(1, 20)))',\n",
       "  'list( filter(lambda x: x % 2 == 0, range(1, 20)) )',\n",
       "  \"dig = '1.2245'\\nfloat(dig)\",\n",
       "  'int(dig)',\n",
       "  \"float('inf') , float('-inf') , float('nan')\",\n",
       "  \"format(24, 'b')\\nformat(24, '#b')\",\n",
       "  \"format(24, 'b')\\nformat(24, '#b')\\ntype(format(24, 'b')) , type(format(24, '#b'))\",\n",
       "  \"format(0.0634, '%')\",\n",
       "  \"p = 0.00634\\nformat(p, '%')\\nformat(1-p, '%')\",\n",
       "  \"p = 0.00634\\nformat(p, '%')\\nformat(1-p, '2%')\",\n",
       "  \"p = 0.00634\\nformat(p, '%')\\nformat(1-p, '%')\",\n",
       "  'globals()'],\n",
       " '_oh': {1: 11.40175425099138,\n",
       "  2: True,\n",
       "  3: False,\n",
       "  4: (\"'EMoji \\\\U0001f972 198247 \\\\U0001f44f movie 983@^*&(!) \\\\U0001f3ac\\\\U0001f4af\\\\U0001f525 KISSIK : \\\\U0001f933 KISS KISS KISS... KISSIK \\\\U0001f4f8\\\\U0001f60a\\\\U0001f602 ^%+_}|{}``~~'\",\n",
       "   str),\n",
       "  5: ('0b100', '-0b11000'),\n",
       "  6: ('0b110011', '0b110011', '0b110011', '0b110011'),\n",
       "  7: ('0o4', '-0o30'),\n",
       "  8: ('0o63', '0o63', '0o63', '0o63'),\n",
       "  9: ('0x4', '-0x18'),\n",
       "  10: ('0x33', '0x33', '0x33', '0x33'),\n",
       "  11: (str, str, str),\n",
       "  13: '11000',\n",
       "  14: '30',\n",
       "  15: '18',\n",
       "  16: '2400.000000%',\n",
       "  17: (True, True, True, True, True, True),\n",
       "  18: (2.4484684018774328, 1.3808867709499106),\n",
       "  19: (2.4484684018774328, 1.3808867709499106),\n",
       "  21: b'Maha',\n",
       "  22: b'\\xff\\xfe\\x00\\x00M\\x00\\x00\\x00a\\x00\\x00\\x00h\\x00\\x00\\x00a\\x00\\x00\\x00',\n",
       "  23: bytearray(b'Maha'),\n",
       "  24: bytearray(b'Maha'),\n",
       "  25: bytearray(b'\\x01\\x02\\x03\\x04\\x05\\x06\\x07\\x08\\t\\n'),\n",
       "  26: bytearray(b'\\x0b\\n\\t\\x08\\x07\\x06\\x05\\x04\\x03\\x02\\x01'),\n",
       "  28: bytearray(b'\\x0b\\n\\t\\x08\\x07\\x06\\x05\\x04\\x03\\x02\\x01'),\n",
       "  29: bytearray(b'\\x0b\\n\\t\\x08\\x07\\x06\\x05\\x04\\x03\\x02\\x01'),\n",
       "  30: bytearray(b'\\x00\\x00\\x00\\x00\\x00'),\n",
       "  31: bytearray(b'\\x00\\x00\\x00\\x00\\x00'),\n",
       "  32: True,\n",
       "  33: False,\n",
       "  34: True,\n",
       "  35: True,\n",
       "  36: True,\n",
       "  38: '`',\n",
       "  39: '^',\n",
       "  40: '^',\n",
       "  41: ('^', 94),\n",
       "  42: ('^', 94, 94, '^'),\n",
       "  44: '\\U0010ffff',\n",
       "  46: '\\U0010ffff',\n",
       "  47: b'\\xf4\\x8f\\xbf\\xbf',\n",
       "  48: b'\\xff\\xfe\\xff\\xdb\\xff\\xdf',\n",
       "  49: b'\\xff\\xfe\\x00\\x00\\xff\\xff\\x10\\x00',\n",
       "  50: '\\U0010ffff',\n",
       "  51: 'ة',\n",
       "  52: 'ة',\n",
       "  53: 'ة',\n",
       "  54: <code object <module> at 0x0000019B7BF062F0, file \"test\", line 1>,\n",
       "  61: <code object <module> at 0x0000019B7F0E93A0, file \"test_fib\", line 1>,\n",
       "  63: 0j,\n",
       "  64: (1+2.3j),\n",
       "  65: (1+2j),\n",
       "  66: (3+3j),\n",
       "  67: (1-2j),\n",
       "  68: (5+0j),\n",
       "  69: ['In',\n",
       "   'InteractiveShell',\n",
       "   'Out',\n",
       "   '_',\n",
       "   '_1',\n",
       "   '_10',\n",
       "   '_11',\n",
       "   '_13',\n",
       "   '_14',\n",
       "   '_15',\n",
       "   '_16',\n",
       "   '_17',\n",
       "   '_18',\n",
       "   '_19',\n",
       "   '_2',\n",
       "   '_21',\n",
       "   '_22',\n",
       "   '_23',\n",
       "   '_24',\n",
       "   '_25',\n",
       "   '_26',\n",
       "   '_28',\n",
       "   '_29',\n",
       "   '_3',\n",
       "   '_30',\n",
       "   '_31',\n",
       "   '_32',\n",
       "   '_33',\n",
       "   '_34',\n",
       "   '_35',\n",
       "   '_36',\n",
       "   '_38',\n",
       "   '_39',\n",
       "   '_4',\n",
       "   '_40',\n",
       "   '_41',\n",
       "   '_42',\n",
       "   '_44',\n",
       "   '_46',\n",
       "   '_47',\n",
       "   '_48',\n",
       "   '_49',\n",
       "   '_5',\n",
       "   '_50',\n",
       "   '_51',\n",
       "   '_52',\n",
       "   '_53',\n",
       "   '_54',\n",
       "   '_6',\n",
       "   '_61',\n",
       "   '_63',\n",
       "   '_64',\n",
       "   '_65',\n",
       "   '_66',\n",
       "   '_67',\n",
       "   '_68',\n",
       "   '_7',\n",
       "   '_8',\n",
       "   '_9',\n",
       "   '__',\n",
       "   '___',\n",
       "   '__builtin__',\n",
       "   '__builtins__',\n",
       "   '__doc__',\n",
       "   '__loader__',\n",
       "   '__name__',\n",
       "   '__package__',\n",
       "   '__spec__',\n",
       "   '__vsc_ipynb_file__',\n",
       "   '_dh',\n",
       "   '_i',\n",
       "   '_i1',\n",
       "   '_i10',\n",
       "   '_i11',\n",
       "   '_i12',\n",
       "   '_i13',\n",
       "   '_i14',\n",
       "   '_i15',\n",
       "   '_i16',\n",
       "   '_i17',\n",
       "   '_i18',\n",
       "   '_i19',\n",
       "   '_i2',\n",
       "   '_i20',\n",
       "   '_i21',\n",
       "   '_i22',\n",
       "   '_i23',\n",
       "   '_i24',\n",
       "   '_i25',\n",
       "   '_i26',\n",
       "   '_i27',\n",
       "   '_i28',\n",
       "   '_i29',\n",
       "   '_i3',\n",
       "   '_i30',\n",
       "   '_i31',\n",
       "   '_i32',\n",
       "   '_i33',\n",
       "   '_i34',\n",
       "   '_i35',\n",
       "   '_i36',\n",
       "   '_i37',\n",
       "   '_i38',\n",
       "   '_i39',\n",
       "   '_i4',\n",
       "   '_i40',\n",
       "   '_i41',\n",
       "   '_i42',\n",
       "   '_i43',\n",
       "   '_i44',\n",
       "   '_i45',\n",
       "   '_i46',\n",
       "   '_i47',\n",
       "   '_i48',\n",
       "   '_i49',\n",
       "   '_i5',\n",
       "   '_i50',\n",
       "   '_i51',\n",
       "   '_i52',\n",
       "   '_i53',\n",
       "   '_i54',\n",
       "   '_i55',\n",
       "   '_i56',\n",
       "   '_i57',\n",
       "   '_i58',\n",
       "   '_i59',\n",
       "   '_i6',\n",
       "   '_i60',\n",
       "   '_i61',\n",
       "   '_i62',\n",
       "   '_i63',\n",
       "   '_i64',\n",
       "   '_i65',\n",
       "   '_i66',\n",
       "   '_i67',\n",
       "   '_i68',\n",
       "   '_i69',\n",
       "   '_i7',\n",
       "   '_i8',\n",
       "   '_i9',\n",
       "   '_ih',\n",
       "   '_ii',\n",
       "   '_iii',\n",
       "   '_oh',\n",
       "   'a',\n",
       "   'asci_my_s',\n",
       "   'ast_code',\n",
       "   'b',\n",
       "   'e1',\n",
       "   'e2',\n",
       "   'e3',\n",
       "   'exit',\n",
       "   'f0',\n",
       "   'f1',\n",
       "   'get_ipython',\n",
       "   'gradient_descent',\n",
       "   'i',\n",
       "   'isPrime',\n",
       "   'l1',\n",
       "   'l2',\n",
       "   'l3',\n",
       "   'my_s',\n",
       "   'np',\n",
       "   'open',\n",
       "   'quit',\n",
       "   'src_code_fibanocci_10'],\n",
       "  70: ['In',\n",
       "   'InteractiveShell',\n",
       "   'Out',\n",
       "   '_',\n",
       "   '_1',\n",
       "   '_10',\n",
       "   '_11',\n",
       "   '_13',\n",
       "   '_14',\n",
       "   '_15',\n",
       "   '_16',\n",
       "   '_17',\n",
       "   '_18',\n",
       "   '_19',\n",
       "   '_2',\n",
       "   '_21',\n",
       "   '_22',\n",
       "   '_23',\n",
       "   '_24',\n",
       "   '_25',\n",
       "   '_26',\n",
       "   '_28',\n",
       "   '_29',\n",
       "   '_3',\n",
       "   '_30',\n",
       "   '_31',\n",
       "   '_32',\n",
       "   '_33',\n",
       "   '_34',\n",
       "   '_35',\n",
       "   '_36',\n",
       "   '_38',\n",
       "   '_39',\n",
       "   '_4',\n",
       "   '_40',\n",
       "   '_41',\n",
       "   '_42',\n",
       "   '_44',\n",
       "   '_46',\n",
       "   '_47',\n",
       "   '_48',\n",
       "   '_49',\n",
       "   '_5',\n",
       "   '_50',\n",
       "   '_51',\n",
       "   '_52',\n",
       "   '_53',\n",
       "   '_54',\n",
       "   '_6',\n",
       "   '_61',\n",
       "   '_63',\n",
       "   '_64',\n",
       "   '_65',\n",
       "   '_66',\n",
       "   '_67',\n",
       "   '_68',\n",
       "   '_69',\n",
       "   '_7',\n",
       "   '_8',\n",
       "   '_9',\n",
       "   '__',\n",
       "   '___',\n",
       "   '__builtin__',\n",
       "   '__builtins__',\n",
       "   '__doc__',\n",
       "   '__loader__',\n",
       "   '__name__',\n",
       "   '__package__',\n",
       "   '__spec__',\n",
       "   '__vsc_ipynb_file__',\n",
       "   '_dh',\n",
       "   '_i',\n",
       "   '_i1',\n",
       "   '_i10',\n",
       "   '_i11',\n",
       "   '_i12',\n",
       "   '_i13',\n",
       "   '_i14',\n",
       "   '_i15',\n",
       "   '_i16',\n",
       "   '_i17',\n",
       "   '_i18',\n",
       "   '_i19',\n",
       "   '_i2',\n",
       "   '_i20',\n",
       "   '_i21',\n",
       "   '_i22',\n",
       "   '_i23',\n",
       "   '_i24',\n",
       "   '_i25',\n",
       "   '_i26',\n",
       "   '_i27',\n",
       "   '_i28',\n",
       "   '_i29',\n",
       "   '_i3',\n",
       "   '_i30',\n",
       "   '_i31',\n",
       "   '_i32',\n",
       "   '_i33',\n",
       "   '_i34',\n",
       "   '_i35',\n",
       "   '_i36',\n",
       "   '_i37',\n",
       "   '_i38',\n",
       "   '_i39',\n",
       "   '_i4',\n",
       "   '_i40',\n",
       "   '_i41',\n",
       "   '_i42',\n",
       "   '_i43',\n",
       "   '_i44',\n",
       "   '_i45',\n",
       "   '_i46',\n",
       "   '_i47',\n",
       "   '_i48',\n",
       "   '_i49',\n",
       "   '_i5',\n",
       "   '_i50',\n",
       "   '_i51',\n",
       "   '_i52',\n",
       "   '_i53',\n",
       "   '_i54',\n",
       "   '_i55',\n",
       "   '_i56',\n",
       "   '_i57',\n",
       "   '_i58',\n",
       "   '_i59',\n",
       "   '_i6',\n",
       "   '_i60',\n",
       "   '_i61',\n",
       "   '_i62',\n",
       "   '_i63',\n",
       "   '_i64',\n",
       "   '_i65',\n",
       "   '_i66',\n",
       "   '_i67',\n",
       "   '_i68',\n",
       "   '_i69',\n",
       "   '_i7',\n",
       "   '_i70',\n",
       "   '_i8',\n",
       "   '_i9',\n",
       "   '_ih',\n",
       "   '_ii',\n",
       "   '_iii',\n",
       "   '_oh',\n",
       "   'a',\n",
       "   'asci_my_s',\n",
       "   'ast_code',\n",
       "   'b',\n",
       "   'e1',\n",
       "   'e2',\n",
       "   'e3',\n",
       "   'exit',\n",
       "   'f0',\n",
       "   'f1',\n",
       "   'get_ipython',\n",
       "   'gradient_descent',\n",
       "   'i',\n",
       "   'isPrime',\n",
       "   'l1',\n",
       "   'l2',\n",
       "   'l3',\n",
       "   'my_s',\n",
       "   'np',\n",
       "   'open',\n",
       "   'quit',\n",
       "   'src_code_fibanocci_10'],\n",
       "  72: ['BPF',\n",
       "   'LOG4',\n",
       "   'NV_MAGICCONST',\n",
       "   'RECIP_BPF',\n",
       "   'Random',\n",
       "   'SG_MAGICCONST',\n",
       "   'SystemRandom',\n",
       "   'TWOPI',\n",
       "   '_Sequence',\n",
       "   '_Set',\n",
       "   '__all__',\n",
       "   '__builtins__',\n",
       "   '__cached__',\n",
       "   '__doc__',\n",
       "   '__file__',\n",
       "   '__loader__',\n",
       "   '__name__',\n",
       "   '__package__',\n",
       "   '__spec__',\n",
       "   '_accumulate',\n",
       "   '_acos',\n",
       "   '_bisect',\n",
       "   '_ceil',\n",
       "   '_cos',\n",
       "   '_e',\n",
       "   '_exp',\n",
       "   '_floor',\n",
       "   '_inst',\n",
       "   '_log',\n",
       "   '_os',\n",
       "   '_pi',\n",
       "   '_random',\n",
       "   '_repeat',\n",
       "   '_sha512',\n",
       "   '_sin',\n",
       "   '_sqrt',\n",
       "   '_test',\n",
       "   '_test_generator',\n",
       "   '_urandom',\n",
       "   '_warn',\n",
       "   'betavariate',\n",
       "   'choice',\n",
       "   'choices',\n",
       "   'expovariate',\n",
       "   'gammavariate',\n",
       "   'gauss',\n",
       "   'getrandbits',\n",
       "   'getstate',\n",
       "   'lognormvariate',\n",
       "   'normalvariate',\n",
       "   'paretovariate',\n",
       "   'randbytes',\n",
       "   'randint',\n",
       "   'random',\n",
       "   'randrange',\n",
       "   'sample',\n",
       "   'seed',\n",
       "   'setstate',\n",
       "   'shuffle',\n",
       "   'triangular',\n",
       "   'uniform',\n",
       "   'vonmisesvariate',\n",
       "   'weibullvariate'],\n",
       "  73: ((6, 1), 6, 1),\n",
       "  75: ((6, 1), '==', (6, 1)),\n",
       "  76: <enumerate at 0x19b7f061980>,\n",
       "  77: [(0, 'Monday'),\n",
       "   (1, 'Tuesday'),\n",
       "   (2, 'Wednesday'),\n",
       "   (3, 'Thursday'),\n",
       "   (4, 'Friday'),\n",
       "   (5, 'Saturday'),\n",
       "   (6, 'Sunday')],\n",
       "  78: [(1, 'Monday'),\n",
       "   (2, 'Tuesday'),\n",
       "   (3, 'Wednesday'),\n",
       "   (4, 'Thursday'),\n",
       "   (5, 'Friday'),\n",
       "   (6, 'Saturday'),\n",
       "   (7, 'Sunday')],\n",
       "  79: <filter at 0x19b7ef49a30>,\n",
       "  81: [2, 3, 5, 7, 11, 13, 17, 19],\n",
       "  82: [2, 4, 6, 8, 10, 12, 14, 16, 18],\n",
       "  83: 1.2245,\n",
       "  85: (inf, -inf, nan),\n",
       "  86: '0b11000',\n",
       "  87: (str, str),\n",
       "  88: '6.340000%',\n",
       "  89: '99.366000%',\n",
       "  90: '99.366000%',\n",
       "  91: '99.366000%'},\n",
       " '_dh': [WindowsPath('c:/Maha/dev/GitHub/BasicML')],\n",
       " 'In': ['',\n",
       "  'abs(2)\\nabs(-2.34)\\nabs(7 + 9j) # | 7 + 9j | = sqrt(7^2 + 9^2) = sqrt(130) = 11.40175425099138',\n",
       "  'def isPrime(n):\\n    if n < 2:\\n        return False\\n    for i in range(2, n):\\n        if n % i == 0:\\n            return False\\n    return True\\nl1 = [1, 2, 3, 4, 5]\\nl2 = [2,3,5,7,11,13,17,19,23,29]\\nl3 = [4,6,8,9,10,12,14,15,16,18,20]\\nall([isPrime(x) for x in l1]) \\nall([isPrime(x) for x in l2])\\nall([isPrime(x) for x in l3])\\nall([])  # True for EMpty List',\n",
       "  'any([isPrime(x) for x in l1]) \\nany([isPrime(x) for x in l2])\\nany([isPrime(x) for x in l3])\\nany([])  # False for EMpty List',\n",
       "  'my_s = \"EMoji 🥲 198247 👏 movie 983@^*&(!) 🎬💯🔥 KISSIK : 🤳 KISS KISS KISS... KISSIK 📸😊😂 ^%+_}|{}``~~\"\\nasci_my_s = ascii(my_s)\\nasci_my_s , type(asci_my_s )',\n",
       "  'bin(4) , bin(-24)',\n",
       "  'bin(0x33), bin(0b110011), bin(0o63), bin(51) # 0x33 = 0b110011 = 0o63 = 51',\n",
       "  'oct(4) , oct(-24)',\n",
       "  'oct(0x33), oct(0b110011), oct(0o63), oct(51) # 0x33 = 0b110011 = 0o63 = 51',\n",
       "  'hex(4) , hex(-24)',\n",
       "  'hex(0x33), hex(0b110011), hex(0o63), hex(51) # 0x33 = 0b110011 = 0o63 = 51',\n",
       "  'type(bin(4)), type(oct(4)), type(hex(4)) ',\n",
       "  '# oct(bin(4)) # ERROR',\n",
       "  \"format(24, '#b')\\nformat(24, 'b')\",\n",
       "  \"format(24, '#o')\\nformat(24, 'o')\",\n",
       "  \"format(24, '#x')\\nformat(24, 'x')\\nformat(24, '#X')\\nformat(24, 'X')\",\n",
       "  \"format(24, 'c')\\nformat(24, 'd')\\nformat(24, 'e')\\nformat(24, 'E')\\nformat(24, 'f')\\nformat(24, 'F')\\nformat(24, 'g')\\nformat(24, 'G')\\nformat(24, 'n')\\nformat(24, '%')\",\n",
       "  'bool(0), bool(0.0), bool(0j), bool(0+0j), bool(0.0+0.0j), bool(0.0+0j)\\nbool(1), bool(0.000001), bool(1j), bool(1+0j), bool(0.0+0.1j), bool(1.0+0j)',\n",
       "  '# enters to pdb\\n\\nimport numpy as np\\n\\ndef gradient_descent(learning_rate, max_iter, x, y):\\n    m = 0\\n    b = 0\\n    n = len(x)\\n    for i in range(max_iter):\\n        y_pred = m * x + b\\n        cost = (1/n) * sum([val**2 for val in (y - y_pred)])\\n        md = -(2/n) * sum(x * (y - y_pred))\\n        bd = -(2/n) * sum(y - y_pred)\\n        m = m - learning_rate * md\\n        b = b - learning_rate * bd\\n        print(f\"Iteration {i+1} : m = {m}, b = {b}, cost = {cost}\")\\n        if i == 25:\\n            # import pdb; pdb.set_trace()\\n            # breakpoint()\\n            pass\\n    return m, b\\ngradient_descent(0.01, 100, np.array([1,2,3,4,5]), np.array([5,7,9,11,13]))',\n",
       "  '# enters to pdb\\n\\nimport numpy as np\\n\\ndef gradient_descent(learning_rate, max_iter, x, y):\\n    m = 0\\n    b = 0\\n    n = len(x)\\n    for i in range(max_iter):\\n        y_pred = m * x + b\\n        cost = (1/n) * sum([val**2 for val in (y - y_pred)])\\n        md = -(2/n) * sum(x * (y - y_pred))\\n        bd = -(2/n) * sum(y - y_pred)\\n        m = m - learning_rate * md\\n        b = b - learning_rate * bd\\n        # print(f\"Iteration {i+1} : m = {m}, b = {b}, cost = {cost}\")\\n        if i == 25:\\n            # import pdb; pdb.set_trace()\\n            # breakpoint()\\n            pass\\n    return m, b\\ngradient_descent(0.01, 100, np.array([1,2,3,4,5]), np.array([5,7,9,11,13]))',\n",
       "  \"bytes('Maha')\",\n",
       "  \"bytes('Maha', 'ASCII')\",\n",
       "  \"bytes('Maha', 'ASCII')\\nbytes('Maha', 'UTF-8')\\nbytes('Maha', 'UTF-16')\\nbytes('Maha', 'UTF-32')\",\n",
       "  \"bytearray('Maha', 'ASCII')\",\n",
       "  \"bytearray('Maha', 'ASCII')\\n\\nbytearray('Maha', 'UTF-8')\",\n",
       "  \"bytearray('Maha', 'ASCII')\\nbytearray('Maha', 'UTF-8')\\n\\nbytearray([1,2,3,4,5,6,7,8,9,10])\",\n",
       "  \"bytearray('Maha', 'ASCII')\\nbytearray('Maha', 'UTF-8')\\n\\nb = bytearray([1,2,3,4,5,6,7,8,9,10])\\nb\\nb.append(11)\\nb\",\n",
       "  'b.reverse()',\n",
       "  'b.reverse()\\nb',\n",
       "  'b.reverse()\\nb',\n",
       "  'bytes(5)\\nbytearray(5)',\n",
       "  '# create 5 byte space\\nbytes(5)\\nbytearray(5)',\n",
       "  'callable(print)\\ncallable(isPrime)\\ncallable(int)\\ncallable(str)\\ncallable(type)',\n",
       "  \"callable(print)\\ncallable(isPrime)\\ncallable(int)\\ncallable(str)\\ncallable(type)\\ncallable('hey')\\ncallable('hey'.upper())\",\n",
       "  'callable(callable)',\n",
       "  'callable(callable)\\ncallable(bool)',\n",
       "  'callable([])\\ncallable(list)\\ncallable({})\\ncallable(dict)',\n",
       "  \"chr('h')\",\n",
       "  'chr(96)',\n",
       "  'chr(94)',\n",
       "  'chr(94)',\n",
       "  \"chr(94) , ord('^')\",\n",
       "  \"chr(94) , ord('^') , ord(chr(94)) , chr(ord('^'))\",\n",
       "  '# valid range of chr is 0 to 1114111 (0x10FFFF in base 16)\\nchr(1114111) , chr(1114112) # ERROR',\n",
       "  '# valid range of chr is 0 to 1114111 (0x10FFFF in base 16)\\nchr(1114111) ',\n",
       "  \"# valid range of chr is 0 to 1114111 (0x10FFFF in base 16)\\nformat(chr(1114111) , 'c')\",\n",
       "  '# valid range of chr is 0 to 1114111 (0x10FFFF in base 16)\\nchr(1114111) ',\n",
       "  \"# valid range of chr is 0 to 1114111 (0x10FFFF in base 16)\\nchr(1114111).encode('utf-8')\",\n",
       "  \"# valid range of chr is 0 to 1114111 (0x10FFFF in base 16)\\nchr(1114111).encode('utf-16')\",\n",
       "  \"# valid range of chr is 0 to 1114111 (0x10FFFF in base 16)\\nchr(1114111).encode('utf-32')\",\n",
       "  '# valid range of chr is 0 to 1114111 (0x10FFFF in base 16)\\nchr(1114111)',\n",
       "  'chr(1577)',\n",
       "  'chr(1577) # some arabic char',\n",
       "  'chr(1577) # some arabic char',\n",
       "  '# exec\\n\\ne1 = compile(\\'print(\"Hello World\")\\', \\'test\\', \\'exec\\')\\ne1',\n",
       "  'eval(e1)',\n",
       "  'e2 = compile(\\'print(\"Hello World\")\\', \\'test_eval\\', \\'eval\\')',\n",
       "  'e2 = compile(\\'print(\"Hello World\")\\', \\'test_eval\\', \\'eval\\')\\neval(e2)\\nexec(e2)',\n",
       "  'e3 = compile(\\'print(f\"Hello World {20}\")\\', \\'test_single\\', \\'single\\')',\n",
       "  'e3 = compile(\\'print(f\"Hello World {20}\")\\', \\'test_single\\', \\'single\\')\\nexec(e3)',\n",
       "  \"src_code_fibanocci_10 = 'f0 = 0\\\\nf1 = 1\\\\nfor i in range(10):\\\\n\\\\tprint(f0)\\\\n\\\\tf0, f1 = f1, f0+f1'\\ncompile(src_code_fibanocci_10, 'test_fib', 'single')\",\n",
       "  \"src_code_fibanocci_10 = 'f0 = 0\\\\nf1 = 1\\\\nfor i in range(10):\\\\n\\\\tprint(f0)\\\\n\\\\tf0, f1 = f1, f0+f1'\\ncompile(src_code_fibanocci_10, 'test_fib', 'exec')\",\n",
       "  \"src_code_fibanocci_10 = 'f0 = 0\\\\nf1 = 1\\\\nfor i in range(10):\\\\n\\\\tprint(f0)\\\\n\\\\tf0, f1 = f1, f0+f1'\\nast_code = compile(src_code_fibanocci_10, 'test_fib', 'exec')\\neval(ast_code)\",\n",
       "  'complex()',\n",
       "  'complex()\\ncomplex(1)\\ncomplex(1,2)\\ncomplex(1,2.3)',\n",
       "  'complex()\\ncomplex(1)\\ncomplex(1,2)',\n",
       "  'a,b = complex(1,2), complex(2,1)\\na+b',\n",
       "  'a,b = complex(1,2), complex(2,1)\\na+b\\na.real\\na.imag\\na.conjugate()',\n",
       "  'a,b = complex(1,2), complex(2,1)\\na+b\\na.real\\na.imag\\na.conjugate()\\na.conjugate()*a',\n",
       "  'dir()',\n",
       "  'dir() # lists all active variables',\n",
       "  'dir(random)',\n",
       "  'import random as rd\\ndir(rd)',\n",
       "  'a = 103\\nb = 17\\ndivmod(a,b) , a// b , a % b ',\n",
       "  'a = 103\\nb = 17\\ndivmod(a,b) , == , (a// b , a % b )',\n",
       "  'a = 103\\nb = 17\\ndivmod(a,b) , \"==\" , (a// b , a % b )',\n",
       "  \"weekdays = ['Monday', 'Tuesday', 'Wednesday', 'Thursday', 'Friday', 'Saturday', 'Sunday']\\nenumerate(weekdays)\",\n",
       "  \"weekdays = ['Monday', 'Tuesday', 'Wednesday', 'Thursday', 'Friday', 'Saturday', 'Sunday']\\nlist(enumerate(weekdays))\",\n",
       "  \"weekdays = ['Monday', 'Tuesday', 'Wednesday', 'Thursday', 'Friday', 'Saturday', 'Sunday']\\nlist(enumerate(weekdays))\\nlist(enumerate(weekdays, start = 1))\",\n",
       "  'filter(isPrime, range(1, 20))',\n",
       "  'print(filter(isPrime, range(1, 20)))',\n",
       "  'list(filter(isPrime, range(1, 20)))',\n",
       "  'list( filter(lambda x: x % 2 == 0, range(1, 20)) )',\n",
       "  \"dig = '1.2245'\\nfloat(dig)\",\n",
       "  'int(dig)',\n",
       "  \"float('inf') , float('-inf') , float('nan')\",\n",
       "  \"format(24, 'b')\\nformat(24, '#b')\",\n",
       "  \"format(24, 'b')\\nformat(24, '#b')\\ntype(format(24, 'b')) , type(format(24, '#b'))\",\n",
       "  \"format(0.0634, '%')\",\n",
       "  \"p = 0.00634\\nformat(p, '%')\\nformat(1-p, '%')\",\n",
       "  \"p = 0.00634\\nformat(p, '%')\\nformat(1-p, '2%')\",\n",
       "  \"p = 0.00634\\nformat(p, '%')\\nformat(1-p, '%')\",\n",
       "  'globals()'],\n",
       " 'Out': {1: 11.40175425099138,\n",
       "  2: True,\n",
       "  3: False,\n",
       "  4: (\"'EMoji \\\\U0001f972 198247 \\\\U0001f44f movie 983@^*&(!) \\\\U0001f3ac\\\\U0001f4af\\\\U0001f525 KISSIK : \\\\U0001f933 KISS KISS KISS... KISSIK \\\\U0001f4f8\\\\U0001f60a\\\\U0001f602 ^%+_}|{}``~~'\",\n",
       "   str),\n",
       "  5: ('0b100', '-0b11000'),\n",
       "  6: ('0b110011', '0b110011', '0b110011', '0b110011'),\n",
       "  7: ('0o4', '-0o30'),\n",
       "  8: ('0o63', '0o63', '0o63', '0o63'),\n",
       "  9: ('0x4', '-0x18'),\n",
       "  10: ('0x33', '0x33', '0x33', '0x33'),\n",
       "  11: (str, str, str),\n",
       "  13: '11000',\n",
       "  14: '30',\n",
       "  15: '18',\n",
       "  16: '2400.000000%',\n",
       "  17: (True, True, True, True, True, True),\n",
       "  18: (2.4484684018774328, 1.3808867709499106),\n",
       "  19: (2.4484684018774328, 1.3808867709499106),\n",
       "  21: b'Maha',\n",
       "  22: b'\\xff\\xfe\\x00\\x00M\\x00\\x00\\x00a\\x00\\x00\\x00h\\x00\\x00\\x00a\\x00\\x00\\x00',\n",
       "  23: bytearray(b'Maha'),\n",
       "  24: bytearray(b'Maha'),\n",
       "  25: bytearray(b'\\x01\\x02\\x03\\x04\\x05\\x06\\x07\\x08\\t\\n'),\n",
       "  26: bytearray(b'\\x0b\\n\\t\\x08\\x07\\x06\\x05\\x04\\x03\\x02\\x01'),\n",
       "  28: bytearray(b'\\x0b\\n\\t\\x08\\x07\\x06\\x05\\x04\\x03\\x02\\x01'),\n",
       "  29: bytearray(b'\\x0b\\n\\t\\x08\\x07\\x06\\x05\\x04\\x03\\x02\\x01'),\n",
       "  30: bytearray(b'\\x00\\x00\\x00\\x00\\x00'),\n",
       "  31: bytearray(b'\\x00\\x00\\x00\\x00\\x00'),\n",
       "  32: True,\n",
       "  33: False,\n",
       "  34: True,\n",
       "  35: True,\n",
       "  36: True,\n",
       "  38: '`',\n",
       "  39: '^',\n",
       "  40: '^',\n",
       "  41: ('^', 94),\n",
       "  42: ('^', 94, 94, '^'),\n",
       "  44: '\\U0010ffff',\n",
       "  46: '\\U0010ffff',\n",
       "  47: b'\\xf4\\x8f\\xbf\\xbf',\n",
       "  48: b'\\xff\\xfe\\xff\\xdb\\xff\\xdf',\n",
       "  49: b'\\xff\\xfe\\x00\\x00\\xff\\xff\\x10\\x00',\n",
       "  50: '\\U0010ffff',\n",
       "  51: 'ة',\n",
       "  52: 'ة',\n",
       "  53: 'ة',\n",
       "  54: <code object <module> at 0x0000019B7BF062F0, file \"test\", line 1>,\n",
       "  61: <code object <module> at 0x0000019B7F0E93A0, file \"test_fib\", line 1>,\n",
       "  63: 0j,\n",
       "  64: (1+2.3j),\n",
       "  65: (1+2j),\n",
       "  66: (3+3j),\n",
       "  67: (1-2j),\n",
       "  68: (5+0j),\n",
       "  69: ['In',\n",
       "   'InteractiveShell',\n",
       "   'Out',\n",
       "   '_',\n",
       "   '_1',\n",
       "   '_10',\n",
       "   '_11',\n",
       "   '_13',\n",
       "   '_14',\n",
       "   '_15',\n",
       "   '_16',\n",
       "   '_17',\n",
       "   '_18',\n",
       "   '_19',\n",
       "   '_2',\n",
       "   '_21',\n",
       "   '_22',\n",
       "   '_23',\n",
       "   '_24',\n",
       "   '_25',\n",
       "   '_26',\n",
       "   '_28',\n",
       "   '_29',\n",
       "   '_3',\n",
       "   '_30',\n",
       "   '_31',\n",
       "   '_32',\n",
       "   '_33',\n",
       "   '_34',\n",
       "   '_35',\n",
       "   '_36',\n",
       "   '_38',\n",
       "   '_39',\n",
       "   '_4',\n",
       "   '_40',\n",
       "   '_41',\n",
       "   '_42',\n",
       "   '_44',\n",
       "   '_46',\n",
       "   '_47',\n",
       "   '_48',\n",
       "   '_49',\n",
       "   '_5',\n",
       "   '_50',\n",
       "   '_51',\n",
       "   '_52',\n",
       "   '_53',\n",
       "   '_54',\n",
       "   '_6',\n",
       "   '_61',\n",
       "   '_63',\n",
       "   '_64',\n",
       "   '_65',\n",
       "   '_66',\n",
       "   '_67',\n",
       "   '_68',\n",
       "   '_7',\n",
       "   '_8',\n",
       "   '_9',\n",
       "   '__',\n",
       "   '___',\n",
       "   '__builtin__',\n",
       "   '__builtins__',\n",
       "   '__doc__',\n",
       "   '__loader__',\n",
       "   '__name__',\n",
       "   '__package__',\n",
       "   '__spec__',\n",
       "   '__vsc_ipynb_file__',\n",
       "   '_dh',\n",
       "   '_i',\n",
       "   '_i1',\n",
       "   '_i10',\n",
       "   '_i11',\n",
       "   '_i12',\n",
       "   '_i13',\n",
       "   '_i14',\n",
       "   '_i15',\n",
       "   '_i16',\n",
       "   '_i17',\n",
       "   '_i18',\n",
       "   '_i19',\n",
       "   '_i2',\n",
       "   '_i20',\n",
       "   '_i21',\n",
       "   '_i22',\n",
       "   '_i23',\n",
       "   '_i24',\n",
       "   '_i25',\n",
       "   '_i26',\n",
       "   '_i27',\n",
       "   '_i28',\n",
       "   '_i29',\n",
       "   '_i3',\n",
       "   '_i30',\n",
       "   '_i31',\n",
       "   '_i32',\n",
       "   '_i33',\n",
       "   '_i34',\n",
       "   '_i35',\n",
       "   '_i36',\n",
       "   '_i37',\n",
       "   '_i38',\n",
       "   '_i39',\n",
       "   '_i4',\n",
       "   '_i40',\n",
       "   '_i41',\n",
       "   '_i42',\n",
       "   '_i43',\n",
       "   '_i44',\n",
       "   '_i45',\n",
       "   '_i46',\n",
       "   '_i47',\n",
       "   '_i48',\n",
       "   '_i49',\n",
       "   '_i5',\n",
       "   '_i50',\n",
       "   '_i51',\n",
       "   '_i52',\n",
       "   '_i53',\n",
       "   '_i54',\n",
       "   '_i55',\n",
       "   '_i56',\n",
       "   '_i57',\n",
       "   '_i58',\n",
       "   '_i59',\n",
       "   '_i6',\n",
       "   '_i60',\n",
       "   '_i61',\n",
       "   '_i62',\n",
       "   '_i63',\n",
       "   '_i64',\n",
       "   '_i65',\n",
       "   '_i66',\n",
       "   '_i67',\n",
       "   '_i68',\n",
       "   '_i69',\n",
       "   '_i7',\n",
       "   '_i8',\n",
       "   '_i9',\n",
       "   '_ih',\n",
       "   '_ii',\n",
       "   '_iii',\n",
       "   '_oh',\n",
       "   'a',\n",
       "   'asci_my_s',\n",
       "   'ast_code',\n",
       "   'b',\n",
       "   'e1',\n",
       "   'e2',\n",
       "   'e3',\n",
       "   'exit',\n",
       "   'f0',\n",
       "   'f1',\n",
       "   'get_ipython',\n",
       "   'gradient_descent',\n",
       "   'i',\n",
       "   'isPrime',\n",
       "   'l1',\n",
       "   'l2',\n",
       "   'l3',\n",
       "   'my_s',\n",
       "   'np',\n",
       "   'open',\n",
       "   'quit',\n",
       "   'src_code_fibanocci_10'],\n",
       "  70: ['In',\n",
       "   'InteractiveShell',\n",
       "   'Out',\n",
       "   '_',\n",
       "   '_1',\n",
       "   '_10',\n",
       "   '_11',\n",
       "   '_13',\n",
       "   '_14',\n",
       "   '_15',\n",
       "   '_16',\n",
       "   '_17',\n",
       "   '_18',\n",
       "   '_19',\n",
       "   '_2',\n",
       "   '_21',\n",
       "   '_22',\n",
       "   '_23',\n",
       "   '_24',\n",
       "   '_25',\n",
       "   '_26',\n",
       "   '_28',\n",
       "   '_29',\n",
       "   '_3',\n",
       "   '_30',\n",
       "   '_31',\n",
       "   '_32',\n",
       "   '_33',\n",
       "   '_34',\n",
       "   '_35',\n",
       "   '_36',\n",
       "   '_38',\n",
       "   '_39',\n",
       "   '_4',\n",
       "   '_40',\n",
       "   '_41',\n",
       "   '_42',\n",
       "   '_44',\n",
       "   '_46',\n",
       "   '_47',\n",
       "   '_48',\n",
       "   '_49',\n",
       "   '_5',\n",
       "   '_50',\n",
       "   '_51',\n",
       "   '_52',\n",
       "   '_53',\n",
       "   '_54',\n",
       "   '_6',\n",
       "   '_61',\n",
       "   '_63',\n",
       "   '_64',\n",
       "   '_65',\n",
       "   '_66',\n",
       "   '_67',\n",
       "   '_68',\n",
       "   '_69',\n",
       "   '_7',\n",
       "   '_8',\n",
       "   '_9',\n",
       "   '__',\n",
       "   '___',\n",
       "   '__builtin__',\n",
       "   '__builtins__',\n",
       "   '__doc__',\n",
       "   '__loader__',\n",
       "   '__name__',\n",
       "   '__package__',\n",
       "   '__spec__',\n",
       "   '__vsc_ipynb_file__',\n",
       "   '_dh',\n",
       "   '_i',\n",
       "   '_i1',\n",
       "   '_i10',\n",
       "   '_i11',\n",
       "   '_i12',\n",
       "   '_i13',\n",
       "   '_i14',\n",
       "   '_i15',\n",
       "   '_i16',\n",
       "   '_i17',\n",
       "   '_i18',\n",
       "   '_i19',\n",
       "   '_i2',\n",
       "   '_i20',\n",
       "   '_i21',\n",
       "   '_i22',\n",
       "   '_i23',\n",
       "   '_i24',\n",
       "   '_i25',\n",
       "   '_i26',\n",
       "   '_i27',\n",
       "   '_i28',\n",
       "   '_i29',\n",
       "   '_i3',\n",
       "   '_i30',\n",
       "   '_i31',\n",
       "   '_i32',\n",
       "   '_i33',\n",
       "   '_i34',\n",
       "   '_i35',\n",
       "   '_i36',\n",
       "   '_i37',\n",
       "   '_i38',\n",
       "   '_i39',\n",
       "   '_i4',\n",
       "   '_i40',\n",
       "   '_i41',\n",
       "   '_i42',\n",
       "   '_i43',\n",
       "   '_i44',\n",
       "   '_i45',\n",
       "   '_i46',\n",
       "   '_i47',\n",
       "   '_i48',\n",
       "   '_i49',\n",
       "   '_i5',\n",
       "   '_i50',\n",
       "   '_i51',\n",
       "   '_i52',\n",
       "   '_i53',\n",
       "   '_i54',\n",
       "   '_i55',\n",
       "   '_i56',\n",
       "   '_i57',\n",
       "   '_i58',\n",
       "   '_i59',\n",
       "   '_i6',\n",
       "   '_i60',\n",
       "   '_i61',\n",
       "   '_i62',\n",
       "   '_i63',\n",
       "   '_i64',\n",
       "   '_i65',\n",
       "   '_i66',\n",
       "   '_i67',\n",
       "   '_i68',\n",
       "   '_i69',\n",
       "   '_i7',\n",
       "   '_i70',\n",
       "   '_i8',\n",
       "   '_i9',\n",
       "   '_ih',\n",
       "   '_ii',\n",
       "   '_iii',\n",
       "   '_oh',\n",
       "   'a',\n",
       "   'asci_my_s',\n",
       "   'ast_code',\n",
       "   'b',\n",
       "   'e1',\n",
       "   'e2',\n",
       "   'e3',\n",
       "   'exit',\n",
       "   'f0',\n",
       "   'f1',\n",
       "   'get_ipython',\n",
       "   'gradient_descent',\n",
       "   'i',\n",
       "   'isPrime',\n",
       "   'l1',\n",
       "   'l2',\n",
       "   'l3',\n",
       "   'my_s',\n",
       "   'np',\n",
       "   'open',\n",
       "   'quit',\n",
       "   'src_code_fibanocci_10'],\n",
       "  72: ['BPF',\n",
       "   'LOG4',\n",
       "   'NV_MAGICCONST',\n",
       "   'RECIP_BPF',\n",
       "   'Random',\n",
       "   'SG_MAGICCONST',\n",
       "   'SystemRandom',\n",
       "   'TWOPI',\n",
       "   '_Sequence',\n",
       "   '_Set',\n",
       "   '__all__',\n",
       "   '__builtins__',\n",
       "   '__cached__',\n",
       "   '__doc__',\n",
       "   '__file__',\n",
       "   '__loader__',\n",
       "   '__name__',\n",
       "   '__package__',\n",
       "   '__spec__',\n",
       "   '_accumulate',\n",
       "   '_acos',\n",
       "   '_bisect',\n",
       "   '_ceil',\n",
       "   '_cos',\n",
       "   '_e',\n",
       "   '_exp',\n",
       "   '_floor',\n",
       "   '_inst',\n",
       "   '_log',\n",
       "   '_os',\n",
       "   '_pi',\n",
       "   '_random',\n",
       "   '_repeat',\n",
       "   '_sha512',\n",
       "   '_sin',\n",
       "   '_sqrt',\n",
       "   '_test',\n",
       "   '_test_generator',\n",
       "   '_urandom',\n",
       "   '_warn',\n",
       "   'betavariate',\n",
       "   'choice',\n",
       "   'choices',\n",
       "   'expovariate',\n",
       "   'gammavariate',\n",
       "   'gauss',\n",
       "   'getrandbits',\n",
       "   'getstate',\n",
       "   'lognormvariate',\n",
       "   'normalvariate',\n",
       "   'paretovariate',\n",
       "   'randbytes',\n",
       "   'randint',\n",
       "   'random',\n",
       "   'randrange',\n",
       "   'sample',\n",
       "   'seed',\n",
       "   'setstate',\n",
       "   'shuffle',\n",
       "   'triangular',\n",
       "   'uniform',\n",
       "   'vonmisesvariate',\n",
       "   'weibullvariate'],\n",
       "  73: ((6, 1), 6, 1),\n",
       "  75: ((6, 1), '==', (6, 1)),\n",
       "  76: <enumerate at 0x19b7f061980>,\n",
       "  77: [(0, 'Monday'),\n",
       "   (1, 'Tuesday'),\n",
       "   (2, 'Wednesday'),\n",
       "   (3, 'Thursday'),\n",
       "   (4, 'Friday'),\n",
       "   (5, 'Saturday'),\n",
       "   (6, 'Sunday')],\n",
       "  78: [(1, 'Monday'),\n",
       "   (2, 'Tuesday'),\n",
       "   (3, 'Wednesday'),\n",
       "   (4, 'Thursday'),\n",
       "   (5, 'Friday'),\n",
       "   (6, 'Saturday'),\n",
       "   (7, 'Sunday')],\n",
       "  79: <filter at 0x19b7ef49a30>,\n",
       "  81: [2, 3, 5, 7, 11, 13, 17, 19],\n",
       "  82: [2, 4, 6, 8, 10, 12, 14, 16, 18],\n",
       "  83: 1.2245,\n",
       "  85: (inf, -inf, nan),\n",
       "  86: '0b11000',\n",
       "  87: (str, str),\n",
       "  88: '6.340000%',\n",
       "  89: '99.366000%',\n",
       "  90: '99.366000%',\n",
       "  91: '99.366000%'},\n",
       " 'get_ipython': <bound method InteractiveShell.get_ipython of <ipykernel.zmqshell.ZMQInteractiveShell object at 0x0000019B7D7BF970>>,\n",
       " 'exit': <IPython.core.autocall.ZMQExitAutocall at 0x19b7d7d0520>,\n",
       " 'quit': <IPython.core.autocall.ZMQExitAutocall at 0x19b7d7d0520>,\n",
       " 'open': <function io.open(file, mode='r', buffering=-1, encoding=None, errors=None, newline=None, closefd=True, opener=None)>,\n",
       " '_': '99.366000%',\n",
       " '__': '0.634000%',\n",
       " '___': '99.366000%',\n",
       " '__vsc_ipynb_file__': 'c:\\\\Maha\\\\dev\\\\GitHub\\\\BasicML\\\\python_basics\\\\02_builtins.ipynb',\n",
       " 'InteractiveShell': IPython.core.interactiveshell.InteractiveShell,\n",
       " '_i': \"p = 0.00634\\nformat(p, '%')\\nformat(1-p, '%')\",\n",
       " '_ii': \"p = 0.00634\\nformat(p, '%')\\nformat(1-p, '2%')\",\n",
       " '_iii': \"p = 0.00634\\nformat(p, '%')\\nformat(1-p, '%')\",\n",
       " '_i1': 'abs(2)\\nabs(-2.34)\\nabs(7 + 9j) # | 7 + 9j | = sqrt(7^2 + 9^2) = sqrt(130) = 11.40175425099138',\n",
       " '_1': 11.40175425099138,\n",
       " '_i2': 'def isPrime(n):\\n    if n < 2:\\n        return False\\n    for i in range(2, n):\\n        if n % i == 0:\\n            return False\\n    return True\\nl1 = [1, 2, 3, 4, 5]\\nl2 = [2,3,5,7,11,13,17,19,23,29]\\nl3 = [4,6,8,9,10,12,14,15,16,18,20]\\nall([isPrime(x) for x in l1]) \\nall([isPrime(x) for x in l2])\\nall([isPrime(x) for x in l3])\\nall([])  # True for EMpty List',\n",
       " 'isPrime': <function __main__.isPrime(n)>,\n",
       " 'l1': [1, 2, 3, 4, 5],\n",
       " 'l2': [2, 3, 5, 7, 11, 13, 17, 19, 23, 29],\n",
       " 'l3': [4, 6, 8, 9, 10, 12, 14, 15, 16, 18, 20],\n",
       " '_2': True,\n",
       " '_i3': 'any([isPrime(x) for x in l1]) \\nany([isPrime(x) for x in l2])\\nany([isPrime(x) for x in l3])\\nany([])  # False for EMpty List',\n",
       " '_3': False,\n",
       " '_i4': 'my_s = \"EMoji 🥲 198247 👏 movie 983@^*&(!) 🎬💯🔥 KISSIK : 🤳 KISS KISS KISS... KISSIK 📸😊😂 ^%+_}|{}``~~\"\\nasci_my_s = ascii(my_s)\\nasci_my_s , type(asci_my_s )',\n",
       " 'my_s': 'EMoji 🥲 198247 👏 movie 983@^*&(!) 🎬💯🔥 KISSIK : 🤳 KISS KISS KISS... KISSIK 📸😊😂 ^%+_}|{}``~~',\n",
       " 'asci_my_s': \"'EMoji \\\\U0001f972 198247 \\\\U0001f44f movie 983@^*&(!) \\\\U0001f3ac\\\\U0001f4af\\\\U0001f525 KISSIK : \\\\U0001f933 KISS KISS KISS... KISSIK \\\\U0001f4f8\\\\U0001f60a\\\\U0001f602 ^%+_}|{}``~~'\",\n",
       " '_4': (\"'EMoji \\\\U0001f972 198247 \\\\U0001f44f movie 983@^*&(!) \\\\U0001f3ac\\\\U0001f4af\\\\U0001f525 KISSIK : \\\\U0001f933 KISS KISS KISS... KISSIK \\\\U0001f4f8\\\\U0001f60a\\\\U0001f602 ^%+_}|{}``~~'\",\n",
       "  str),\n",
       " '_i5': 'bin(4) , bin(-24)',\n",
       " '_5': ('0b100', '-0b11000'),\n",
       " '_i6': 'bin(0x33), bin(0b110011), bin(0o63), bin(51) # 0x33 = 0b110011 = 0o63 = 51',\n",
       " '_6': ('0b110011', '0b110011', '0b110011', '0b110011'),\n",
       " '_i7': 'oct(4) , oct(-24)',\n",
       " '_7': ('0o4', '-0o30'),\n",
       " '_i8': 'oct(0x33), oct(0b110011), oct(0o63), oct(51) # 0x33 = 0b110011 = 0o63 = 51',\n",
       " '_8': ('0o63', '0o63', '0o63', '0o63'),\n",
       " '_i9': 'hex(4) , hex(-24)',\n",
       " '_9': ('0x4', '-0x18'),\n",
       " '_i10': 'hex(0x33), hex(0b110011), hex(0o63), hex(51) # 0x33 = 0b110011 = 0o63 = 51',\n",
       " '_10': ('0x33', '0x33', '0x33', '0x33'),\n",
       " '_i11': 'type(bin(4)), type(oct(4)), type(hex(4)) ',\n",
       " '_11': (str, str, str),\n",
       " '_i12': '# oct(bin(4)) # ERROR',\n",
       " '_i13': \"format(24, '#b')\\nformat(24, 'b')\",\n",
       " '_13': '11000',\n",
       " '_i14': \"format(24, '#o')\\nformat(24, 'o')\",\n",
       " '_14': '30',\n",
       " '_i15': \"format(24, '#x')\\nformat(24, 'x')\\nformat(24, '#X')\\nformat(24, 'X')\",\n",
       " '_15': '18',\n",
       " '_i16': \"format(24, 'c')\\nformat(24, 'd')\\nformat(24, 'e')\\nformat(24, 'E')\\nformat(24, 'f')\\nformat(24, 'F')\\nformat(24, 'g')\\nformat(24, 'G')\\nformat(24, 'n')\\nformat(24, '%')\",\n",
       " '_16': '2400.000000%',\n",
       " '_i17': 'bool(0), bool(0.0), bool(0j), bool(0+0j), bool(0.0+0.0j), bool(0.0+0j)\\nbool(1), bool(0.000001), bool(1j), bool(1+0j), bool(0.0+0.1j), bool(1.0+0j)',\n",
       " '_17': (True, True, True, True, True, True),\n",
       " '_i18': '# enters to pdb\\n\\nimport numpy as np\\n\\ndef gradient_descent(learning_rate, max_iter, x, y):\\n    m = 0\\n    b = 0\\n    n = len(x)\\n    for i in range(max_iter):\\n        y_pred = m * x + b\\n        cost = (1/n) * sum([val**2 for val in (y - y_pred)])\\n        md = -(2/n) * sum(x * (y - y_pred))\\n        bd = -(2/n) * sum(y - y_pred)\\n        m = m - learning_rate * md\\n        b = b - learning_rate * bd\\n        print(f\"Iteration {i+1} : m = {m}, b = {b}, cost = {cost}\")\\n        if i == 25:\\n            # import pdb; pdb.set_trace()\\n            # breakpoint()\\n            pass\\n    return m, b\\ngradient_descent(0.01, 100, np.array([1,2,3,4,5]), np.array([5,7,9,11,13]))',\n",
       " 'np': <module 'numpy' from 'c:\\\\Users\\\\myalla\\\\anaconda3\\\\envs\\\\iisc\\\\lib\\\\site-packages\\\\numpy\\\\__init__.py'>,\n",
       " 'gradient_descent': <function __main__.gradient_descent(learning_rate, max_iter, x, y)>,\n",
       " '_18': (2.4484684018774328, 1.3808867709499106),\n",
       " '_i19': '# enters to pdb\\n\\nimport numpy as np\\n\\ndef gradient_descent(learning_rate, max_iter, x, y):\\n    m = 0\\n    b = 0\\n    n = len(x)\\n    for i in range(max_iter):\\n        y_pred = m * x + b\\n        cost = (1/n) * sum([val**2 for val in (y - y_pred)])\\n        md = -(2/n) * sum(x * (y - y_pred))\\n        bd = -(2/n) * sum(y - y_pred)\\n        m = m - learning_rate * md\\n        b = b - learning_rate * bd\\n        # print(f\"Iteration {i+1} : m = {m}, b = {b}, cost = {cost}\")\\n        if i == 25:\\n            # import pdb; pdb.set_trace()\\n            # breakpoint()\\n            pass\\n    return m, b\\ngradient_descent(0.01, 100, np.array([1,2,3,4,5]), np.array([5,7,9,11,13]))',\n",
       " '_19': (2.4484684018774328, 1.3808867709499106),\n",
       " '_i20': \"bytes('Maha')\",\n",
       " '_i21': \"bytes('Maha', 'ASCII')\",\n",
       " '_21': b'Maha',\n",
       " '_i22': \"bytes('Maha', 'ASCII')\\nbytes('Maha', 'UTF-8')\\nbytes('Maha', 'UTF-16')\\nbytes('Maha', 'UTF-32')\",\n",
       " '_22': b'\\xff\\xfe\\x00\\x00M\\x00\\x00\\x00a\\x00\\x00\\x00h\\x00\\x00\\x00a\\x00\\x00\\x00',\n",
       " '_i23': \"bytearray('Maha', 'ASCII')\",\n",
       " '_23': bytearray(b'Maha'),\n",
       " '_i24': \"bytearray('Maha', 'ASCII')\\n\\nbytearray('Maha', 'UTF-8')\",\n",
       " '_24': bytearray(b'Maha'),\n",
       " '_i25': \"bytearray('Maha', 'ASCII')\\nbytearray('Maha', 'UTF-8')\\n\\nbytearray([1,2,3,4,5,6,7,8,9,10])\",\n",
       " '_25': bytearray(b'\\x01\\x02\\x03\\x04\\x05\\x06\\x07\\x08\\t\\n'),\n",
       " '_i26': \"bytearray('Maha', 'ASCII')\\nbytearray('Maha', 'UTF-8')\\n\\nb = bytearray([1,2,3,4,5,6,7,8,9,10])\\nb\\nb.append(11)\\nb\",\n",
       " '_26': bytearray(b'\\x0b\\n\\t\\x08\\x07\\x06\\x05\\x04\\x03\\x02\\x01'),\n",
       " 'b': 17,\n",
       " '_i27': 'b.reverse()',\n",
       " '_i28': 'b.reverse()\\nb',\n",
       " '_28': bytearray(b'\\x0b\\n\\t\\x08\\x07\\x06\\x05\\x04\\x03\\x02\\x01'),\n",
       " '_i29': 'b.reverse()\\nb',\n",
       " '_29': bytearray(b'\\x0b\\n\\t\\x08\\x07\\x06\\x05\\x04\\x03\\x02\\x01'),\n",
       " '_i30': 'bytes(5)\\nbytearray(5)',\n",
       " '_30': bytearray(b'\\x00\\x00\\x00\\x00\\x00'),\n",
       " '_i31': '# create 5 byte space\\nbytes(5)\\nbytearray(5)',\n",
       " '_31': bytearray(b'\\x00\\x00\\x00\\x00\\x00'),\n",
       " '_i32': 'callable(print)\\ncallable(isPrime)\\ncallable(int)\\ncallable(str)\\ncallable(type)',\n",
       " '_32': True,\n",
       " '_i33': \"callable(print)\\ncallable(isPrime)\\ncallable(int)\\ncallable(str)\\ncallable(type)\\ncallable('hey')\\ncallable('hey'.upper())\",\n",
       " '_33': False,\n",
       " '_i34': 'callable(callable)',\n",
       " '_34': True,\n",
       " '_i35': 'callable(callable)\\ncallable(bool)',\n",
       " '_35': True,\n",
       " '_i36': 'callable([])\\ncallable(list)\\ncallable({})\\ncallable(dict)',\n",
       " '_36': True,\n",
       " '_i37': \"chr('h')\",\n",
       " '_i38': 'chr(96)',\n",
       " '_38': '`',\n",
       " '_i39': 'chr(94)',\n",
       " '_39': '^',\n",
       " '_i40': 'chr(94)',\n",
       " '_40': '^',\n",
       " '_i41': \"chr(94) , ord('^')\",\n",
       " '_41': ('^', 94),\n",
       " '_i42': \"chr(94) , ord('^') , ord(chr(94)) , chr(ord('^'))\",\n",
       " '_42': ('^', 94, 94, '^'),\n",
       " '_i43': '# valid range of chr is 0 to 1114111 (0x10FFFF in base 16)\\nchr(1114111) , chr(1114112) # ERROR',\n",
       " '_i44': '# valid range of chr is 0 to 1114111 (0x10FFFF in base 16)\\nchr(1114111) ',\n",
       " '_44': '\\U0010ffff',\n",
       " '_i45': \"# valid range of chr is 0 to 1114111 (0x10FFFF in base 16)\\nformat(chr(1114111) , 'c')\",\n",
       " '_i46': '# valid range of chr is 0 to 1114111 (0x10FFFF in base 16)\\nchr(1114111) ',\n",
       " '_46': '\\U0010ffff',\n",
       " '_i47': \"# valid range of chr is 0 to 1114111 (0x10FFFF in base 16)\\nchr(1114111).encode('utf-8')\",\n",
       " '_47': b'\\xf4\\x8f\\xbf\\xbf',\n",
       " '_i48': \"# valid range of chr is 0 to 1114111 (0x10FFFF in base 16)\\nchr(1114111).encode('utf-16')\",\n",
       " '_48': b'\\xff\\xfe\\xff\\xdb\\xff\\xdf',\n",
       " '_i49': \"# valid range of chr is 0 to 1114111 (0x10FFFF in base 16)\\nchr(1114111).encode('utf-32')\",\n",
       " '_49': b'\\xff\\xfe\\x00\\x00\\xff\\xff\\x10\\x00',\n",
       " '_i50': '# valid range of chr is 0 to 1114111 (0x10FFFF in base 16)\\nchr(1114111)',\n",
       " '_50': '\\U0010ffff',\n",
       " '_i51': 'chr(1577)',\n",
       " '_51': 'ة',\n",
       " '_i52': 'chr(1577) # some arabic char',\n",
       " '_52': 'ة',\n",
       " '_i53': 'chr(1577) # some arabic char',\n",
       " '_53': 'ة',\n",
       " '_i54': '# exec\\n\\ne1 = compile(\\'print(\"Hello World\")\\', \\'test\\', \\'exec\\')\\ne1',\n",
       " 'e1': <code object <module> at 0x0000019B7BF062F0, file \"test\", line 1>,\n",
       " '_54': <code object <module> at 0x0000019B7BF062F0, file \"test\", line 1>,\n",
       " '_i55': 'eval(e1)',\n",
       " '_i56': 'e2 = compile(\\'print(\"Hello World\")\\', \\'test_eval\\', \\'eval\\')',\n",
       " 'e2': <code object <module> at 0x0000019B7F0C5A80, file \"test_eval\", line 1>,\n",
       " '_i57': 'e2 = compile(\\'print(\"Hello World\")\\', \\'test_eval\\', \\'eval\\')\\neval(e2)\\nexec(e2)',\n",
       " '_i58': 'e3 = compile(\\'print(f\"Hello World {20}\")\\', \\'test_single\\', \\'single\\')',\n",
       " 'e3': <code object <module> at 0x0000019B7BF07EA0, file \"test_single\", line 1>,\n",
       " '_i59': 'e3 = compile(\\'print(f\"Hello World {20}\")\\', \\'test_single\\', \\'single\\')\\nexec(e3)',\n",
       " '_i60': \"src_code_fibanocci_10 = 'f0 = 0\\\\nf1 = 1\\\\nfor i in range(10):\\\\n\\\\tprint(f0)\\\\n\\\\tf0, f1 = f1, f0+f1'\\ncompile(src_code_fibanocci_10, 'test_fib', 'single')\",\n",
       " 'src_code_fibanocci_10': 'f0 = 0\\nf1 = 1\\nfor i in range(10):\\n\\tprint(f0)\\n\\tf0, f1 = f1, f0+f1',\n",
       " '_i61': \"src_code_fibanocci_10 = 'f0 = 0\\\\nf1 = 1\\\\nfor i in range(10):\\\\n\\\\tprint(f0)\\\\n\\\\tf0, f1 = f1, f0+f1'\\ncompile(src_code_fibanocci_10, 'test_fib', 'exec')\",\n",
       " '_61': <code object <module> at 0x0000019B7F0E93A0, file \"test_fib\", line 1>,\n",
       " '_i62': \"src_code_fibanocci_10 = 'f0 = 0\\\\nf1 = 1\\\\nfor i in range(10):\\\\n\\\\tprint(f0)\\\\n\\\\tf0, f1 = f1, f0+f1'\\nast_code = compile(src_code_fibanocci_10, 'test_fib', 'exec')\\neval(ast_code)\",\n",
       " 'ast_code': <code object <module> at 0x0000019B7D859A80, file \"test_fib\", line 1>,\n",
       " 'f0': 55,\n",
       " 'f1': 89,\n",
       " 'i': 9,\n",
       " '_i63': 'complex()',\n",
       " '_63': 0j,\n",
       " '_i64': 'complex()\\ncomplex(1)\\ncomplex(1,2)\\ncomplex(1,2.3)',\n",
       " '_64': (1+2.3j),\n",
       " '_i65': 'complex()\\ncomplex(1)\\ncomplex(1,2)',\n",
       " '_65': (1+2j),\n",
       " '_i66': 'a,b = complex(1,2), complex(2,1)\\na+b',\n",
       " 'a': 103,\n",
       " '_66': (3+3j),\n",
       " '_i67': 'a,b = complex(1,2), complex(2,1)\\na+b\\na.real\\na.imag\\na.conjugate()',\n",
       " '_67': (1-2j),\n",
       " '_i68': 'a,b = complex(1,2), complex(2,1)\\na+b\\na.real\\na.imag\\na.conjugate()\\na.conjugate()*a',\n",
       " '_68': (5+0j),\n",
       " '_i69': 'dir()',\n",
       " '_69': ['In',\n",
       "  'InteractiveShell',\n",
       "  'Out',\n",
       "  '_',\n",
       "  '_1',\n",
       "  '_10',\n",
       "  '_11',\n",
       "  '_13',\n",
       "  '_14',\n",
       "  '_15',\n",
       "  '_16',\n",
       "  '_17',\n",
       "  '_18',\n",
       "  '_19',\n",
       "  '_2',\n",
       "  '_21',\n",
       "  '_22',\n",
       "  '_23',\n",
       "  '_24',\n",
       "  '_25',\n",
       "  '_26',\n",
       "  '_28',\n",
       "  '_29',\n",
       "  '_3',\n",
       "  '_30',\n",
       "  '_31',\n",
       "  '_32',\n",
       "  '_33',\n",
       "  '_34',\n",
       "  '_35',\n",
       "  '_36',\n",
       "  '_38',\n",
       "  '_39',\n",
       "  '_4',\n",
       "  '_40',\n",
       "  '_41',\n",
       "  '_42',\n",
       "  '_44',\n",
       "  '_46',\n",
       "  '_47',\n",
       "  '_48',\n",
       "  '_49',\n",
       "  '_5',\n",
       "  '_50',\n",
       "  '_51',\n",
       "  '_52',\n",
       "  '_53',\n",
       "  '_54',\n",
       "  '_6',\n",
       "  '_61',\n",
       "  '_63',\n",
       "  '_64',\n",
       "  '_65',\n",
       "  '_66',\n",
       "  '_67',\n",
       "  '_68',\n",
       "  '_7',\n",
       "  '_8',\n",
       "  '_9',\n",
       "  '__',\n",
       "  '___',\n",
       "  '__builtin__',\n",
       "  '__builtins__',\n",
       "  '__doc__',\n",
       "  '__loader__',\n",
       "  '__name__',\n",
       "  '__package__',\n",
       "  '__spec__',\n",
       "  '__vsc_ipynb_file__',\n",
       "  '_dh',\n",
       "  '_i',\n",
       "  '_i1',\n",
       "  '_i10',\n",
       "  '_i11',\n",
       "  '_i12',\n",
       "  '_i13',\n",
       "  '_i14',\n",
       "  '_i15',\n",
       "  '_i16',\n",
       "  '_i17',\n",
       "  '_i18',\n",
       "  '_i19',\n",
       "  '_i2',\n",
       "  '_i20',\n",
       "  '_i21',\n",
       "  '_i22',\n",
       "  '_i23',\n",
       "  '_i24',\n",
       "  '_i25',\n",
       "  '_i26',\n",
       "  '_i27',\n",
       "  '_i28',\n",
       "  '_i29',\n",
       "  '_i3',\n",
       "  '_i30',\n",
       "  '_i31',\n",
       "  '_i32',\n",
       "  '_i33',\n",
       "  '_i34',\n",
       "  '_i35',\n",
       "  '_i36',\n",
       "  '_i37',\n",
       "  '_i38',\n",
       "  '_i39',\n",
       "  '_i4',\n",
       "  '_i40',\n",
       "  '_i41',\n",
       "  '_i42',\n",
       "  '_i43',\n",
       "  '_i44',\n",
       "  '_i45',\n",
       "  '_i46',\n",
       "  '_i47',\n",
       "  '_i48',\n",
       "  '_i49',\n",
       "  '_i5',\n",
       "  '_i50',\n",
       "  '_i51',\n",
       "  '_i52',\n",
       "  '_i53',\n",
       "  '_i54',\n",
       "  '_i55',\n",
       "  '_i56',\n",
       "  '_i57',\n",
       "  '_i58',\n",
       "  '_i59',\n",
       "  '_i6',\n",
       "  '_i60',\n",
       "  '_i61',\n",
       "  '_i62',\n",
       "  '_i63',\n",
       "  '_i64',\n",
       "  '_i65',\n",
       "  '_i66',\n",
       "  '_i67',\n",
       "  '_i68',\n",
       "  '_i69',\n",
       "  '_i7',\n",
       "  '_i8',\n",
       "  '_i9',\n",
       "  '_ih',\n",
       "  '_ii',\n",
       "  '_iii',\n",
       "  '_oh',\n",
       "  'a',\n",
       "  'asci_my_s',\n",
       "  'ast_code',\n",
       "  'b',\n",
       "  'e1',\n",
       "  'e2',\n",
       "  'e3',\n",
       "  'exit',\n",
       "  'f0',\n",
       "  'f1',\n",
       "  'get_ipython',\n",
       "  'gradient_descent',\n",
       "  'i',\n",
       "  'isPrime',\n",
       "  'l1',\n",
       "  'l2',\n",
       "  'l3',\n",
       "  'my_s',\n",
       "  'np',\n",
       "  'open',\n",
       "  'quit',\n",
       "  'src_code_fibanocci_10'],\n",
       " '_i70': 'dir() # lists all active variables',\n",
       " '_70': ['In',\n",
       "  'InteractiveShell',\n",
       "  'Out',\n",
       "  '_',\n",
       "  '_1',\n",
       "  '_10',\n",
       "  '_11',\n",
       "  '_13',\n",
       "  '_14',\n",
       "  '_15',\n",
       "  '_16',\n",
       "  '_17',\n",
       "  '_18',\n",
       "  '_19',\n",
       "  '_2',\n",
       "  '_21',\n",
       "  '_22',\n",
       "  '_23',\n",
       "  '_24',\n",
       "  '_25',\n",
       "  '_26',\n",
       "  '_28',\n",
       "  '_29',\n",
       "  '_3',\n",
       "  '_30',\n",
       "  '_31',\n",
       "  '_32',\n",
       "  '_33',\n",
       "  '_34',\n",
       "  '_35',\n",
       "  '_36',\n",
       "  '_38',\n",
       "  '_39',\n",
       "  '_4',\n",
       "  '_40',\n",
       "  '_41',\n",
       "  '_42',\n",
       "  '_44',\n",
       "  '_46',\n",
       "  '_47',\n",
       "  '_48',\n",
       "  '_49',\n",
       "  '_5',\n",
       "  '_50',\n",
       "  '_51',\n",
       "  '_52',\n",
       "  '_53',\n",
       "  '_54',\n",
       "  '_6',\n",
       "  '_61',\n",
       "  '_63',\n",
       "  '_64',\n",
       "  '_65',\n",
       "  '_66',\n",
       "  '_67',\n",
       "  '_68',\n",
       "  '_69',\n",
       "  '_7',\n",
       "  '_8',\n",
       "  '_9',\n",
       "  '__',\n",
       "  '___',\n",
       "  '__builtin__',\n",
       "  '__builtins__',\n",
       "  '__doc__',\n",
       "  '__loader__',\n",
       "  '__name__',\n",
       "  '__package__',\n",
       "  '__spec__',\n",
       "  '__vsc_ipynb_file__',\n",
       "  '_dh',\n",
       "  '_i',\n",
       "  '_i1',\n",
       "  '_i10',\n",
       "  '_i11',\n",
       "  '_i12',\n",
       "  '_i13',\n",
       "  '_i14',\n",
       "  '_i15',\n",
       "  '_i16',\n",
       "  '_i17',\n",
       "  '_i18',\n",
       "  '_i19',\n",
       "  '_i2',\n",
       "  '_i20',\n",
       "  '_i21',\n",
       "  '_i22',\n",
       "  '_i23',\n",
       "  '_i24',\n",
       "  '_i25',\n",
       "  '_i26',\n",
       "  '_i27',\n",
       "  '_i28',\n",
       "  '_i29',\n",
       "  '_i3',\n",
       "  '_i30',\n",
       "  '_i31',\n",
       "  '_i32',\n",
       "  '_i33',\n",
       "  '_i34',\n",
       "  '_i35',\n",
       "  '_i36',\n",
       "  '_i37',\n",
       "  '_i38',\n",
       "  '_i39',\n",
       "  '_i4',\n",
       "  '_i40',\n",
       "  '_i41',\n",
       "  '_i42',\n",
       "  '_i43',\n",
       "  '_i44',\n",
       "  '_i45',\n",
       "  '_i46',\n",
       "  '_i47',\n",
       "  '_i48',\n",
       "  '_i49',\n",
       "  '_i5',\n",
       "  '_i50',\n",
       "  '_i51',\n",
       "  '_i52',\n",
       "  '_i53',\n",
       "  '_i54',\n",
       "  '_i55',\n",
       "  '_i56',\n",
       "  '_i57',\n",
       "  '_i58',\n",
       "  '_i59',\n",
       "  '_i6',\n",
       "  '_i60',\n",
       "  '_i61',\n",
       "  '_i62',\n",
       "  '_i63',\n",
       "  '_i64',\n",
       "  '_i65',\n",
       "  '_i66',\n",
       "  '_i67',\n",
       "  '_i68',\n",
       "  '_i69',\n",
       "  '_i7',\n",
       "  '_i70',\n",
       "  '_i8',\n",
       "  '_i9',\n",
       "  '_ih',\n",
       "  '_ii',\n",
       "  '_iii',\n",
       "  '_oh',\n",
       "  'a',\n",
       "  'asci_my_s',\n",
       "  'ast_code',\n",
       "  'b',\n",
       "  'e1',\n",
       "  'e2',\n",
       "  'e3',\n",
       "  'exit',\n",
       "  'f0',\n",
       "  'f1',\n",
       "  'get_ipython',\n",
       "  'gradient_descent',\n",
       "  'i',\n",
       "  'isPrime',\n",
       "  'l1',\n",
       "  'l2',\n",
       "  'l3',\n",
       "  'my_s',\n",
       "  'np',\n",
       "  'open',\n",
       "  'quit',\n",
       "  'src_code_fibanocci_10'],\n",
       " '_i71': 'dir(random)',\n",
       " '_i72': 'import random as rd\\ndir(rd)',\n",
       " 'rd': <module 'random' from 'c:\\\\Users\\\\myalla\\\\anaconda3\\\\envs\\\\iisc\\\\lib\\\\random.py'>,\n",
       " '_72': ['BPF',\n",
       "  'LOG4',\n",
       "  'NV_MAGICCONST',\n",
       "  'RECIP_BPF',\n",
       "  'Random',\n",
       "  'SG_MAGICCONST',\n",
       "  'SystemRandom',\n",
       "  'TWOPI',\n",
       "  '_Sequence',\n",
       "  '_Set',\n",
       "  '__all__',\n",
       "  '__builtins__',\n",
       "  '__cached__',\n",
       "  '__doc__',\n",
       "  '__file__',\n",
       "  '__loader__',\n",
       "  '__name__',\n",
       "  '__package__',\n",
       "  '__spec__',\n",
       "  '_accumulate',\n",
       "  '_acos',\n",
       "  '_bisect',\n",
       "  '_ceil',\n",
       "  '_cos',\n",
       "  '_e',\n",
       "  '_exp',\n",
       "  '_floor',\n",
       "  '_inst',\n",
       "  '_log',\n",
       "  '_os',\n",
       "  '_pi',\n",
       "  '_random',\n",
       "  '_repeat',\n",
       "  '_sha512',\n",
       "  '_sin',\n",
       "  '_sqrt',\n",
       "  '_test',\n",
       "  '_test_generator',\n",
       "  '_urandom',\n",
       "  '_warn',\n",
       "  'betavariate',\n",
       "  'choice',\n",
       "  'choices',\n",
       "  'expovariate',\n",
       "  'gammavariate',\n",
       "  'gauss',\n",
       "  'getrandbits',\n",
       "  'getstate',\n",
       "  'lognormvariate',\n",
       "  'normalvariate',\n",
       "  'paretovariate',\n",
       "  'randbytes',\n",
       "  'randint',\n",
       "  'random',\n",
       "  'randrange',\n",
       "  'sample',\n",
       "  'seed',\n",
       "  'setstate',\n",
       "  'shuffle',\n",
       "  'triangular',\n",
       "  'uniform',\n",
       "  'vonmisesvariate',\n",
       "  'weibullvariate'],\n",
       " '_i73': 'a = 103\\nb = 17\\ndivmod(a,b) , a// b , a % b ',\n",
       " '_73': ((6, 1), 6, 1),\n",
       " '_i74': 'a = 103\\nb = 17\\ndivmod(a,b) , == , (a// b , a % b )',\n",
       " '_i75': 'a = 103\\nb = 17\\ndivmod(a,b) , \"==\" , (a// b , a % b )',\n",
       " '_75': ((6, 1), '==', (6, 1)),\n",
       " '_i76': \"weekdays = ['Monday', 'Tuesday', 'Wednesday', 'Thursday', 'Friday', 'Saturday', 'Sunday']\\nenumerate(weekdays)\",\n",
       " 'weekdays': ['Monday',\n",
       "  'Tuesday',\n",
       "  'Wednesday',\n",
       "  'Thursday',\n",
       "  'Friday',\n",
       "  'Saturday',\n",
       "  'Sunday'],\n",
       " '_76': <enumerate at 0x19b7f061980>,\n",
       " '_i77': \"weekdays = ['Monday', 'Tuesday', 'Wednesday', 'Thursday', 'Friday', 'Saturday', 'Sunday']\\nlist(enumerate(weekdays))\",\n",
       " '_77': [(0, 'Monday'),\n",
       "  (1, 'Tuesday'),\n",
       "  (2, 'Wednesday'),\n",
       "  (3, 'Thursday'),\n",
       "  (4, 'Friday'),\n",
       "  (5, 'Saturday'),\n",
       "  (6, 'Sunday')],\n",
       " '_i78': \"weekdays = ['Monday', 'Tuesday', 'Wednesday', 'Thursday', 'Friday', 'Saturday', 'Sunday']\\nlist(enumerate(weekdays))\\nlist(enumerate(weekdays, start = 1))\",\n",
       " '_78': [(1, 'Monday'),\n",
       "  (2, 'Tuesday'),\n",
       "  (3, 'Wednesday'),\n",
       "  (4, 'Thursday'),\n",
       "  (5, 'Friday'),\n",
       "  (6, 'Saturday'),\n",
       "  (7, 'Sunday')],\n",
       " '_i79': 'filter(isPrime, range(1, 20))',\n",
       " '_79': <filter at 0x19b7ef49a30>,\n",
       " '_i80': 'print(filter(isPrime, range(1, 20)))',\n",
       " '_i81': 'list(filter(isPrime, range(1, 20)))',\n",
       " '_81': [2, 3, 5, 7, 11, 13, 17, 19],\n",
       " '_i82': 'list( filter(lambda x: x % 2 == 0, range(1, 20)) )',\n",
       " '_82': [2, 4, 6, 8, 10, 12, 14, 16, 18],\n",
       " '_i83': \"dig = '1.2245'\\nfloat(dig)\",\n",
       " 'dig': '1.2245',\n",
       " '_83': 1.2245,\n",
       " '_i84': 'int(dig)',\n",
       " '_i85': \"float('inf') , float('-inf') , float('nan')\",\n",
       " '_85': (inf, -inf, nan),\n",
       " '_i86': \"format(24, 'b')\\nformat(24, '#b')\",\n",
       " '_86': '0b11000',\n",
       " '_i87': \"format(24, 'b')\\nformat(24, '#b')\\ntype(format(24, 'b')) , type(format(24, '#b'))\",\n",
       " '_87': (str, str),\n",
       " '_i88': \"format(0.0634, '%')\",\n",
       " '_88': '6.340000%',\n",
       " '_i89': \"p = 0.00634\\nformat(p, '%')\\nformat(1-p, '%')\",\n",
       " 'p': 0.00634,\n",
       " '_89': '99.366000%',\n",
       " '_i90': \"p = 0.00634\\nformat(p, '%')\\nformat(1-p, '2%')\",\n",
       " '_90': '99.366000%',\n",
       " '_i91': \"p = 0.00634\\nformat(p, '%')\\nformat(1-p, '%')\",\n",
       " '_91': '99.366000%',\n",
       " '_i92': 'globals()'}"
      ]
     },
     "execution_count": 92,
     "metadata": {},
     "output_type": "execute_result"
    }
   ],
   "source": [
    "globals()"
   ]
  },
  {
   "cell_type": "code",
   "execution_count": 93,
   "metadata": {},
   "outputs": [
    {
     "data": {
      "text/plain": [
       "{'__name__': '__main__',\n",
       " '__doc__': 'Automatically created module for IPython interactive environment',\n",
       " '__package__': None,\n",
       " '__loader__': None,\n",
       " '__spec__': None,\n",
       " '__builtin__': <module 'builtins' (built-in)>,\n",
       " '__builtins__': <module 'builtins' (built-in)>,\n",
       " '_ih': ['',\n",
       "  'abs(2)\\nabs(-2.34)\\nabs(7 + 9j) # | 7 + 9j | = sqrt(7^2 + 9^2) = sqrt(130) = 11.40175425099138',\n",
       "  'def isPrime(n):\\n    if n < 2:\\n        return False\\n    for i in range(2, n):\\n        if n % i == 0:\\n            return False\\n    return True\\nl1 = [1, 2, 3, 4, 5]\\nl2 = [2,3,5,7,11,13,17,19,23,29]\\nl3 = [4,6,8,9,10,12,14,15,16,18,20]\\nall([isPrime(x) for x in l1]) \\nall([isPrime(x) for x in l2])\\nall([isPrime(x) for x in l3])\\nall([])  # True for EMpty List',\n",
       "  'any([isPrime(x) for x in l1]) \\nany([isPrime(x) for x in l2])\\nany([isPrime(x) for x in l3])\\nany([])  # False for EMpty List',\n",
       "  'my_s = \"EMoji 🥲 198247 👏 movie 983@^*&(!) 🎬💯🔥 KISSIK : 🤳 KISS KISS KISS... KISSIK 📸😊😂 ^%+_}|{}``~~\"\\nasci_my_s = ascii(my_s)\\nasci_my_s , type(asci_my_s )',\n",
       "  'bin(4) , bin(-24)',\n",
       "  'bin(0x33), bin(0b110011), bin(0o63), bin(51) # 0x33 = 0b110011 = 0o63 = 51',\n",
       "  'oct(4) , oct(-24)',\n",
       "  'oct(0x33), oct(0b110011), oct(0o63), oct(51) # 0x33 = 0b110011 = 0o63 = 51',\n",
       "  'hex(4) , hex(-24)',\n",
       "  'hex(0x33), hex(0b110011), hex(0o63), hex(51) # 0x33 = 0b110011 = 0o63 = 51',\n",
       "  'type(bin(4)), type(oct(4)), type(hex(4)) ',\n",
       "  '# oct(bin(4)) # ERROR',\n",
       "  \"format(24, '#b')\\nformat(24, 'b')\",\n",
       "  \"format(24, '#o')\\nformat(24, 'o')\",\n",
       "  \"format(24, '#x')\\nformat(24, 'x')\\nformat(24, '#X')\\nformat(24, 'X')\",\n",
       "  \"format(24, 'c')\\nformat(24, 'd')\\nformat(24, 'e')\\nformat(24, 'E')\\nformat(24, 'f')\\nformat(24, 'F')\\nformat(24, 'g')\\nformat(24, 'G')\\nformat(24, 'n')\\nformat(24, '%')\",\n",
       "  'bool(0), bool(0.0), bool(0j), bool(0+0j), bool(0.0+0.0j), bool(0.0+0j)\\nbool(1), bool(0.000001), bool(1j), bool(1+0j), bool(0.0+0.1j), bool(1.0+0j)',\n",
       "  '# enters to pdb\\n\\nimport numpy as np\\n\\ndef gradient_descent(learning_rate, max_iter, x, y):\\n    m = 0\\n    b = 0\\n    n = len(x)\\n    for i in range(max_iter):\\n        y_pred = m * x + b\\n        cost = (1/n) * sum([val**2 for val in (y - y_pred)])\\n        md = -(2/n) * sum(x * (y - y_pred))\\n        bd = -(2/n) * sum(y - y_pred)\\n        m = m - learning_rate * md\\n        b = b - learning_rate * bd\\n        print(f\"Iteration {i+1} : m = {m}, b = {b}, cost = {cost}\")\\n        if i == 25:\\n            # import pdb; pdb.set_trace()\\n            # breakpoint()\\n            pass\\n    return m, b\\ngradient_descent(0.01, 100, np.array([1,2,3,4,5]), np.array([5,7,9,11,13]))',\n",
       "  '# enters to pdb\\n\\nimport numpy as np\\n\\ndef gradient_descent(learning_rate, max_iter, x, y):\\n    m = 0\\n    b = 0\\n    n = len(x)\\n    for i in range(max_iter):\\n        y_pred = m * x + b\\n        cost = (1/n) * sum([val**2 for val in (y - y_pred)])\\n        md = -(2/n) * sum(x * (y - y_pred))\\n        bd = -(2/n) * sum(y - y_pred)\\n        m = m - learning_rate * md\\n        b = b - learning_rate * bd\\n        # print(f\"Iteration {i+1} : m = {m}, b = {b}, cost = {cost}\")\\n        if i == 25:\\n            # import pdb; pdb.set_trace()\\n            # breakpoint()\\n            pass\\n    return m, b\\ngradient_descent(0.01, 100, np.array([1,2,3,4,5]), np.array([5,7,9,11,13]))',\n",
       "  \"bytes('Maha')\",\n",
       "  \"bytes('Maha', 'ASCII')\",\n",
       "  \"bytes('Maha', 'ASCII')\\nbytes('Maha', 'UTF-8')\\nbytes('Maha', 'UTF-16')\\nbytes('Maha', 'UTF-32')\",\n",
       "  \"bytearray('Maha', 'ASCII')\",\n",
       "  \"bytearray('Maha', 'ASCII')\\n\\nbytearray('Maha', 'UTF-8')\",\n",
       "  \"bytearray('Maha', 'ASCII')\\nbytearray('Maha', 'UTF-8')\\n\\nbytearray([1,2,3,4,5,6,7,8,9,10])\",\n",
       "  \"bytearray('Maha', 'ASCII')\\nbytearray('Maha', 'UTF-8')\\n\\nb = bytearray([1,2,3,4,5,6,7,8,9,10])\\nb\\nb.append(11)\\nb\",\n",
       "  'b.reverse()',\n",
       "  'b.reverse()\\nb',\n",
       "  'b.reverse()\\nb',\n",
       "  'bytes(5)\\nbytearray(5)',\n",
       "  '# create 5 byte space\\nbytes(5)\\nbytearray(5)',\n",
       "  'callable(print)\\ncallable(isPrime)\\ncallable(int)\\ncallable(str)\\ncallable(type)',\n",
       "  \"callable(print)\\ncallable(isPrime)\\ncallable(int)\\ncallable(str)\\ncallable(type)\\ncallable('hey')\\ncallable('hey'.upper())\",\n",
       "  'callable(callable)',\n",
       "  'callable(callable)\\ncallable(bool)',\n",
       "  'callable([])\\ncallable(list)\\ncallable({})\\ncallable(dict)',\n",
       "  \"chr('h')\",\n",
       "  'chr(96)',\n",
       "  'chr(94)',\n",
       "  'chr(94)',\n",
       "  \"chr(94) , ord('^')\",\n",
       "  \"chr(94) , ord('^') , ord(chr(94)) , chr(ord('^'))\",\n",
       "  '# valid range of chr is 0 to 1114111 (0x10FFFF in base 16)\\nchr(1114111) , chr(1114112) # ERROR',\n",
       "  '# valid range of chr is 0 to 1114111 (0x10FFFF in base 16)\\nchr(1114111) ',\n",
       "  \"# valid range of chr is 0 to 1114111 (0x10FFFF in base 16)\\nformat(chr(1114111) , 'c')\",\n",
       "  '# valid range of chr is 0 to 1114111 (0x10FFFF in base 16)\\nchr(1114111) ',\n",
       "  \"# valid range of chr is 0 to 1114111 (0x10FFFF in base 16)\\nchr(1114111).encode('utf-8')\",\n",
       "  \"# valid range of chr is 0 to 1114111 (0x10FFFF in base 16)\\nchr(1114111).encode('utf-16')\",\n",
       "  \"# valid range of chr is 0 to 1114111 (0x10FFFF in base 16)\\nchr(1114111).encode('utf-32')\",\n",
       "  '# valid range of chr is 0 to 1114111 (0x10FFFF in base 16)\\nchr(1114111)',\n",
       "  'chr(1577)',\n",
       "  'chr(1577) # some arabic char',\n",
       "  'chr(1577) # some arabic char',\n",
       "  '# exec\\n\\ne1 = compile(\\'print(\"Hello World\")\\', \\'test\\', \\'exec\\')\\ne1',\n",
       "  'eval(e1)',\n",
       "  'e2 = compile(\\'print(\"Hello World\")\\', \\'test_eval\\', \\'eval\\')',\n",
       "  'e2 = compile(\\'print(\"Hello World\")\\', \\'test_eval\\', \\'eval\\')\\neval(e2)\\nexec(e2)',\n",
       "  'e3 = compile(\\'print(f\"Hello World {20}\")\\', \\'test_single\\', \\'single\\')',\n",
       "  'e3 = compile(\\'print(f\"Hello World {20}\")\\', \\'test_single\\', \\'single\\')\\nexec(e3)',\n",
       "  \"src_code_fibanocci_10 = 'f0 = 0\\\\nf1 = 1\\\\nfor i in range(10):\\\\n\\\\tprint(f0)\\\\n\\\\tf0, f1 = f1, f0+f1'\\ncompile(src_code_fibanocci_10, 'test_fib', 'single')\",\n",
       "  \"src_code_fibanocci_10 = 'f0 = 0\\\\nf1 = 1\\\\nfor i in range(10):\\\\n\\\\tprint(f0)\\\\n\\\\tf0, f1 = f1, f0+f1'\\ncompile(src_code_fibanocci_10, 'test_fib', 'exec')\",\n",
       "  \"src_code_fibanocci_10 = 'f0 = 0\\\\nf1 = 1\\\\nfor i in range(10):\\\\n\\\\tprint(f0)\\\\n\\\\tf0, f1 = f1, f0+f1'\\nast_code = compile(src_code_fibanocci_10, 'test_fib', 'exec')\\neval(ast_code)\",\n",
       "  'complex()',\n",
       "  'complex()\\ncomplex(1)\\ncomplex(1,2)\\ncomplex(1,2.3)',\n",
       "  'complex()\\ncomplex(1)\\ncomplex(1,2)',\n",
       "  'a,b = complex(1,2), complex(2,1)\\na+b',\n",
       "  'a,b = complex(1,2), complex(2,1)\\na+b\\na.real\\na.imag\\na.conjugate()',\n",
       "  'a,b = complex(1,2), complex(2,1)\\na+b\\na.real\\na.imag\\na.conjugate()\\na.conjugate()*a',\n",
       "  'dir()',\n",
       "  'dir() # lists all active variables',\n",
       "  'dir(random)',\n",
       "  'import random as rd\\ndir(rd)',\n",
       "  'a = 103\\nb = 17\\ndivmod(a,b) , a// b , a % b ',\n",
       "  'a = 103\\nb = 17\\ndivmod(a,b) , == , (a// b , a % b )',\n",
       "  'a = 103\\nb = 17\\ndivmod(a,b) , \"==\" , (a// b , a % b )',\n",
       "  \"weekdays = ['Monday', 'Tuesday', 'Wednesday', 'Thursday', 'Friday', 'Saturday', 'Sunday']\\nenumerate(weekdays)\",\n",
       "  \"weekdays = ['Monday', 'Tuesday', 'Wednesday', 'Thursday', 'Friday', 'Saturday', 'Sunday']\\nlist(enumerate(weekdays))\",\n",
       "  \"weekdays = ['Monday', 'Tuesday', 'Wednesday', 'Thursday', 'Friday', 'Saturday', 'Sunday']\\nlist(enumerate(weekdays))\\nlist(enumerate(weekdays, start = 1))\",\n",
       "  'filter(isPrime, range(1, 20))',\n",
       "  'print(filter(isPrime, range(1, 20)))',\n",
       "  'list(filter(isPrime, range(1, 20)))',\n",
       "  'list( filter(lambda x: x % 2 == 0, range(1, 20)) )',\n",
       "  \"dig = '1.2245'\\nfloat(dig)\",\n",
       "  'int(dig)',\n",
       "  \"float('inf') , float('-inf') , float('nan')\",\n",
       "  \"format(24, 'b')\\nformat(24, '#b')\",\n",
       "  \"format(24, 'b')\\nformat(24, '#b')\\ntype(format(24, 'b')) , type(format(24, '#b'))\",\n",
       "  \"format(0.0634, '%')\",\n",
       "  \"p = 0.00634\\nformat(p, '%')\\nformat(1-p, '%')\",\n",
       "  \"p = 0.00634\\nformat(p, '%')\\nformat(1-p, '2%')\",\n",
       "  \"p = 0.00634\\nformat(p, '%')\\nformat(1-p, '%')\",\n",
       "  'globals()',\n",
       "  'locals()'],\n",
       " '_oh': {1: 11.40175425099138,\n",
       "  2: True,\n",
       "  3: False,\n",
       "  4: (\"'EMoji \\\\U0001f972 198247 \\\\U0001f44f movie 983@^*&(!) \\\\U0001f3ac\\\\U0001f4af\\\\U0001f525 KISSIK : \\\\U0001f933 KISS KISS KISS... KISSIK \\\\U0001f4f8\\\\U0001f60a\\\\U0001f602 ^%+_}|{}``~~'\",\n",
       "   str),\n",
       "  5: ('0b100', '-0b11000'),\n",
       "  6: ('0b110011', '0b110011', '0b110011', '0b110011'),\n",
       "  7: ('0o4', '-0o30'),\n",
       "  8: ('0o63', '0o63', '0o63', '0o63'),\n",
       "  9: ('0x4', '-0x18'),\n",
       "  10: ('0x33', '0x33', '0x33', '0x33'),\n",
       "  11: (str, str, str),\n",
       "  13: '11000',\n",
       "  14: '30',\n",
       "  15: '18',\n",
       "  16: '2400.000000%',\n",
       "  17: (True, True, True, True, True, True),\n",
       "  18: (2.4484684018774328, 1.3808867709499106),\n",
       "  19: (2.4484684018774328, 1.3808867709499106),\n",
       "  21: b'Maha',\n",
       "  22: b'\\xff\\xfe\\x00\\x00M\\x00\\x00\\x00a\\x00\\x00\\x00h\\x00\\x00\\x00a\\x00\\x00\\x00',\n",
       "  23: bytearray(b'Maha'),\n",
       "  24: bytearray(b'Maha'),\n",
       "  25: bytearray(b'\\x01\\x02\\x03\\x04\\x05\\x06\\x07\\x08\\t\\n'),\n",
       "  26: bytearray(b'\\x0b\\n\\t\\x08\\x07\\x06\\x05\\x04\\x03\\x02\\x01'),\n",
       "  28: bytearray(b'\\x0b\\n\\t\\x08\\x07\\x06\\x05\\x04\\x03\\x02\\x01'),\n",
       "  29: bytearray(b'\\x0b\\n\\t\\x08\\x07\\x06\\x05\\x04\\x03\\x02\\x01'),\n",
       "  30: bytearray(b'\\x00\\x00\\x00\\x00\\x00'),\n",
       "  31: bytearray(b'\\x00\\x00\\x00\\x00\\x00'),\n",
       "  32: True,\n",
       "  33: False,\n",
       "  34: True,\n",
       "  35: True,\n",
       "  36: True,\n",
       "  38: '`',\n",
       "  39: '^',\n",
       "  40: '^',\n",
       "  41: ('^', 94),\n",
       "  42: ('^', 94, 94, '^'),\n",
       "  44: '\\U0010ffff',\n",
       "  46: '\\U0010ffff',\n",
       "  47: b'\\xf4\\x8f\\xbf\\xbf',\n",
       "  48: b'\\xff\\xfe\\xff\\xdb\\xff\\xdf',\n",
       "  49: b'\\xff\\xfe\\x00\\x00\\xff\\xff\\x10\\x00',\n",
       "  50: '\\U0010ffff',\n",
       "  51: 'ة',\n",
       "  52: 'ة',\n",
       "  53: 'ة',\n",
       "  54: <code object <module> at 0x0000019B7BF062F0, file \"test\", line 1>,\n",
       "  61: <code object <module> at 0x0000019B7F0E93A0, file \"test_fib\", line 1>,\n",
       "  63: 0j,\n",
       "  64: (1+2.3j),\n",
       "  65: (1+2j),\n",
       "  66: (3+3j),\n",
       "  67: (1-2j),\n",
       "  68: (5+0j),\n",
       "  69: ['In',\n",
       "   'InteractiveShell',\n",
       "   'Out',\n",
       "   '_',\n",
       "   '_1',\n",
       "   '_10',\n",
       "   '_11',\n",
       "   '_13',\n",
       "   '_14',\n",
       "   '_15',\n",
       "   '_16',\n",
       "   '_17',\n",
       "   '_18',\n",
       "   '_19',\n",
       "   '_2',\n",
       "   '_21',\n",
       "   '_22',\n",
       "   '_23',\n",
       "   '_24',\n",
       "   '_25',\n",
       "   '_26',\n",
       "   '_28',\n",
       "   '_29',\n",
       "   '_3',\n",
       "   '_30',\n",
       "   '_31',\n",
       "   '_32',\n",
       "   '_33',\n",
       "   '_34',\n",
       "   '_35',\n",
       "   '_36',\n",
       "   '_38',\n",
       "   '_39',\n",
       "   '_4',\n",
       "   '_40',\n",
       "   '_41',\n",
       "   '_42',\n",
       "   '_44',\n",
       "   '_46',\n",
       "   '_47',\n",
       "   '_48',\n",
       "   '_49',\n",
       "   '_5',\n",
       "   '_50',\n",
       "   '_51',\n",
       "   '_52',\n",
       "   '_53',\n",
       "   '_54',\n",
       "   '_6',\n",
       "   '_61',\n",
       "   '_63',\n",
       "   '_64',\n",
       "   '_65',\n",
       "   '_66',\n",
       "   '_67',\n",
       "   '_68',\n",
       "   '_7',\n",
       "   '_8',\n",
       "   '_9',\n",
       "   '__',\n",
       "   '___',\n",
       "   '__builtin__',\n",
       "   '__builtins__',\n",
       "   '__doc__',\n",
       "   '__loader__',\n",
       "   '__name__',\n",
       "   '__package__',\n",
       "   '__spec__',\n",
       "   '__vsc_ipynb_file__',\n",
       "   '_dh',\n",
       "   '_i',\n",
       "   '_i1',\n",
       "   '_i10',\n",
       "   '_i11',\n",
       "   '_i12',\n",
       "   '_i13',\n",
       "   '_i14',\n",
       "   '_i15',\n",
       "   '_i16',\n",
       "   '_i17',\n",
       "   '_i18',\n",
       "   '_i19',\n",
       "   '_i2',\n",
       "   '_i20',\n",
       "   '_i21',\n",
       "   '_i22',\n",
       "   '_i23',\n",
       "   '_i24',\n",
       "   '_i25',\n",
       "   '_i26',\n",
       "   '_i27',\n",
       "   '_i28',\n",
       "   '_i29',\n",
       "   '_i3',\n",
       "   '_i30',\n",
       "   '_i31',\n",
       "   '_i32',\n",
       "   '_i33',\n",
       "   '_i34',\n",
       "   '_i35',\n",
       "   '_i36',\n",
       "   '_i37',\n",
       "   '_i38',\n",
       "   '_i39',\n",
       "   '_i4',\n",
       "   '_i40',\n",
       "   '_i41',\n",
       "   '_i42',\n",
       "   '_i43',\n",
       "   '_i44',\n",
       "   '_i45',\n",
       "   '_i46',\n",
       "   '_i47',\n",
       "   '_i48',\n",
       "   '_i49',\n",
       "   '_i5',\n",
       "   '_i50',\n",
       "   '_i51',\n",
       "   '_i52',\n",
       "   '_i53',\n",
       "   '_i54',\n",
       "   '_i55',\n",
       "   '_i56',\n",
       "   '_i57',\n",
       "   '_i58',\n",
       "   '_i59',\n",
       "   '_i6',\n",
       "   '_i60',\n",
       "   '_i61',\n",
       "   '_i62',\n",
       "   '_i63',\n",
       "   '_i64',\n",
       "   '_i65',\n",
       "   '_i66',\n",
       "   '_i67',\n",
       "   '_i68',\n",
       "   '_i69',\n",
       "   '_i7',\n",
       "   '_i8',\n",
       "   '_i9',\n",
       "   '_ih',\n",
       "   '_ii',\n",
       "   '_iii',\n",
       "   '_oh',\n",
       "   'a',\n",
       "   'asci_my_s',\n",
       "   'ast_code',\n",
       "   'b',\n",
       "   'e1',\n",
       "   'e2',\n",
       "   'e3',\n",
       "   'exit',\n",
       "   'f0',\n",
       "   'f1',\n",
       "   'get_ipython',\n",
       "   'gradient_descent',\n",
       "   'i',\n",
       "   'isPrime',\n",
       "   'l1',\n",
       "   'l2',\n",
       "   'l3',\n",
       "   'my_s',\n",
       "   'np',\n",
       "   'open',\n",
       "   'quit',\n",
       "   'src_code_fibanocci_10'],\n",
       "  70: ['In',\n",
       "   'InteractiveShell',\n",
       "   'Out',\n",
       "   '_',\n",
       "   '_1',\n",
       "   '_10',\n",
       "   '_11',\n",
       "   '_13',\n",
       "   '_14',\n",
       "   '_15',\n",
       "   '_16',\n",
       "   '_17',\n",
       "   '_18',\n",
       "   '_19',\n",
       "   '_2',\n",
       "   '_21',\n",
       "   '_22',\n",
       "   '_23',\n",
       "   '_24',\n",
       "   '_25',\n",
       "   '_26',\n",
       "   '_28',\n",
       "   '_29',\n",
       "   '_3',\n",
       "   '_30',\n",
       "   '_31',\n",
       "   '_32',\n",
       "   '_33',\n",
       "   '_34',\n",
       "   '_35',\n",
       "   '_36',\n",
       "   '_38',\n",
       "   '_39',\n",
       "   '_4',\n",
       "   '_40',\n",
       "   '_41',\n",
       "   '_42',\n",
       "   '_44',\n",
       "   '_46',\n",
       "   '_47',\n",
       "   '_48',\n",
       "   '_49',\n",
       "   '_5',\n",
       "   '_50',\n",
       "   '_51',\n",
       "   '_52',\n",
       "   '_53',\n",
       "   '_54',\n",
       "   '_6',\n",
       "   '_61',\n",
       "   '_63',\n",
       "   '_64',\n",
       "   '_65',\n",
       "   '_66',\n",
       "   '_67',\n",
       "   '_68',\n",
       "   '_69',\n",
       "   '_7',\n",
       "   '_8',\n",
       "   '_9',\n",
       "   '__',\n",
       "   '___',\n",
       "   '__builtin__',\n",
       "   '__builtins__',\n",
       "   '__doc__',\n",
       "   '__loader__',\n",
       "   '__name__',\n",
       "   '__package__',\n",
       "   '__spec__',\n",
       "   '__vsc_ipynb_file__',\n",
       "   '_dh',\n",
       "   '_i',\n",
       "   '_i1',\n",
       "   '_i10',\n",
       "   '_i11',\n",
       "   '_i12',\n",
       "   '_i13',\n",
       "   '_i14',\n",
       "   '_i15',\n",
       "   '_i16',\n",
       "   '_i17',\n",
       "   '_i18',\n",
       "   '_i19',\n",
       "   '_i2',\n",
       "   '_i20',\n",
       "   '_i21',\n",
       "   '_i22',\n",
       "   '_i23',\n",
       "   '_i24',\n",
       "   '_i25',\n",
       "   '_i26',\n",
       "   '_i27',\n",
       "   '_i28',\n",
       "   '_i29',\n",
       "   '_i3',\n",
       "   '_i30',\n",
       "   '_i31',\n",
       "   '_i32',\n",
       "   '_i33',\n",
       "   '_i34',\n",
       "   '_i35',\n",
       "   '_i36',\n",
       "   '_i37',\n",
       "   '_i38',\n",
       "   '_i39',\n",
       "   '_i4',\n",
       "   '_i40',\n",
       "   '_i41',\n",
       "   '_i42',\n",
       "   '_i43',\n",
       "   '_i44',\n",
       "   '_i45',\n",
       "   '_i46',\n",
       "   '_i47',\n",
       "   '_i48',\n",
       "   '_i49',\n",
       "   '_i5',\n",
       "   '_i50',\n",
       "   '_i51',\n",
       "   '_i52',\n",
       "   '_i53',\n",
       "   '_i54',\n",
       "   '_i55',\n",
       "   '_i56',\n",
       "   '_i57',\n",
       "   '_i58',\n",
       "   '_i59',\n",
       "   '_i6',\n",
       "   '_i60',\n",
       "   '_i61',\n",
       "   '_i62',\n",
       "   '_i63',\n",
       "   '_i64',\n",
       "   '_i65',\n",
       "   '_i66',\n",
       "   '_i67',\n",
       "   '_i68',\n",
       "   '_i69',\n",
       "   '_i7',\n",
       "   '_i70',\n",
       "   '_i8',\n",
       "   '_i9',\n",
       "   '_ih',\n",
       "   '_ii',\n",
       "   '_iii',\n",
       "   '_oh',\n",
       "   'a',\n",
       "   'asci_my_s',\n",
       "   'ast_code',\n",
       "   'b',\n",
       "   'e1',\n",
       "   'e2',\n",
       "   'e3',\n",
       "   'exit',\n",
       "   'f0',\n",
       "   'f1',\n",
       "   'get_ipython',\n",
       "   'gradient_descent',\n",
       "   'i',\n",
       "   'isPrime',\n",
       "   'l1',\n",
       "   'l2',\n",
       "   'l3',\n",
       "   'my_s',\n",
       "   'np',\n",
       "   'open',\n",
       "   'quit',\n",
       "   'src_code_fibanocci_10'],\n",
       "  72: ['BPF',\n",
       "   'LOG4',\n",
       "   'NV_MAGICCONST',\n",
       "   'RECIP_BPF',\n",
       "   'Random',\n",
       "   'SG_MAGICCONST',\n",
       "   'SystemRandom',\n",
       "   'TWOPI',\n",
       "   '_Sequence',\n",
       "   '_Set',\n",
       "   '__all__',\n",
       "   '__builtins__',\n",
       "   '__cached__',\n",
       "   '__doc__',\n",
       "   '__file__',\n",
       "   '__loader__',\n",
       "   '__name__',\n",
       "   '__package__',\n",
       "   '__spec__',\n",
       "   '_accumulate',\n",
       "   '_acos',\n",
       "   '_bisect',\n",
       "   '_ceil',\n",
       "   '_cos',\n",
       "   '_e',\n",
       "   '_exp',\n",
       "   '_floor',\n",
       "   '_inst',\n",
       "   '_log',\n",
       "   '_os',\n",
       "   '_pi',\n",
       "   '_random',\n",
       "   '_repeat',\n",
       "   '_sha512',\n",
       "   '_sin',\n",
       "   '_sqrt',\n",
       "   '_test',\n",
       "   '_test_generator',\n",
       "   '_urandom',\n",
       "   '_warn',\n",
       "   'betavariate',\n",
       "   'choice',\n",
       "   'choices',\n",
       "   'expovariate',\n",
       "   'gammavariate',\n",
       "   'gauss',\n",
       "   'getrandbits',\n",
       "   'getstate',\n",
       "   'lognormvariate',\n",
       "   'normalvariate',\n",
       "   'paretovariate',\n",
       "   'randbytes',\n",
       "   'randint',\n",
       "   'random',\n",
       "   'randrange',\n",
       "   'sample',\n",
       "   'seed',\n",
       "   'setstate',\n",
       "   'shuffle',\n",
       "   'triangular',\n",
       "   'uniform',\n",
       "   'vonmisesvariate',\n",
       "   'weibullvariate'],\n",
       "  73: ((6, 1), 6, 1),\n",
       "  75: ((6, 1), '==', (6, 1)),\n",
       "  76: <enumerate at 0x19b7f061980>,\n",
       "  77: [(0, 'Monday'),\n",
       "   (1, 'Tuesday'),\n",
       "   (2, 'Wednesday'),\n",
       "   (3, 'Thursday'),\n",
       "   (4, 'Friday'),\n",
       "   (5, 'Saturday'),\n",
       "   (6, 'Sunday')],\n",
       "  78: [(1, 'Monday'),\n",
       "   (2, 'Tuesday'),\n",
       "   (3, 'Wednesday'),\n",
       "   (4, 'Thursday'),\n",
       "   (5, 'Friday'),\n",
       "   (6, 'Saturday'),\n",
       "   (7, 'Sunday')],\n",
       "  79: <filter at 0x19b7ef49a30>,\n",
       "  81: [2, 3, 5, 7, 11, 13, 17, 19],\n",
       "  82: [2, 4, 6, 8, 10, 12, 14, 16, 18],\n",
       "  83: 1.2245,\n",
       "  85: (inf, -inf, nan),\n",
       "  86: '0b11000',\n",
       "  87: (str, str),\n",
       "  88: '6.340000%',\n",
       "  89: '99.366000%',\n",
       "  90: '99.366000%',\n",
       "  91: '99.366000%',\n",
       "  92: {...}},\n",
       " '_dh': [WindowsPath('c:/Maha/dev/GitHub/BasicML')],\n",
       " 'In': ['',\n",
       "  'abs(2)\\nabs(-2.34)\\nabs(7 + 9j) # | 7 + 9j | = sqrt(7^2 + 9^2) = sqrt(130) = 11.40175425099138',\n",
       "  'def isPrime(n):\\n    if n < 2:\\n        return False\\n    for i in range(2, n):\\n        if n % i == 0:\\n            return False\\n    return True\\nl1 = [1, 2, 3, 4, 5]\\nl2 = [2,3,5,7,11,13,17,19,23,29]\\nl3 = [4,6,8,9,10,12,14,15,16,18,20]\\nall([isPrime(x) for x in l1]) \\nall([isPrime(x) for x in l2])\\nall([isPrime(x) for x in l3])\\nall([])  # True for EMpty List',\n",
       "  'any([isPrime(x) for x in l1]) \\nany([isPrime(x) for x in l2])\\nany([isPrime(x) for x in l3])\\nany([])  # False for EMpty List',\n",
       "  'my_s = \"EMoji 🥲 198247 👏 movie 983@^*&(!) 🎬💯🔥 KISSIK : 🤳 KISS KISS KISS... KISSIK 📸😊😂 ^%+_}|{}``~~\"\\nasci_my_s = ascii(my_s)\\nasci_my_s , type(asci_my_s )',\n",
       "  'bin(4) , bin(-24)',\n",
       "  'bin(0x33), bin(0b110011), bin(0o63), bin(51) # 0x33 = 0b110011 = 0o63 = 51',\n",
       "  'oct(4) , oct(-24)',\n",
       "  'oct(0x33), oct(0b110011), oct(0o63), oct(51) # 0x33 = 0b110011 = 0o63 = 51',\n",
       "  'hex(4) , hex(-24)',\n",
       "  'hex(0x33), hex(0b110011), hex(0o63), hex(51) # 0x33 = 0b110011 = 0o63 = 51',\n",
       "  'type(bin(4)), type(oct(4)), type(hex(4)) ',\n",
       "  '# oct(bin(4)) # ERROR',\n",
       "  \"format(24, '#b')\\nformat(24, 'b')\",\n",
       "  \"format(24, '#o')\\nformat(24, 'o')\",\n",
       "  \"format(24, '#x')\\nformat(24, 'x')\\nformat(24, '#X')\\nformat(24, 'X')\",\n",
       "  \"format(24, 'c')\\nformat(24, 'd')\\nformat(24, 'e')\\nformat(24, 'E')\\nformat(24, 'f')\\nformat(24, 'F')\\nformat(24, 'g')\\nformat(24, 'G')\\nformat(24, 'n')\\nformat(24, '%')\",\n",
       "  'bool(0), bool(0.0), bool(0j), bool(0+0j), bool(0.0+0.0j), bool(0.0+0j)\\nbool(1), bool(0.000001), bool(1j), bool(1+0j), bool(0.0+0.1j), bool(1.0+0j)',\n",
       "  '# enters to pdb\\n\\nimport numpy as np\\n\\ndef gradient_descent(learning_rate, max_iter, x, y):\\n    m = 0\\n    b = 0\\n    n = len(x)\\n    for i in range(max_iter):\\n        y_pred = m * x + b\\n        cost = (1/n) * sum([val**2 for val in (y - y_pred)])\\n        md = -(2/n) * sum(x * (y - y_pred))\\n        bd = -(2/n) * sum(y - y_pred)\\n        m = m - learning_rate * md\\n        b = b - learning_rate * bd\\n        print(f\"Iteration {i+1} : m = {m}, b = {b}, cost = {cost}\")\\n        if i == 25:\\n            # import pdb; pdb.set_trace()\\n            # breakpoint()\\n            pass\\n    return m, b\\ngradient_descent(0.01, 100, np.array([1,2,3,4,5]), np.array([5,7,9,11,13]))',\n",
       "  '# enters to pdb\\n\\nimport numpy as np\\n\\ndef gradient_descent(learning_rate, max_iter, x, y):\\n    m = 0\\n    b = 0\\n    n = len(x)\\n    for i in range(max_iter):\\n        y_pred = m * x + b\\n        cost = (1/n) * sum([val**2 for val in (y - y_pred)])\\n        md = -(2/n) * sum(x * (y - y_pred))\\n        bd = -(2/n) * sum(y - y_pred)\\n        m = m - learning_rate * md\\n        b = b - learning_rate * bd\\n        # print(f\"Iteration {i+1} : m = {m}, b = {b}, cost = {cost}\")\\n        if i == 25:\\n            # import pdb; pdb.set_trace()\\n            # breakpoint()\\n            pass\\n    return m, b\\ngradient_descent(0.01, 100, np.array([1,2,3,4,5]), np.array([5,7,9,11,13]))',\n",
       "  \"bytes('Maha')\",\n",
       "  \"bytes('Maha', 'ASCII')\",\n",
       "  \"bytes('Maha', 'ASCII')\\nbytes('Maha', 'UTF-8')\\nbytes('Maha', 'UTF-16')\\nbytes('Maha', 'UTF-32')\",\n",
       "  \"bytearray('Maha', 'ASCII')\",\n",
       "  \"bytearray('Maha', 'ASCII')\\n\\nbytearray('Maha', 'UTF-8')\",\n",
       "  \"bytearray('Maha', 'ASCII')\\nbytearray('Maha', 'UTF-8')\\n\\nbytearray([1,2,3,4,5,6,7,8,9,10])\",\n",
       "  \"bytearray('Maha', 'ASCII')\\nbytearray('Maha', 'UTF-8')\\n\\nb = bytearray([1,2,3,4,5,6,7,8,9,10])\\nb\\nb.append(11)\\nb\",\n",
       "  'b.reverse()',\n",
       "  'b.reverse()\\nb',\n",
       "  'b.reverse()\\nb',\n",
       "  'bytes(5)\\nbytearray(5)',\n",
       "  '# create 5 byte space\\nbytes(5)\\nbytearray(5)',\n",
       "  'callable(print)\\ncallable(isPrime)\\ncallable(int)\\ncallable(str)\\ncallable(type)',\n",
       "  \"callable(print)\\ncallable(isPrime)\\ncallable(int)\\ncallable(str)\\ncallable(type)\\ncallable('hey')\\ncallable('hey'.upper())\",\n",
       "  'callable(callable)',\n",
       "  'callable(callable)\\ncallable(bool)',\n",
       "  'callable([])\\ncallable(list)\\ncallable({})\\ncallable(dict)',\n",
       "  \"chr('h')\",\n",
       "  'chr(96)',\n",
       "  'chr(94)',\n",
       "  'chr(94)',\n",
       "  \"chr(94) , ord('^')\",\n",
       "  \"chr(94) , ord('^') , ord(chr(94)) , chr(ord('^'))\",\n",
       "  '# valid range of chr is 0 to 1114111 (0x10FFFF in base 16)\\nchr(1114111) , chr(1114112) # ERROR',\n",
       "  '# valid range of chr is 0 to 1114111 (0x10FFFF in base 16)\\nchr(1114111) ',\n",
       "  \"# valid range of chr is 0 to 1114111 (0x10FFFF in base 16)\\nformat(chr(1114111) , 'c')\",\n",
       "  '# valid range of chr is 0 to 1114111 (0x10FFFF in base 16)\\nchr(1114111) ',\n",
       "  \"# valid range of chr is 0 to 1114111 (0x10FFFF in base 16)\\nchr(1114111).encode('utf-8')\",\n",
       "  \"# valid range of chr is 0 to 1114111 (0x10FFFF in base 16)\\nchr(1114111).encode('utf-16')\",\n",
       "  \"# valid range of chr is 0 to 1114111 (0x10FFFF in base 16)\\nchr(1114111).encode('utf-32')\",\n",
       "  '# valid range of chr is 0 to 1114111 (0x10FFFF in base 16)\\nchr(1114111)',\n",
       "  'chr(1577)',\n",
       "  'chr(1577) # some arabic char',\n",
       "  'chr(1577) # some arabic char',\n",
       "  '# exec\\n\\ne1 = compile(\\'print(\"Hello World\")\\', \\'test\\', \\'exec\\')\\ne1',\n",
       "  'eval(e1)',\n",
       "  'e2 = compile(\\'print(\"Hello World\")\\', \\'test_eval\\', \\'eval\\')',\n",
       "  'e2 = compile(\\'print(\"Hello World\")\\', \\'test_eval\\', \\'eval\\')\\neval(e2)\\nexec(e2)',\n",
       "  'e3 = compile(\\'print(f\"Hello World {20}\")\\', \\'test_single\\', \\'single\\')',\n",
       "  'e3 = compile(\\'print(f\"Hello World {20}\")\\', \\'test_single\\', \\'single\\')\\nexec(e3)',\n",
       "  \"src_code_fibanocci_10 = 'f0 = 0\\\\nf1 = 1\\\\nfor i in range(10):\\\\n\\\\tprint(f0)\\\\n\\\\tf0, f1 = f1, f0+f1'\\ncompile(src_code_fibanocci_10, 'test_fib', 'single')\",\n",
       "  \"src_code_fibanocci_10 = 'f0 = 0\\\\nf1 = 1\\\\nfor i in range(10):\\\\n\\\\tprint(f0)\\\\n\\\\tf0, f1 = f1, f0+f1'\\ncompile(src_code_fibanocci_10, 'test_fib', 'exec')\",\n",
       "  \"src_code_fibanocci_10 = 'f0 = 0\\\\nf1 = 1\\\\nfor i in range(10):\\\\n\\\\tprint(f0)\\\\n\\\\tf0, f1 = f1, f0+f1'\\nast_code = compile(src_code_fibanocci_10, 'test_fib', 'exec')\\neval(ast_code)\",\n",
       "  'complex()',\n",
       "  'complex()\\ncomplex(1)\\ncomplex(1,2)\\ncomplex(1,2.3)',\n",
       "  'complex()\\ncomplex(1)\\ncomplex(1,2)',\n",
       "  'a,b = complex(1,2), complex(2,1)\\na+b',\n",
       "  'a,b = complex(1,2), complex(2,1)\\na+b\\na.real\\na.imag\\na.conjugate()',\n",
       "  'a,b = complex(1,2), complex(2,1)\\na+b\\na.real\\na.imag\\na.conjugate()\\na.conjugate()*a',\n",
       "  'dir()',\n",
       "  'dir() # lists all active variables',\n",
       "  'dir(random)',\n",
       "  'import random as rd\\ndir(rd)',\n",
       "  'a = 103\\nb = 17\\ndivmod(a,b) , a// b , a % b ',\n",
       "  'a = 103\\nb = 17\\ndivmod(a,b) , == , (a// b , a % b )',\n",
       "  'a = 103\\nb = 17\\ndivmod(a,b) , \"==\" , (a// b , a % b )',\n",
       "  \"weekdays = ['Monday', 'Tuesday', 'Wednesday', 'Thursday', 'Friday', 'Saturday', 'Sunday']\\nenumerate(weekdays)\",\n",
       "  \"weekdays = ['Monday', 'Tuesday', 'Wednesday', 'Thursday', 'Friday', 'Saturday', 'Sunday']\\nlist(enumerate(weekdays))\",\n",
       "  \"weekdays = ['Monday', 'Tuesday', 'Wednesday', 'Thursday', 'Friday', 'Saturday', 'Sunday']\\nlist(enumerate(weekdays))\\nlist(enumerate(weekdays, start = 1))\",\n",
       "  'filter(isPrime, range(1, 20))',\n",
       "  'print(filter(isPrime, range(1, 20)))',\n",
       "  'list(filter(isPrime, range(1, 20)))',\n",
       "  'list( filter(lambda x: x % 2 == 0, range(1, 20)) )',\n",
       "  \"dig = '1.2245'\\nfloat(dig)\",\n",
       "  'int(dig)',\n",
       "  \"float('inf') , float('-inf') , float('nan')\",\n",
       "  \"format(24, 'b')\\nformat(24, '#b')\",\n",
       "  \"format(24, 'b')\\nformat(24, '#b')\\ntype(format(24, 'b')) , type(format(24, '#b'))\",\n",
       "  \"format(0.0634, '%')\",\n",
       "  \"p = 0.00634\\nformat(p, '%')\\nformat(1-p, '%')\",\n",
       "  \"p = 0.00634\\nformat(p, '%')\\nformat(1-p, '2%')\",\n",
       "  \"p = 0.00634\\nformat(p, '%')\\nformat(1-p, '%')\",\n",
       "  'globals()',\n",
       "  'locals()'],\n",
       " 'Out': {1: 11.40175425099138,\n",
       "  2: True,\n",
       "  3: False,\n",
       "  4: (\"'EMoji \\\\U0001f972 198247 \\\\U0001f44f movie 983@^*&(!) \\\\U0001f3ac\\\\U0001f4af\\\\U0001f525 KISSIK : \\\\U0001f933 KISS KISS KISS... KISSIK \\\\U0001f4f8\\\\U0001f60a\\\\U0001f602 ^%+_}|{}``~~'\",\n",
       "   str),\n",
       "  5: ('0b100', '-0b11000'),\n",
       "  6: ('0b110011', '0b110011', '0b110011', '0b110011'),\n",
       "  7: ('0o4', '-0o30'),\n",
       "  8: ('0o63', '0o63', '0o63', '0o63'),\n",
       "  9: ('0x4', '-0x18'),\n",
       "  10: ('0x33', '0x33', '0x33', '0x33'),\n",
       "  11: (str, str, str),\n",
       "  13: '11000',\n",
       "  14: '30',\n",
       "  15: '18',\n",
       "  16: '2400.000000%',\n",
       "  17: (True, True, True, True, True, True),\n",
       "  18: (2.4484684018774328, 1.3808867709499106),\n",
       "  19: (2.4484684018774328, 1.3808867709499106),\n",
       "  21: b'Maha',\n",
       "  22: b'\\xff\\xfe\\x00\\x00M\\x00\\x00\\x00a\\x00\\x00\\x00h\\x00\\x00\\x00a\\x00\\x00\\x00',\n",
       "  23: bytearray(b'Maha'),\n",
       "  24: bytearray(b'Maha'),\n",
       "  25: bytearray(b'\\x01\\x02\\x03\\x04\\x05\\x06\\x07\\x08\\t\\n'),\n",
       "  26: bytearray(b'\\x0b\\n\\t\\x08\\x07\\x06\\x05\\x04\\x03\\x02\\x01'),\n",
       "  28: bytearray(b'\\x0b\\n\\t\\x08\\x07\\x06\\x05\\x04\\x03\\x02\\x01'),\n",
       "  29: bytearray(b'\\x0b\\n\\t\\x08\\x07\\x06\\x05\\x04\\x03\\x02\\x01'),\n",
       "  30: bytearray(b'\\x00\\x00\\x00\\x00\\x00'),\n",
       "  31: bytearray(b'\\x00\\x00\\x00\\x00\\x00'),\n",
       "  32: True,\n",
       "  33: False,\n",
       "  34: True,\n",
       "  35: True,\n",
       "  36: True,\n",
       "  38: '`',\n",
       "  39: '^',\n",
       "  40: '^',\n",
       "  41: ('^', 94),\n",
       "  42: ('^', 94, 94, '^'),\n",
       "  44: '\\U0010ffff',\n",
       "  46: '\\U0010ffff',\n",
       "  47: b'\\xf4\\x8f\\xbf\\xbf',\n",
       "  48: b'\\xff\\xfe\\xff\\xdb\\xff\\xdf',\n",
       "  49: b'\\xff\\xfe\\x00\\x00\\xff\\xff\\x10\\x00',\n",
       "  50: '\\U0010ffff',\n",
       "  51: 'ة',\n",
       "  52: 'ة',\n",
       "  53: 'ة',\n",
       "  54: <code object <module> at 0x0000019B7BF062F0, file \"test\", line 1>,\n",
       "  61: <code object <module> at 0x0000019B7F0E93A0, file \"test_fib\", line 1>,\n",
       "  63: 0j,\n",
       "  64: (1+2.3j),\n",
       "  65: (1+2j),\n",
       "  66: (3+3j),\n",
       "  67: (1-2j),\n",
       "  68: (5+0j),\n",
       "  69: ['In',\n",
       "   'InteractiveShell',\n",
       "   'Out',\n",
       "   '_',\n",
       "   '_1',\n",
       "   '_10',\n",
       "   '_11',\n",
       "   '_13',\n",
       "   '_14',\n",
       "   '_15',\n",
       "   '_16',\n",
       "   '_17',\n",
       "   '_18',\n",
       "   '_19',\n",
       "   '_2',\n",
       "   '_21',\n",
       "   '_22',\n",
       "   '_23',\n",
       "   '_24',\n",
       "   '_25',\n",
       "   '_26',\n",
       "   '_28',\n",
       "   '_29',\n",
       "   '_3',\n",
       "   '_30',\n",
       "   '_31',\n",
       "   '_32',\n",
       "   '_33',\n",
       "   '_34',\n",
       "   '_35',\n",
       "   '_36',\n",
       "   '_38',\n",
       "   '_39',\n",
       "   '_4',\n",
       "   '_40',\n",
       "   '_41',\n",
       "   '_42',\n",
       "   '_44',\n",
       "   '_46',\n",
       "   '_47',\n",
       "   '_48',\n",
       "   '_49',\n",
       "   '_5',\n",
       "   '_50',\n",
       "   '_51',\n",
       "   '_52',\n",
       "   '_53',\n",
       "   '_54',\n",
       "   '_6',\n",
       "   '_61',\n",
       "   '_63',\n",
       "   '_64',\n",
       "   '_65',\n",
       "   '_66',\n",
       "   '_67',\n",
       "   '_68',\n",
       "   '_7',\n",
       "   '_8',\n",
       "   '_9',\n",
       "   '__',\n",
       "   '___',\n",
       "   '__builtin__',\n",
       "   '__builtins__',\n",
       "   '__doc__',\n",
       "   '__loader__',\n",
       "   '__name__',\n",
       "   '__package__',\n",
       "   '__spec__',\n",
       "   '__vsc_ipynb_file__',\n",
       "   '_dh',\n",
       "   '_i',\n",
       "   '_i1',\n",
       "   '_i10',\n",
       "   '_i11',\n",
       "   '_i12',\n",
       "   '_i13',\n",
       "   '_i14',\n",
       "   '_i15',\n",
       "   '_i16',\n",
       "   '_i17',\n",
       "   '_i18',\n",
       "   '_i19',\n",
       "   '_i2',\n",
       "   '_i20',\n",
       "   '_i21',\n",
       "   '_i22',\n",
       "   '_i23',\n",
       "   '_i24',\n",
       "   '_i25',\n",
       "   '_i26',\n",
       "   '_i27',\n",
       "   '_i28',\n",
       "   '_i29',\n",
       "   '_i3',\n",
       "   '_i30',\n",
       "   '_i31',\n",
       "   '_i32',\n",
       "   '_i33',\n",
       "   '_i34',\n",
       "   '_i35',\n",
       "   '_i36',\n",
       "   '_i37',\n",
       "   '_i38',\n",
       "   '_i39',\n",
       "   '_i4',\n",
       "   '_i40',\n",
       "   '_i41',\n",
       "   '_i42',\n",
       "   '_i43',\n",
       "   '_i44',\n",
       "   '_i45',\n",
       "   '_i46',\n",
       "   '_i47',\n",
       "   '_i48',\n",
       "   '_i49',\n",
       "   '_i5',\n",
       "   '_i50',\n",
       "   '_i51',\n",
       "   '_i52',\n",
       "   '_i53',\n",
       "   '_i54',\n",
       "   '_i55',\n",
       "   '_i56',\n",
       "   '_i57',\n",
       "   '_i58',\n",
       "   '_i59',\n",
       "   '_i6',\n",
       "   '_i60',\n",
       "   '_i61',\n",
       "   '_i62',\n",
       "   '_i63',\n",
       "   '_i64',\n",
       "   '_i65',\n",
       "   '_i66',\n",
       "   '_i67',\n",
       "   '_i68',\n",
       "   '_i69',\n",
       "   '_i7',\n",
       "   '_i8',\n",
       "   '_i9',\n",
       "   '_ih',\n",
       "   '_ii',\n",
       "   '_iii',\n",
       "   '_oh',\n",
       "   'a',\n",
       "   'asci_my_s',\n",
       "   'ast_code',\n",
       "   'b',\n",
       "   'e1',\n",
       "   'e2',\n",
       "   'e3',\n",
       "   'exit',\n",
       "   'f0',\n",
       "   'f1',\n",
       "   'get_ipython',\n",
       "   'gradient_descent',\n",
       "   'i',\n",
       "   'isPrime',\n",
       "   'l1',\n",
       "   'l2',\n",
       "   'l3',\n",
       "   'my_s',\n",
       "   'np',\n",
       "   'open',\n",
       "   'quit',\n",
       "   'src_code_fibanocci_10'],\n",
       "  70: ['In',\n",
       "   'InteractiveShell',\n",
       "   'Out',\n",
       "   '_',\n",
       "   '_1',\n",
       "   '_10',\n",
       "   '_11',\n",
       "   '_13',\n",
       "   '_14',\n",
       "   '_15',\n",
       "   '_16',\n",
       "   '_17',\n",
       "   '_18',\n",
       "   '_19',\n",
       "   '_2',\n",
       "   '_21',\n",
       "   '_22',\n",
       "   '_23',\n",
       "   '_24',\n",
       "   '_25',\n",
       "   '_26',\n",
       "   '_28',\n",
       "   '_29',\n",
       "   '_3',\n",
       "   '_30',\n",
       "   '_31',\n",
       "   '_32',\n",
       "   '_33',\n",
       "   '_34',\n",
       "   '_35',\n",
       "   '_36',\n",
       "   '_38',\n",
       "   '_39',\n",
       "   '_4',\n",
       "   '_40',\n",
       "   '_41',\n",
       "   '_42',\n",
       "   '_44',\n",
       "   '_46',\n",
       "   '_47',\n",
       "   '_48',\n",
       "   '_49',\n",
       "   '_5',\n",
       "   '_50',\n",
       "   '_51',\n",
       "   '_52',\n",
       "   '_53',\n",
       "   '_54',\n",
       "   '_6',\n",
       "   '_61',\n",
       "   '_63',\n",
       "   '_64',\n",
       "   '_65',\n",
       "   '_66',\n",
       "   '_67',\n",
       "   '_68',\n",
       "   '_69',\n",
       "   '_7',\n",
       "   '_8',\n",
       "   '_9',\n",
       "   '__',\n",
       "   '___',\n",
       "   '__builtin__',\n",
       "   '__builtins__',\n",
       "   '__doc__',\n",
       "   '__loader__',\n",
       "   '__name__',\n",
       "   '__package__',\n",
       "   '__spec__',\n",
       "   '__vsc_ipynb_file__',\n",
       "   '_dh',\n",
       "   '_i',\n",
       "   '_i1',\n",
       "   '_i10',\n",
       "   '_i11',\n",
       "   '_i12',\n",
       "   '_i13',\n",
       "   '_i14',\n",
       "   '_i15',\n",
       "   '_i16',\n",
       "   '_i17',\n",
       "   '_i18',\n",
       "   '_i19',\n",
       "   '_i2',\n",
       "   '_i20',\n",
       "   '_i21',\n",
       "   '_i22',\n",
       "   '_i23',\n",
       "   '_i24',\n",
       "   '_i25',\n",
       "   '_i26',\n",
       "   '_i27',\n",
       "   '_i28',\n",
       "   '_i29',\n",
       "   '_i3',\n",
       "   '_i30',\n",
       "   '_i31',\n",
       "   '_i32',\n",
       "   '_i33',\n",
       "   '_i34',\n",
       "   '_i35',\n",
       "   '_i36',\n",
       "   '_i37',\n",
       "   '_i38',\n",
       "   '_i39',\n",
       "   '_i4',\n",
       "   '_i40',\n",
       "   '_i41',\n",
       "   '_i42',\n",
       "   '_i43',\n",
       "   '_i44',\n",
       "   '_i45',\n",
       "   '_i46',\n",
       "   '_i47',\n",
       "   '_i48',\n",
       "   '_i49',\n",
       "   '_i5',\n",
       "   '_i50',\n",
       "   '_i51',\n",
       "   '_i52',\n",
       "   '_i53',\n",
       "   '_i54',\n",
       "   '_i55',\n",
       "   '_i56',\n",
       "   '_i57',\n",
       "   '_i58',\n",
       "   '_i59',\n",
       "   '_i6',\n",
       "   '_i60',\n",
       "   '_i61',\n",
       "   '_i62',\n",
       "   '_i63',\n",
       "   '_i64',\n",
       "   '_i65',\n",
       "   '_i66',\n",
       "   '_i67',\n",
       "   '_i68',\n",
       "   '_i69',\n",
       "   '_i7',\n",
       "   '_i70',\n",
       "   '_i8',\n",
       "   '_i9',\n",
       "   '_ih',\n",
       "   '_ii',\n",
       "   '_iii',\n",
       "   '_oh',\n",
       "   'a',\n",
       "   'asci_my_s',\n",
       "   'ast_code',\n",
       "   'b',\n",
       "   'e1',\n",
       "   'e2',\n",
       "   'e3',\n",
       "   'exit',\n",
       "   'f0',\n",
       "   'f1',\n",
       "   'get_ipython',\n",
       "   'gradient_descent',\n",
       "   'i',\n",
       "   'isPrime',\n",
       "   'l1',\n",
       "   'l2',\n",
       "   'l3',\n",
       "   'my_s',\n",
       "   'np',\n",
       "   'open',\n",
       "   'quit',\n",
       "   'src_code_fibanocci_10'],\n",
       "  72: ['BPF',\n",
       "   'LOG4',\n",
       "   'NV_MAGICCONST',\n",
       "   'RECIP_BPF',\n",
       "   'Random',\n",
       "   'SG_MAGICCONST',\n",
       "   'SystemRandom',\n",
       "   'TWOPI',\n",
       "   '_Sequence',\n",
       "   '_Set',\n",
       "   '__all__',\n",
       "   '__builtins__',\n",
       "   '__cached__',\n",
       "   '__doc__',\n",
       "   '__file__',\n",
       "   '__loader__',\n",
       "   '__name__',\n",
       "   '__package__',\n",
       "   '__spec__',\n",
       "   '_accumulate',\n",
       "   '_acos',\n",
       "   '_bisect',\n",
       "   '_ceil',\n",
       "   '_cos',\n",
       "   '_e',\n",
       "   '_exp',\n",
       "   '_floor',\n",
       "   '_inst',\n",
       "   '_log',\n",
       "   '_os',\n",
       "   '_pi',\n",
       "   '_random',\n",
       "   '_repeat',\n",
       "   '_sha512',\n",
       "   '_sin',\n",
       "   '_sqrt',\n",
       "   '_test',\n",
       "   '_test_generator',\n",
       "   '_urandom',\n",
       "   '_warn',\n",
       "   'betavariate',\n",
       "   'choice',\n",
       "   'choices',\n",
       "   'expovariate',\n",
       "   'gammavariate',\n",
       "   'gauss',\n",
       "   'getrandbits',\n",
       "   'getstate',\n",
       "   'lognormvariate',\n",
       "   'normalvariate',\n",
       "   'paretovariate',\n",
       "   'randbytes',\n",
       "   'randint',\n",
       "   'random',\n",
       "   'randrange',\n",
       "   'sample',\n",
       "   'seed',\n",
       "   'setstate',\n",
       "   'shuffle',\n",
       "   'triangular',\n",
       "   'uniform',\n",
       "   'vonmisesvariate',\n",
       "   'weibullvariate'],\n",
       "  73: ((6, 1), 6, 1),\n",
       "  75: ((6, 1), '==', (6, 1)),\n",
       "  76: <enumerate at 0x19b7f061980>,\n",
       "  77: [(0, 'Monday'),\n",
       "   (1, 'Tuesday'),\n",
       "   (2, 'Wednesday'),\n",
       "   (3, 'Thursday'),\n",
       "   (4, 'Friday'),\n",
       "   (5, 'Saturday'),\n",
       "   (6, 'Sunday')],\n",
       "  78: [(1, 'Monday'),\n",
       "   (2, 'Tuesday'),\n",
       "   (3, 'Wednesday'),\n",
       "   (4, 'Thursday'),\n",
       "   (5, 'Friday'),\n",
       "   (6, 'Saturday'),\n",
       "   (7, 'Sunday')],\n",
       "  79: <filter at 0x19b7ef49a30>,\n",
       "  81: [2, 3, 5, 7, 11, 13, 17, 19],\n",
       "  82: [2, 4, 6, 8, 10, 12, 14, 16, 18],\n",
       "  83: 1.2245,\n",
       "  85: (inf, -inf, nan),\n",
       "  86: '0b11000',\n",
       "  87: (str, str),\n",
       "  88: '6.340000%',\n",
       "  89: '99.366000%',\n",
       "  90: '99.366000%',\n",
       "  91: '99.366000%',\n",
       "  92: {...}},\n",
       " 'get_ipython': <bound method InteractiveShell.get_ipython of <ipykernel.zmqshell.ZMQInteractiveShell object at 0x0000019B7D7BF970>>,\n",
       " 'exit': <IPython.core.autocall.ZMQExitAutocall at 0x19b7d7d0520>,\n",
       " 'quit': <IPython.core.autocall.ZMQExitAutocall at 0x19b7d7d0520>,\n",
       " 'open': <function io.open(file, mode='r', buffering=-1, encoding=None, errors=None, newline=None, closefd=True, opener=None)>,\n",
       " '_': {...},\n",
       " '__': '99.366000%',\n",
       " '___': '0.634000%',\n",
       " '__vsc_ipynb_file__': 'c:\\\\Maha\\\\dev\\\\GitHub\\\\BasicML\\\\python_basics\\\\02_builtins.ipynb',\n",
       " 'InteractiveShell': IPython.core.interactiveshell.InteractiveShell,\n",
       " '_i': 'globals()',\n",
       " '_ii': \"p = 0.00634\\nformat(p, '%')\\nformat(1-p, '%')\",\n",
       " '_iii': \"p = 0.00634\\nformat(p, '%')\\nformat(1-p, '2%')\",\n",
       " '_i1': 'abs(2)\\nabs(-2.34)\\nabs(7 + 9j) # | 7 + 9j | = sqrt(7^2 + 9^2) = sqrt(130) = 11.40175425099138',\n",
       " '_1': 11.40175425099138,\n",
       " '_i2': 'def isPrime(n):\\n    if n < 2:\\n        return False\\n    for i in range(2, n):\\n        if n % i == 0:\\n            return False\\n    return True\\nl1 = [1, 2, 3, 4, 5]\\nl2 = [2,3,5,7,11,13,17,19,23,29]\\nl3 = [4,6,8,9,10,12,14,15,16,18,20]\\nall([isPrime(x) for x in l1]) \\nall([isPrime(x) for x in l2])\\nall([isPrime(x) for x in l3])\\nall([])  # True for EMpty List',\n",
       " 'isPrime': <function __main__.isPrime(n)>,\n",
       " 'l1': [1, 2, 3, 4, 5],\n",
       " 'l2': [2, 3, 5, 7, 11, 13, 17, 19, 23, 29],\n",
       " 'l3': [4, 6, 8, 9, 10, 12, 14, 15, 16, 18, 20],\n",
       " '_2': True,\n",
       " '_i3': 'any([isPrime(x) for x in l1]) \\nany([isPrime(x) for x in l2])\\nany([isPrime(x) for x in l3])\\nany([])  # False for EMpty List',\n",
       " '_3': False,\n",
       " '_i4': 'my_s = \"EMoji 🥲 198247 👏 movie 983@^*&(!) 🎬💯🔥 KISSIK : 🤳 KISS KISS KISS... KISSIK 📸😊😂 ^%+_}|{}``~~\"\\nasci_my_s = ascii(my_s)\\nasci_my_s , type(asci_my_s )',\n",
       " 'my_s': 'EMoji 🥲 198247 👏 movie 983@^*&(!) 🎬💯🔥 KISSIK : 🤳 KISS KISS KISS... KISSIK 📸😊😂 ^%+_}|{}``~~',\n",
       " 'asci_my_s': \"'EMoji \\\\U0001f972 198247 \\\\U0001f44f movie 983@^*&(!) \\\\U0001f3ac\\\\U0001f4af\\\\U0001f525 KISSIK : \\\\U0001f933 KISS KISS KISS... KISSIK \\\\U0001f4f8\\\\U0001f60a\\\\U0001f602 ^%+_}|{}``~~'\",\n",
       " '_4': (\"'EMoji \\\\U0001f972 198247 \\\\U0001f44f movie 983@^*&(!) \\\\U0001f3ac\\\\U0001f4af\\\\U0001f525 KISSIK : \\\\U0001f933 KISS KISS KISS... KISSIK \\\\U0001f4f8\\\\U0001f60a\\\\U0001f602 ^%+_}|{}``~~'\",\n",
       "  str),\n",
       " '_i5': 'bin(4) , bin(-24)',\n",
       " '_5': ('0b100', '-0b11000'),\n",
       " '_i6': 'bin(0x33), bin(0b110011), bin(0o63), bin(51) # 0x33 = 0b110011 = 0o63 = 51',\n",
       " '_6': ('0b110011', '0b110011', '0b110011', '0b110011'),\n",
       " '_i7': 'oct(4) , oct(-24)',\n",
       " '_7': ('0o4', '-0o30'),\n",
       " '_i8': 'oct(0x33), oct(0b110011), oct(0o63), oct(51) # 0x33 = 0b110011 = 0o63 = 51',\n",
       " '_8': ('0o63', '0o63', '0o63', '0o63'),\n",
       " '_i9': 'hex(4) , hex(-24)',\n",
       " '_9': ('0x4', '-0x18'),\n",
       " '_i10': 'hex(0x33), hex(0b110011), hex(0o63), hex(51) # 0x33 = 0b110011 = 0o63 = 51',\n",
       " '_10': ('0x33', '0x33', '0x33', '0x33'),\n",
       " '_i11': 'type(bin(4)), type(oct(4)), type(hex(4)) ',\n",
       " '_11': (str, str, str),\n",
       " '_i12': '# oct(bin(4)) # ERROR',\n",
       " '_i13': \"format(24, '#b')\\nformat(24, 'b')\",\n",
       " '_13': '11000',\n",
       " '_i14': \"format(24, '#o')\\nformat(24, 'o')\",\n",
       " '_14': '30',\n",
       " '_i15': \"format(24, '#x')\\nformat(24, 'x')\\nformat(24, '#X')\\nformat(24, 'X')\",\n",
       " '_15': '18',\n",
       " '_i16': \"format(24, 'c')\\nformat(24, 'd')\\nformat(24, 'e')\\nformat(24, 'E')\\nformat(24, 'f')\\nformat(24, 'F')\\nformat(24, 'g')\\nformat(24, 'G')\\nformat(24, 'n')\\nformat(24, '%')\",\n",
       " '_16': '2400.000000%',\n",
       " '_i17': 'bool(0), bool(0.0), bool(0j), bool(0+0j), bool(0.0+0.0j), bool(0.0+0j)\\nbool(1), bool(0.000001), bool(1j), bool(1+0j), bool(0.0+0.1j), bool(1.0+0j)',\n",
       " '_17': (True, True, True, True, True, True),\n",
       " '_i18': '# enters to pdb\\n\\nimport numpy as np\\n\\ndef gradient_descent(learning_rate, max_iter, x, y):\\n    m = 0\\n    b = 0\\n    n = len(x)\\n    for i in range(max_iter):\\n        y_pred = m * x + b\\n        cost = (1/n) * sum([val**2 for val in (y - y_pred)])\\n        md = -(2/n) * sum(x * (y - y_pred))\\n        bd = -(2/n) * sum(y - y_pred)\\n        m = m - learning_rate * md\\n        b = b - learning_rate * bd\\n        print(f\"Iteration {i+1} : m = {m}, b = {b}, cost = {cost}\")\\n        if i == 25:\\n            # import pdb; pdb.set_trace()\\n            # breakpoint()\\n            pass\\n    return m, b\\ngradient_descent(0.01, 100, np.array([1,2,3,4,5]), np.array([5,7,9,11,13]))',\n",
       " 'np': <module 'numpy' from 'c:\\\\Users\\\\myalla\\\\anaconda3\\\\envs\\\\iisc\\\\lib\\\\site-packages\\\\numpy\\\\__init__.py'>,\n",
       " 'gradient_descent': <function __main__.gradient_descent(learning_rate, max_iter, x, y)>,\n",
       " '_18': (2.4484684018774328, 1.3808867709499106),\n",
       " '_i19': '# enters to pdb\\n\\nimport numpy as np\\n\\ndef gradient_descent(learning_rate, max_iter, x, y):\\n    m = 0\\n    b = 0\\n    n = len(x)\\n    for i in range(max_iter):\\n        y_pred = m * x + b\\n        cost = (1/n) * sum([val**2 for val in (y - y_pred)])\\n        md = -(2/n) * sum(x * (y - y_pred))\\n        bd = -(2/n) * sum(y - y_pred)\\n        m = m - learning_rate * md\\n        b = b - learning_rate * bd\\n        # print(f\"Iteration {i+1} : m = {m}, b = {b}, cost = {cost}\")\\n        if i == 25:\\n            # import pdb; pdb.set_trace()\\n            # breakpoint()\\n            pass\\n    return m, b\\ngradient_descent(0.01, 100, np.array([1,2,3,4,5]), np.array([5,7,9,11,13]))',\n",
       " '_19': (2.4484684018774328, 1.3808867709499106),\n",
       " '_i20': \"bytes('Maha')\",\n",
       " '_i21': \"bytes('Maha', 'ASCII')\",\n",
       " '_21': b'Maha',\n",
       " '_i22': \"bytes('Maha', 'ASCII')\\nbytes('Maha', 'UTF-8')\\nbytes('Maha', 'UTF-16')\\nbytes('Maha', 'UTF-32')\",\n",
       " '_22': b'\\xff\\xfe\\x00\\x00M\\x00\\x00\\x00a\\x00\\x00\\x00h\\x00\\x00\\x00a\\x00\\x00\\x00',\n",
       " '_i23': \"bytearray('Maha', 'ASCII')\",\n",
       " '_23': bytearray(b'Maha'),\n",
       " '_i24': \"bytearray('Maha', 'ASCII')\\n\\nbytearray('Maha', 'UTF-8')\",\n",
       " '_24': bytearray(b'Maha'),\n",
       " '_i25': \"bytearray('Maha', 'ASCII')\\nbytearray('Maha', 'UTF-8')\\n\\nbytearray([1,2,3,4,5,6,7,8,9,10])\",\n",
       " '_25': bytearray(b'\\x01\\x02\\x03\\x04\\x05\\x06\\x07\\x08\\t\\n'),\n",
       " '_i26': \"bytearray('Maha', 'ASCII')\\nbytearray('Maha', 'UTF-8')\\n\\nb = bytearray([1,2,3,4,5,6,7,8,9,10])\\nb\\nb.append(11)\\nb\",\n",
       " '_26': bytearray(b'\\x0b\\n\\t\\x08\\x07\\x06\\x05\\x04\\x03\\x02\\x01'),\n",
       " 'b': 17,\n",
       " '_i27': 'b.reverse()',\n",
       " '_i28': 'b.reverse()\\nb',\n",
       " '_28': bytearray(b'\\x0b\\n\\t\\x08\\x07\\x06\\x05\\x04\\x03\\x02\\x01'),\n",
       " '_i29': 'b.reverse()\\nb',\n",
       " '_29': bytearray(b'\\x0b\\n\\t\\x08\\x07\\x06\\x05\\x04\\x03\\x02\\x01'),\n",
       " '_i30': 'bytes(5)\\nbytearray(5)',\n",
       " '_30': bytearray(b'\\x00\\x00\\x00\\x00\\x00'),\n",
       " '_i31': '# create 5 byte space\\nbytes(5)\\nbytearray(5)',\n",
       " '_31': bytearray(b'\\x00\\x00\\x00\\x00\\x00'),\n",
       " '_i32': 'callable(print)\\ncallable(isPrime)\\ncallable(int)\\ncallable(str)\\ncallable(type)',\n",
       " '_32': True,\n",
       " '_i33': \"callable(print)\\ncallable(isPrime)\\ncallable(int)\\ncallable(str)\\ncallable(type)\\ncallable('hey')\\ncallable('hey'.upper())\",\n",
       " '_33': False,\n",
       " '_i34': 'callable(callable)',\n",
       " '_34': True,\n",
       " '_i35': 'callable(callable)\\ncallable(bool)',\n",
       " '_35': True,\n",
       " '_i36': 'callable([])\\ncallable(list)\\ncallable({})\\ncallable(dict)',\n",
       " '_36': True,\n",
       " '_i37': \"chr('h')\",\n",
       " '_i38': 'chr(96)',\n",
       " '_38': '`',\n",
       " '_i39': 'chr(94)',\n",
       " '_39': '^',\n",
       " '_i40': 'chr(94)',\n",
       " '_40': '^',\n",
       " '_i41': \"chr(94) , ord('^')\",\n",
       " '_41': ('^', 94),\n",
       " '_i42': \"chr(94) , ord('^') , ord(chr(94)) , chr(ord('^'))\",\n",
       " '_42': ('^', 94, 94, '^'),\n",
       " '_i43': '# valid range of chr is 0 to 1114111 (0x10FFFF in base 16)\\nchr(1114111) , chr(1114112) # ERROR',\n",
       " '_i44': '# valid range of chr is 0 to 1114111 (0x10FFFF in base 16)\\nchr(1114111) ',\n",
       " '_44': '\\U0010ffff',\n",
       " '_i45': \"# valid range of chr is 0 to 1114111 (0x10FFFF in base 16)\\nformat(chr(1114111) , 'c')\",\n",
       " '_i46': '# valid range of chr is 0 to 1114111 (0x10FFFF in base 16)\\nchr(1114111) ',\n",
       " '_46': '\\U0010ffff',\n",
       " '_i47': \"# valid range of chr is 0 to 1114111 (0x10FFFF in base 16)\\nchr(1114111).encode('utf-8')\",\n",
       " '_47': b'\\xf4\\x8f\\xbf\\xbf',\n",
       " '_i48': \"# valid range of chr is 0 to 1114111 (0x10FFFF in base 16)\\nchr(1114111).encode('utf-16')\",\n",
       " '_48': b'\\xff\\xfe\\xff\\xdb\\xff\\xdf',\n",
       " '_i49': \"# valid range of chr is 0 to 1114111 (0x10FFFF in base 16)\\nchr(1114111).encode('utf-32')\",\n",
       " '_49': b'\\xff\\xfe\\x00\\x00\\xff\\xff\\x10\\x00',\n",
       " '_i50': '# valid range of chr is 0 to 1114111 (0x10FFFF in base 16)\\nchr(1114111)',\n",
       " '_50': '\\U0010ffff',\n",
       " '_i51': 'chr(1577)',\n",
       " '_51': 'ة',\n",
       " '_i52': 'chr(1577) # some arabic char',\n",
       " '_52': 'ة',\n",
       " '_i53': 'chr(1577) # some arabic char',\n",
       " '_53': 'ة',\n",
       " '_i54': '# exec\\n\\ne1 = compile(\\'print(\"Hello World\")\\', \\'test\\', \\'exec\\')\\ne1',\n",
       " 'e1': <code object <module> at 0x0000019B7BF062F0, file \"test\", line 1>,\n",
       " '_54': <code object <module> at 0x0000019B7BF062F0, file \"test\", line 1>,\n",
       " '_i55': 'eval(e1)',\n",
       " '_i56': 'e2 = compile(\\'print(\"Hello World\")\\', \\'test_eval\\', \\'eval\\')',\n",
       " 'e2': <code object <module> at 0x0000019B7F0C5A80, file \"test_eval\", line 1>,\n",
       " '_i57': 'e2 = compile(\\'print(\"Hello World\")\\', \\'test_eval\\', \\'eval\\')\\neval(e2)\\nexec(e2)',\n",
       " '_i58': 'e3 = compile(\\'print(f\"Hello World {20}\")\\', \\'test_single\\', \\'single\\')',\n",
       " 'e3': <code object <module> at 0x0000019B7BF07EA0, file \"test_single\", line 1>,\n",
       " '_i59': 'e3 = compile(\\'print(f\"Hello World {20}\")\\', \\'test_single\\', \\'single\\')\\nexec(e3)',\n",
       " '_i60': \"src_code_fibanocci_10 = 'f0 = 0\\\\nf1 = 1\\\\nfor i in range(10):\\\\n\\\\tprint(f0)\\\\n\\\\tf0, f1 = f1, f0+f1'\\ncompile(src_code_fibanocci_10, 'test_fib', 'single')\",\n",
       " 'src_code_fibanocci_10': 'f0 = 0\\nf1 = 1\\nfor i in range(10):\\n\\tprint(f0)\\n\\tf0, f1 = f1, f0+f1',\n",
       " '_i61': \"src_code_fibanocci_10 = 'f0 = 0\\\\nf1 = 1\\\\nfor i in range(10):\\\\n\\\\tprint(f0)\\\\n\\\\tf0, f1 = f1, f0+f1'\\ncompile(src_code_fibanocci_10, 'test_fib', 'exec')\",\n",
       " '_61': <code object <module> at 0x0000019B7F0E93A0, file \"test_fib\", line 1>,\n",
       " '_i62': \"src_code_fibanocci_10 = 'f0 = 0\\\\nf1 = 1\\\\nfor i in range(10):\\\\n\\\\tprint(f0)\\\\n\\\\tf0, f1 = f1, f0+f1'\\nast_code = compile(src_code_fibanocci_10, 'test_fib', 'exec')\\neval(ast_code)\",\n",
       " 'ast_code': <code object <module> at 0x0000019B7D859A80, file \"test_fib\", line 1>,\n",
       " 'f0': 55,\n",
       " 'f1': 89,\n",
       " 'i': 9,\n",
       " '_i63': 'complex()',\n",
       " '_63': 0j,\n",
       " '_i64': 'complex()\\ncomplex(1)\\ncomplex(1,2)\\ncomplex(1,2.3)',\n",
       " '_64': (1+2.3j),\n",
       " '_i65': 'complex()\\ncomplex(1)\\ncomplex(1,2)',\n",
       " '_65': (1+2j),\n",
       " '_i66': 'a,b = complex(1,2), complex(2,1)\\na+b',\n",
       " 'a': 103,\n",
       " '_66': (3+3j),\n",
       " '_i67': 'a,b = complex(1,2), complex(2,1)\\na+b\\na.real\\na.imag\\na.conjugate()',\n",
       " '_67': (1-2j),\n",
       " '_i68': 'a,b = complex(1,2), complex(2,1)\\na+b\\na.real\\na.imag\\na.conjugate()\\na.conjugate()*a',\n",
       " '_68': (5+0j),\n",
       " '_i69': 'dir()',\n",
       " '_69': ['In',\n",
       "  'InteractiveShell',\n",
       "  'Out',\n",
       "  '_',\n",
       "  '_1',\n",
       "  '_10',\n",
       "  '_11',\n",
       "  '_13',\n",
       "  '_14',\n",
       "  '_15',\n",
       "  '_16',\n",
       "  '_17',\n",
       "  '_18',\n",
       "  '_19',\n",
       "  '_2',\n",
       "  '_21',\n",
       "  '_22',\n",
       "  '_23',\n",
       "  '_24',\n",
       "  '_25',\n",
       "  '_26',\n",
       "  '_28',\n",
       "  '_29',\n",
       "  '_3',\n",
       "  '_30',\n",
       "  '_31',\n",
       "  '_32',\n",
       "  '_33',\n",
       "  '_34',\n",
       "  '_35',\n",
       "  '_36',\n",
       "  '_38',\n",
       "  '_39',\n",
       "  '_4',\n",
       "  '_40',\n",
       "  '_41',\n",
       "  '_42',\n",
       "  '_44',\n",
       "  '_46',\n",
       "  '_47',\n",
       "  '_48',\n",
       "  '_49',\n",
       "  '_5',\n",
       "  '_50',\n",
       "  '_51',\n",
       "  '_52',\n",
       "  '_53',\n",
       "  '_54',\n",
       "  '_6',\n",
       "  '_61',\n",
       "  '_63',\n",
       "  '_64',\n",
       "  '_65',\n",
       "  '_66',\n",
       "  '_67',\n",
       "  '_68',\n",
       "  '_7',\n",
       "  '_8',\n",
       "  '_9',\n",
       "  '__',\n",
       "  '___',\n",
       "  '__builtin__',\n",
       "  '__builtins__',\n",
       "  '__doc__',\n",
       "  '__loader__',\n",
       "  '__name__',\n",
       "  '__package__',\n",
       "  '__spec__',\n",
       "  '__vsc_ipynb_file__',\n",
       "  '_dh',\n",
       "  '_i',\n",
       "  '_i1',\n",
       "  '_i10',\n",
       "  '_i11',\n",
       "  '_i12',\n",
       "  '_i13',\n",
       "  '_i14',\n",
       "  '_i15',\n",
       "  '_i16',\n",
       "  '_i17',\n",
       "  '_i18',\n",
       "  '_i19',\n",
       "  '_i2',\n",
       "  '_i20',\n",
       "  '_i21',\n",
       "  '_i22',\n",
       "  '_i23',\n",
       "  '_i24',\n",
       "  '_i25',\n",
       "  '_i26',\n",
       "  '_i27',\n",
       "  '_i28',\n",
       "  '_i29',\n",
       "  '_i3',\n",
       "  '_i30',\n",
       "  '_i31',\n",
       "  '_i32',\n",
       "  '_i33',\n",
       "  '_i34',\n",
       "  '_i35',\n",
       "  '_i36',\n",
       "  '_i37',\n",
       "  '_i38',\n",
       "  '_i39',\n",
       "  '_i4',\n",
       "  '_i40',\n",
       "  '_i41',\n",
       "  '_i42',\n",
       "  '_i43',\n",
       "  '_i44',\n",
       "  '_i45',\n",
       "  '_i46',\n",
       "  '_i47',\n",
       "  '_i48',\n",
       "  '_i49',\n",
       "  '_i5',\n",
       "  '_i50',\n",
       "  '_i51',\n",
       "  '_i52',\n",
       "  '_i53',\n",
       "  '_i54',\n",
       "  '_i55',\n",
       "  '_i56',\n",
       "  '_i57',\n",
       "  '_i58',\n",
       "  '_i59',\n",
       "  '_i6',\n",
       "  '_i60',\n",
       "  '_i61',\n",
       "  '_i62',\n",
       "  '_i63',\n",
       "  '_i64',\n",
       "  '_i65',\n",
       "  '_i66',\n",
       "  '_i67',\n",
       "  '_i68',\n",
       "  '_i69',\n",
       "  '_i7',\n",
       "  '_i8',\n",
       "  '_i9',\n",
       "  '_ih',\n",
       "  '_ii',\n",
       "  '_iii',\n",
       "  '_oh',\n",
       "  'a',\n",
       "  'asci_my_s',\n",
       "  'ast_code',\n",
       "  'b',\n",
       "  'e1',\n",
       "  'e2',\n",
       "  'e3',\n",
       "  'exit',\n",
       "  'f0',\n",
       "  'f1',\n",
       "  'get_ipython',\n",
       "  'gradient_descent',\n",
       "  'i',\n",
       "  'isPrime',\n",
       "  'l1',\n",
       "  'l2',\n",
       "  'l3',\n",
       "  'my_s',\n",
       "  'np',\n",
       "  'open',\n",
       "  'quit',\n",
       "  'src_code_fibanocci_10'],\n",
       " '_i70': 'dir() # lists all active variables',\n",
       " '_70': ['In',\n",
       "  'InteractiveShell',\n",
       "  'Out',\n",
       "  '_',\n",
       "  '_1',\n",
       "  '_10',\n",
       "  '_11',\n",
       "  '_13',\n",
       "  '_14',\n",
       "  '_15',\n",
       "  '_16',\n",
       "  '_17',\n",
       "  '_18',\n",
       "  '_19',\n",
       "  '_2',\n",
       "  '_21',\n",
       "  '_22',\n",
       "  '_23',\n",
       "  '_24',\n",
       "  '_25',\n",
       "  '_26',\n",
       "  '_28',\n",
       "  '_29',\n",
       "  '_3',\n",
       "  '_30',\n",
       "  '_31',\n",
       "  '_32',\n",
       "  '_33',\n",
       "  '_34',\n",
       "  '_35',\n",
       "  '_36',\n",
       "  '_38',\n",
       "  '_39',\n",
       "  '_4',\n",
       "  '_40',\n",
       "  '_41',\n",
       "  '_42',\n",
       "  '_44',\n",
       "  '_46',\n",
       "  '_47',\n",
       "  '_48',\n",
       "  '_49',\n",
       "  '_5',\n",
       "  '_50',\n",
       "  '_51',\n",
       "  '_52',\n",
       "  '_53',\n",
       "  '_54',\n",
       "  '_6',\n",
       "  '_61',\n",
       "  '_63',\n",
       "  '_64',\n",
       "  '_65',\n",
       "  '_66',\n",
       "  '_67',\n",
       "  '_68',\n",
       "  '_69',\n",
       "  '_7',\n",
       "  '_8',\n",
       "  '_9',\n",
       "  '__',\n",
       "  '___',\n",
       "  '__builtin__',\n",
       "  '__builtins__',\n",
       "  '__doc__',\n",
       "  '__loader__',\n",
       "  '__name__',\n",
       "  '__package__',\n",
       "  '__spec__',\n",
       "  '__vsc_ipynb_file__',\n",
       "  '_dh',\n",
       "  '_i',\n",
       "  '_i1',\n",
       "  '_i10',\n",
       "  '_i11',\n",
       "  '_i12',\n",
       "  '_i13',\n",
       "  '_i14',\n",
       "  '_i15',\n",
       "  '_i16',\n",
       "  '_i17',\n",
       "  '_i18',\n",
       "  '_i19',\n",
       "  '_i2',\n",
       "  '_i20',\n",
       "  '_i21',\n",
       "  '_i22',\n",
       "  '_i23',\n",
       "  '_i24',\n",
       "  '_i25',\n",
       "  '_i26',\n",
       "  '_i27',\n",
       "  '_i28',\n",
       "  '_i29',\n",
       "  '_i3',\n",
       "  '_i30',\n",
       "  '_i31',\n",
       "  '_i32',\n",
       "  '_i33',\n",
       "  '_i34',\n",
       "  '_i35',\n",
       "  '_i36',\n",
       "  '_i37',\n",
       "  '_i38',\n",
       "  '_i39',\n",
       "  '_i4',\n",
       "  '_i40',\n",
       "  '_i41',\n",
       "  '_i42',\n",
       "  '_i43',\n",
       "  '_i44',\n",
       "  '_i45',\n",
       "  '_i46',\n",
       "  '_i47',\n",
       "  '_i48',\n",
       "  '_i49',\n",
       "  '_i5',\n",
       "  '_i50',\n",
       "  '_i51',\n",
       "  '_i52',\n",
       "  '_i53',\n",
       "  '_i54',\n",
       "  '_i55',\n",
       "  '_i56',\n",
       "  '_i57',\n",
       "  '_i58',\n",
       "  '_i59',\n",
       "  '_i6',\n",
       "  '_i60',\n",
       "  '_i61',\n",
       "  '_i62',\n",
       "  '_i63',\n",
       "  '_i64',\n",
       "  '_i65',\n",
       "  '_i66',\n",
       "  '_i67',\n",
       "  '_i68',\n",
       "  '_i69',\n",
       "  '_i7',\n",
       "  '_i70',\n",
       "  '_i8',\n",
       "  '_i9',\n",
       "  '_ih',\n",
       "  '_ii',\n",
       "  '_iii',\n",
       "  '_oh',\n",
       "  'a',\n",
       "  'asci_my_s',\n",
       "  'ast_code',\n",
       "  'b',\n",
       "  'e1',\n",
       "  'e2',\n",
       "  'e3',\n",
       "  'exit',\n",
       "  'f0',\n",
       "  'f1',\n",
       "  'get_ipython',\n",
       "  'gradient_descent',\n",
       "  'i',\n",
       "  'isPrime',\n",
       "  'l1',\n",
       "  'l2',\n",
       "  'l3',\n",
       "  'my_s',\n",
       "  'np',\n",
       "  'open',\n",
       "  'quit',\n",
       "  'src_code_fibanocci_10'],\n",
       " '_i71': 'dir(random)',\n",
       " '_i72': 'import random as rd\\ndir(rd)',\n",
       " 'rd': <module 'random' from 'c:\\\\Users\\\\myalla\\\\anaconda3\\\\envs\\\\iisc\\\\lib\\\\random.py'>,\n",
       " '_72': ['BPF',\n",
       "  'LOG4',\n",
       "  'NV_MAGICCONST',\n",
       "  'RECIP_BPF',\n",
       "  'Random',\n",
       "  'SG_MAGICCONST',\n",
       "  'SystemRandom',\n",
       "  'TWOPI',\n",
       "  '_Sequence',\n",
       "  '_Set',\n",
       "  '__all__',\n",
       "  '__builtins__',\n",
       "  '__cached__',\n",
       "  '__doc__',\n",
       "  '__file__',\n",
       "  '__loader__',\n",
       "  '__name__',\n",
       "  '__package__',\n",
       "  '__spec__',\n",
       "  '_accumulate',\n",
       "  '_acos',\n",
       "  '_bisect',\n",
       "  '_ceil',\n",
       "  '_cos',\n",
       "  '_e',\n",
       "  '_exp',\n",
       "  '_floor',\n",
       "  '_inst',\n",
       "  '_log',\n",
       "  '_os',\n",
       "  '_pi',\n",
       "  '_random',\n",
       "  '_repeat',\n",
       "  '_sha512',\n",
       "  '_sin',\n",
       "  '_sqrt',\n",
       "  '_test',\n",
       "  '_test_generator',\n",
       "  '_urandom',\n",
       "  '_warn',\n",
       "  'betavariate',\n",
       "  'choice',\n",
       "  'choices',\n",
       "  'expovariate',\n",
       "  'gammavariate',\n",
       "  'gauss',\n",
       "  'getrandbits',\n",
       "  'getstate',\n",
       "  'lognormvariate',\n",
       "  'normalvariate',\n",
       "  'paretovariate',\n",
       "  'randbytes',\n",
       "  'randint',\n",
       "  'random',\n",
       "  'randrange',\n",
       "  'sample',\n",
       "  'seed',\n",
       "  'setstate',\n",
       "  'shuffle',\n",
       "  'triangular',\n",
       "  'uniform',\n",
       "  'vonmisesvariate',\n",
       "  'weibullvariate'],\n",
       " '_i73': 'a = 103\\nb = 17\\ndivmod(a,b) , a// b , a % b ',\n",
       " '_73': ((6, 1), 6, 1),\n",
       " '_i74': 'a = 103\\nb = 17\\ndivmod(a,b) , == , (a// b , a % b )',\n",
       " '_i75': 'a = 103\\nb = 17\\ndivmod(a,b) , \"==\" , (a// b , a % b )',\n",
       " '_75': ((6, 1), '==', (6, 1)),\n",
       " '_i76': \"weekdays = ['Monday', 'Tuesday', 'Wednesday', 'Thursday', 'Friday', 'Saturday', 'Sunday']\\nenumerate(weekdays)\",\n",
       " 'weekdays': ['Monday',\n",
       "  'Tuesday',\n",
       "  'Wednesday',\n",
       "  'Thursday',\n",
       "  'Friday',\n",
       "  'Saturday',\n",
       "  'Sunday'],\n",
       " '_76': <enumerate at 0x19b7f061980>,\n",
       " '_i77': \"weekdays = ['Monday', 'Tuesday', 'Wednesday', 'Thursday', 'Friday', 'Saturday', 'Sunday']\\nlist(enumerate(weekdays))\",\n",
       " '_77': [(0, 'Monday'),\n",
       "  (1, 'Tuesday'),\n",
       "  (2, 'Wednesday'),\n",
       "  (3, 'Thursday'),\n",
       "  (4, 'Friday'),\n",
       "  (5, 'Saturday'),\n",
       "  (6, 'Sunday')],\n",
       " '_i78': \"weekdays = ['Monday', 'Tuesday', 'Wednesday', 'Thursday', 'Friday', 'Saturday', 'Sunday']\\nlist(enumerate(weekdays))\\nlist(enumerate(weekdays, start = 1))\",\n",
       " '_78': [(1, 'Monday'),\n",
       "  (2, 'Tuesday'),\n",
       "  (3, 'Wednesday'),\n",
       "  (4, 'Thursday'),\n",
       "  (5, 'Friday'),\n",
       "  (6, 'Saturday'),\n",
       "  (7, 'Sunday')],\n",
       " '_i79': 'filter(isPrime, range(1, 20))',\n",
       " '_79': <filter at 0x19b7ef49a30>,\n",
       " '_i80': 'print(filter(isPrime, range(1, 20)))',\n",
       " '_i81': 'list(filter(isPrime, range(1, 20)))',\n",
       " '_81': [2, 3, 5, 7, 11, 13, 17, 19],\n",
       " '_i82': 'list( filter(lambda x: x % 2 == 0, range(1, 20)) )',\n",
       " '_82': [2, 4, 6, 8, 10, 12, 14, 16, 18],\n",
       " '_i83': \"dig = '1.2245'\\nfloat(dig)\",\n",
       " 'dig': '1.2245',\n",
       " '_83': 1.2245,\n",
       " '_i84': 'int(dig)',\n",
       " '_i85': \"float('inf') , float('-inf') , float('nan')\",\n",
       " '_85': (inf, -inf, nan),\n",
       " '_i86': \"format(24, 'b')\\nformat(24, '#b')\",\n",
       " '_86': '0b11000',\n",
       " '_i87': \"format(24, 'b')\\nformat(24, '#b')\\ntype(format(24, 'b')) , type(format(24, '#b'))\",\n",
       " '_87': (str, str),\n",
       " '_i88': \"format(0.0634, '%')\",\n",
       " '_88': '6.340000%',\n",
       " '_i89': \"p = 0.00634\\nformat(p, '%')\\nformat(1-p, '%')\",\n",
       " 'p': 0.00634,\n",
       " '_89': '99.366000%',\n",
       " '_i90': \"p = 0.00634\\nformat(p, '%')\\nformat(1-p, '2%')\",\n",
       " '_90': '99.366000%',\n",
       " '_i91': \"p = 0.00634\\nformat(p, '%')\\nformat(1-p, '%')\",\n",
       " '_91': '99.366000%',\n",
       " '_i92': 'globals()',\n",
       " '_92': {...},\n",
       " '_i93': 'locals()'}"
      ]
     },
     "execution_count": 93,
     "metadata": {},
     "output_type": "execute_result"
    }
   ],
   "source": [
    "locals()"
   ]
  },
  {
   "cell_type": "markdown",
   "metadata": {},
   "source": [
    "## Hash\n",
    "\n",
    "only for immutables : bool, int, float, tuple, str, frozenset"
   ]
  },
  {
   "cell_type": "code",
   "execution_count": 96,
   "metadata": {},
   "outputs": [
    {
     "data": {
      "text/plain": [
       "24"
      ]
     },
     "execution_count": 96,
     "metadata": {},
     "output_type": "execute_result"
    },
    {
     "data": {
      "text/plain": [
       "122209679488327704"
      ]
     },
     "execution_count": 96,
     "metadata": {},
     "output_type": "execute_result"
    },
    {
     "data": {
      "text/plain": [
       "122209679488327704"
      ]
     },
     "execution_count": 96,
     "metadata": {},
     "output_type": "execute_result"
    },
    {
     "data": {
      "text/plain": [
       "4579140301080164420"
      ]
     },
     "execution_count": 96,
     "metadata": {},
     "output_type": "execute_result"
    },
    {
     "data": {
      "text/plain": [
       "590899387183067792"
      ]
     },
     "execution_count": 96,
     "metadata": {},
     "output_type": "execute_result"
    }
   ],
   "source": [
    "hash(24)\n",
    "hash(24.053) # -> 122209679488327704 \n",
    "hash(122209679488327704) # -> 122209679488327704\n",
    "# hence not unique \n",
    "\n",
    "hash('Maha')\n",
    "hash((1,2,3,4))"
   ]
  },
  {
   "cell_type": "markdown",
   "metadata": {},
   "source": [
    "## id"
   ]
  },
  {
   "cell_type": "code",
   "execution_count": 97,
   "metadata": {},
   "outputs": [
    {
     "data": {
      "text/plain": [
       "(1767255796016, 1767255796048)"
      ]
     },
     "execution_count": 97,
     "metadata": {},
     "output_type": "execute_result"
    },
    {
     "data": {
      "text/plain": [
       "(1767255796016, 1767255796016)"
      ]
     },
     "execution_count": 97,
     "metadata": {},
     "output_type": "execute_result"
    },
    {
     "data": {
      "text/plain": [
       "(1, 1)"
      ]
     },
     "execution_count": 97,
     "metadata": {},
     "output_type": "execute_result"
    }
   ],
   "source": [
    "a = 1\n",
    "b = 2\n",
    "id(a) , id(b)\n",
    "b = a\n",
    "id(a) , id(b)\n",
    "hash(a) , hash(b)\n"
   ]
  },
  {
   "cell_type": "code",
   "execution_count": 102,
   "metadata": {},
   "outputs": [
    {
     "data": {
      "text/plain": [
       "(1767358193856, 1767358193984, True, False)"
      ]
     },
     "execution_count": 102,
     "metadata": {},
     "output_type": "execute_result"
    },
    {
     "data": {
      "text/plain": [
       "(1767358193856, 1767358193856, True, True)"
      ]
     },
     "execution_count": 102,
     "metadata": {},
     "output_type": "execute_result"
    },
    {
     "data": {
      "text/plain": [
       "(1767358193856, 1767358193856, True, True)"
      ]
     },
     "execution_count": 102,
     "metadata": {},
     "output_type": "execute_result"
    }
   ],
   "source": [
    "a = [1,2,3]\n",
    "b = [1,2,3]\n",
    "id(a) , id(b) , a == b , id(a) == id(b)\n",
    "b = a\n",
    "id(a) , id(b) , a == b , id(a) == id(b)\n",
    "b.append(4)\n",
    "id(a) , id(b) , a == b , id(a) == id(b)"
   ]
  },
  {
   "cell_type": "code",
   "execution_count": 105,
   "metadata": {},
   "outputs": [
    {
     "data": {
      "text/plain": [
       "(1767362921728, 1767363360960, True, False)"
      ]
     },
     "execution_count": 105,
     "metadata": {},
     "output_type": "execute_result"
    },
    {
     "data": {
      "text/plain": [
       "(1767362921728, 1767362921728, True, True)"
      ]
     },
     "execution_count": 105,
     "metadata": {},
     "output_type": "execute_result"
    }
   ],
   "source": [
    "a = (1,2,3)\n",
    "b = (1,2,3)\n",
    "id(a) , id(b) , a == b , id(a) == id(b)\n",
    "b = a\n",
    "id(a) , id(b) , a == b , id(a) == id(b)"
   ]
  },
  {
   "cell_type": "markdown",
   "metadata": {},
   "source": [
    "## isinstance"
   ]
  },
  {
   "cell_type": "code",
   "execution_count": 125,
   "metadata": {},
   "outputs": [
    {
     "data": {
      "text/plain": [
       "True"
      ]
     },
     "execution_count": 125,
     "metadata": {},
     "output_type": "execute_result"
    },
    {
     "data": {
      "text/plain": [
       "True"
      ]
     },
     "execution_count": 125,
     "metadata": {},
     "output_type": "execute_result"
    }
   ],
   "source": [
    "isinstance(24, int)\n",
    "isinstance('24', str)"
   ]
  },
  {
   "cell_type": "code",
   "execution_count": 126,
   "metadata": {},
   "outputs": [
    {
     "data": {
      "text/plain": [
       "True"
      ]
     },
     "execution_count": 126,
     "metadata": {},
     "output_type": "execute_result"
    }
   ],
   "source": [
    "isinstance(24, (int, str))"
   ]
  },
  {
   "cell_type": "markdown",
   "metadata": {},
   "source": [
    "## iter & next"
   ]
  },
  {
   "cell_type": "code",
   "execution_count": 132,
   "metadata": {},
   "outputs": [
    {
     "data": {
      "text/plain": [
       "[1, 2, 3, 4, 5]"
      ]
     },
     "execution_count": 132,
     "metadata": {},
     "output_type": "execute_result"
    },
    {
     "name": "stdout",
     "output_type": "stream",
     "text": [
      "1\n",
      "2\n",
      "3\n",
      "4\n",
      "5\n"
     ]
    }
   ],
   "source": [
    "# only 1 argument\n",
    "l1\n",
    "iters = iter(l1)\n",
    "for i in iters:\n",
    "    print(i)"
   ]
  },
  {
   "cell_type": "code",
   "execution_count": 134,
   "metadata": {},
   "outputs": [
    {
     "data": {
      "text/plain": [
       "1"
      ]
     },
     "execution_count": 134,
     "metadata": {},
     "output_type": "execute_result"
    }
   ],
   "source": [
    "iters = iter(l1)\n",
    "next(iters)"
   ]
  },
  {
   "cell_type": "code",
   "execution_count": 135,
   "metadata": {},
   "outputs": [
    {
     "data": {
      "text/plain": [
       "2"
      ]
     },
     "execution_count": 135,
     "metadata": {},
     "output_type": "execute_result"
    }
   ],
   "source": [
    "next(iters)"
   ]
  },
  {
   "cell_type": "code",
   "execution_count": 136,
   "metadata": {},
   "outputs": [
    {
     "data": {
      "text/plain": [
       "3"
      ]
     },
     "execution_count": 136,
     "metadata": {},
     "output_type": "execute_result"
    }
   ],
   "source": [
    "next(iters)"
   ]
  },
  {
   "cell_type": "code",
   "execution_count": 137,
   "metadata": {},
   "outputs": [
    {
     "data": {
      "text/plain": [
       "4"
      ]
     },
     "execution_count": 137,
     "metadata": {},
     "output_type": "execute_result"
    },
    {
     "data": {
      "text/plain": [
       "5"
      ]
     },
     "execution_count": 137,
     "metadata": {},
     "output_type": "execute_result"
    }
   ],
   "source": [
    "next(iters)\n",
    "next(iters)"
   ]
  },
  {
   "cell_type": "code",
   "execution_count": 138,
   "metadata": {},
   "outputs": [
    {
     "ename": "StopIteration",
     "evalue": "",
     "output_type": "error",
     "traceback": [
      "\u001b[1;31m---------------------------------------------------------------------------\u001b[0m",
      "\u001b[1;31mStopIteration\u001b[0m                             Traceback (most recent call last)",
      "Cell \u001b[1;32mIn[138], line 1\u001b[0m\n\u001b[1;32m----> 1\u001b[0m \u001b[38;5;28;43mnext\u001b[39;49m\u001b[43m(\u001b[49m\u001b[43miters\u001b[49m\u001b[43m)\u001b[49m \u001b[38;5;66;03m# StopIteration\u001b[39;00m\n",
      "\u001b[1;31mStopIteration\u001b[0m: "
     ]
    }
   ],
   "source": [
    "next(iters) # StopIteration"
   ]
  },
  {
   "cell_type": "code",
   "execution_count": 151,
   "metadata": {},
   "outputs": [
    {
     "name": "stdout",
     "output_type": "stream",
     "text": [
      "8\n",
      "8\n",
      "1\n",
      "7\n",
      "2\n",
      "9\n",
      "7\n",
      "4\n"
     ]
    },
    {
     "ename": "StopIteration",
     "evalue": "",
     "output_type": "error",
     "traceback": [
      "\u001b[1;31m---------------------------------------------------------------------------\u001b[0m",
      "\u001b[1;31mStopIteration\u001b[0m                             Traceback (most recent call last)",
      "Cell \u001b[1;32mIn[151], line 6\u001b[0m\n\u001b[0;32m      4\u001b[0m k \u001b[38;5;241m=\u001b[39m \u001b[38;5;28miter\u001b[39m( x , \u001b[38;5;241m5\u001b[39m) \n\u001b[0;32m      5\u001b[0m \u001b[38;5;28;01mwhile\u001b[39;00m \u001b[38;5;28;01mTrue\u001b[39;00m:\n\u001b[1;32m----> 6\u001b[0m     \u001b[38;5;28mprint\u001b[39m(\u001b[38;5;28;43mnext\u001b[39;49m\u001b[43m(\u001b[49m\u001b[43mk\u001b[49m\u001b[43m)\u001b[49m)\n",
      "\u001b[1;31mStopIteration\u001b[0m: "
     ]
    }
   ],
   "source": [
    "# 2nd argument -> obj should be calleble\n",
    "def x ():\n",
    "    return np.random.randint(1,10)\n",
    "k = iter( x , 5) \n",
    "while True:\n",
    "    print(next(k))\n"
   ]
  },
  {
   "cell_type": "markdown",
   "metadata": {},
   "source": [
    "## len"
   ]
  },
  {
   "cell_type": "code",
   "execution_count": 154,
   "metadata": {},
   "outputs": [
    {
     "data": {
      "text/plain": [
       "7"
      ]
     },
     "execution_count": 154,
     "metadata": {},
     "output_type": "execute_result"
    },
    {
     "ename": "TypeError",
     "evalue": "object of type 'type' has no len()",
     "output_type": "error",
     "traceback": [
      "\u001b[1;31m---------------------------------------------------------------------------\u001b[0m",
      "\u001b[1;31mTypeError\u001b[0m                                 Traceback (most recent call last)",
      "Cell \u001b[1;32mIn[154], line 2\u001b[0m\n\u001b[0;32m      1\u001b[0m \u001b[38;5;28mlen\u001b[39m(\u001b[38;5;124m'\u001b[39m\u001b[38;5;124midushfk\u001b[39m\u001b[38;5;124m'\u001b[39m) \n\u001b[1;32m----> 2\u001b[0m \u001b[38;5;28;43mlen\u001b[39;49m\u001b[43m(\u001b[49m\u001b[38;5;28;43mstr\u001b[39;49m\u001b[43m)\u001b[49m\n",
      "\u001b[1;31mTypeError\u001b[0m: object of type 'type' has no len()"
     ]
    }
   ],
   "source": [
    "len('idushfk') \n",
    "len(str)"
   ]
  },
  {
   "cell_type": "code",
   "execution_count": 159,
   "metadata": {},
   "outputs": [
    {
     "data": {
      "text/plain": [
       "99"
      ]
     },
     "execution_count": 159,
     "metadata": {},
     "output_type": "execute_result"
    },
    {
     "ename": "TypeError",
     "evalue": "object of type 'map' has no len()",
     "output_type": "error",
     "traceback": [
      "\u001b[1;31m---------------------------------------------------------------------------\u001b[0m",
      "\u001b[1;31mTypeError\u001b[0m                                 Traceback (most recent call last)",
      "Cell \u001b[1;32mIn[159], line 3\u001b[0m\n\u001b[0;32m      1\u001b[0m a \u001b[38;5;241m=\u001b[39m \u001b[38;5;28mmap\u001b[39m(\u001b[38;5;28mstr\u001b[39m, \u001b[38;5;28mrange\u001b[39m(\u001b[38;5;241m1\u001b[39m,\u001b[38;5;241m100\u001b[39m))\n\u001b[0;32m      2\u001b[0m \u001b[38;5;28mlen\u001b[39m(\u001b[38;5;28mlist\u001b[39m(a))\n\u001b[1;32m----> 3\u001b[0m \u001b[38;5;28;43mlen\u001b[39;49m\u001b[43m(\u001b[49m\u001b[43ma\u001b[49m\u001b[43m)\u001b[49m\n",
      "\u001b[1;31mTypeError\u001b[0m: object of type 'map' has no len()"
     ]
    }
   ],
   "source": [
    "a = map(str, range(1,100))\n",
    "len(list(a))\n",
    "len(a)"
   ]
  },
  {
   "cell_type": "markdown",
   "metadata": {},
   "source": [
    "## map"
   ]
  },
  {
   "cell_type": "code",
   "execution_count": 168,
   "metadata": {},
   "outputs": [
    {
     "data": {
      "text/plain": [
       "([1, 2, 3, 4, 5], [1, 4, 9, 16, 25])"
      ]
     },
     "execution_count": 168,
     "metadata": {},
     "output_type": "execute_result"
    },
    {
     "data": {
      "text/plain": [
       "[6, 8, 10, 12]"
      ]
     },
     "execution_count": 168,
     "metadata": {},
     "output_type": "execute_result"
    }
   ],
   "source": [
    "def sqr(x):\n",
    "    return x**2\n",
    "def add(x,y):\n",
    "    return x+y\n",
    "l1, list(map(sqr,l1))\n",
    "list(map(add, [1,2,3,4], [5,6,7,8]))"
   ]
  },
  {
   "cell_type": "markdown",
   "metadata": {},
   "source": [
    "## Min & Max"
   ]
  },
  {
   "cell_type": "code",
   "execution_count": 173,
   "metadata": {},
   "outputs": [
    {
     "data": {
      "text/plain": [
       "([1, 2, 3, 4, 5], 5, 1, 10)"
      ]
     },
     "execution_count": 173,
     "metadata": {},
     "output_type": "execute_result"
    },
    {
     "data": {
      "text/plain": [
       "1"
      ]
     },
     "execution_count": 173,
     "metadata": {},
     "output_type": "execute_result"
    },
    {
     "data": {
      "text/plain": [
       "inf"
      ]
     },
     "execution_count": 173,
     "metadata": {},
     "output_type": "execute_result"
    }
   ],
   "source": [
    "l1, max(l1) , min(l1) , max([], default=10) \n",
    "min(l1, default=float('inf'))\n",
    " min([], default=float('inf'))"
   ]
  },
  {
   "cell_type": "code",
   "execution_count": 174,
   "metadata": {},
   "outputs": [
    {
     "data": {
      "text/plain": [
       "'mango'"
      ]
     },
     "execution_count": 174,
     "metadata": {},
     "output_type": "execute_result"
    },
    {
     "data": {
      "text/plain": [
       "'banana'"
      ]
     },
     "execution_count": 174,
     "metadata": {},
     "output_type": "execute_result"
    }
   ],
   "source": [
    "max('apple', 'banana', 'mango') # since ord(m) = 109 > ord(a) = 97 or ord(b) = 98\n",
    "max('apple', 'banana', 'mango', key = len)"
   ]
  },
  {
   "cell_type": "code",
   "execution_count": 177,
   "metadata": {},
   "outputs": [
    {
     "data": {
      "text/plain": [
       "'aaana'"
      ]
     },
     "execution_count": 177,
     "metadata": {},
     "output_type": "execute_result"
    }
   ],
   "source": [
    "max('apple', 'banana', 'mango', 'aaana', key = lambda x: x.count('a'))"
   ]
  },
  {
   "cell_type": "code",
   "execution_count": 178,
   "metadata": {},
   "outputs": [
    {
     "data": {
      "text/plain": [
       "'mango'"
      ]
     },
     "execution_count": 178,
     "metadata": {},
     "output_type": "execute_result"
    }
   ],
   "source": [
    "max('apple', 'banana', 'mango', key = str.upper)"
   ]
  },
  {
   "cell_type": "code",
   "execution_count": 180,
   "metadata": {},
   "outputs": [
    {
     "data": {
      "text/plain": [
       "3948"
      ]
     },
     "execution_count": 180,
     "metadata": {},
     "output_type": "execute_result"
    }
   ],
   "source": [
    "def sum_digits(n):\n",
    "    return sum(map(int, str(n)))\n",
    "\n",
    "max(3948, 23643,23214, 25269, key = sum_digits)"
   ]
  },
  {
   "cell_type": "markdown",
   "metadata": {},
   "source": [
    "## memoryview"
   ]
  },
  {
   "cell_type": "code",
   "execution_count": 183,
   "metadata": {},
   "outputs": [
    {
     "data": {
      "text/plain": [
       "b'mahanth'"
      ]
     },
     "execution_count": 183,
     "metadata": {},
     "output_type": "execute_result"
    }
   ],
   "source": [
    "a = b'mahanth'\n",
    "mv = memoryview(a)\n",
    "mv.tobytes()"
   ]
  },
  {
   "cell_type": "code",
   "execution_count": 184,
   "metadata": {},
   "outputs": [
    {
     "data": {
      "text/plain": [
       "b'mahanth'"
      ]
     },
     "execution_count": 184,
     "metadata": {},
     "output_type": "execute_result"
    }
   ],
   "source": [
    "mv.obj"
   ]
  },
  {
   "cell_type": "code",
   "execution_count": 188,
   "metadata": {},
   "outputs": [
    {
     "data": {
      "text/plain": [
       "bytearray(b'Mahanth')"
      ]
     },
     "execution_count": 188,
     "metadata": {},
     "output_type": "execute_result"
    },
    {
     "data": {
      "text/plain": [
       "bytearray(b'MAhanth')"
      ]
     },
     "execution_count": 188,
     "metadata": {},
     "output_type": "execute_result"
    }
   ],
   "source": [
    "a = bytearray(b'Mahanth')\n",
    "mv = memoryview(a)\n",
    "mv.obj\n",
    "mv[1:2] = b'A'\n",
    "mv.obj"
   ]
  },
  {
   "cell_type": "markdown",
   "metadata": {},
   "source": [
    "## object"
   ]
  },
  {
   "cell_type": "code",
   "execution_count": 191,
   "metadata": {},
   "outputs": [
    {
     "data": {
      "text/plain": [
       "<object at 0x19b7f627c30>"
      ]
     },
     "execution_count": 191,
     "metadata": {},
     "output_type": "execute_result"
    }
   ],
   "source": [
    "object() # base for all classes"
   ]
  },
  {
   "cell_type": "code",
   "execution_count": 192,
   "metadata": {},
   "outputs": [
    {
     "data": {
      "text/plain": [
       "False"
      ]
     },
     "execution_count": 192,
     "metadata": {},
     "output_type": "execute_result"
    }
   ],
   "source": [
    "k = object()\n",
    "q = object()\n",
    "k is q"
   ]
  },
  {
   "cell_type": "markdown",
   "metadata": {},
   "source": [
    "## open"
   ]
  },
  {
   "cell_type": "code",
   "execution_count": 194,
   "metadata": {},
   "outputs": [
    {
     "data": {
      "text/plain": [
       "'# BasicML\\nLearning basics of machine learning \\n'"
      ]
     },
     "execution_count": 194,
     "metadata": {},
     "output_type": "execute_result"
    }
   ],
   "source": [
    "file = open('./README.md', mode = 'r')\n",
    "file.read()"
   ]
  },
  {
   "cell_type": "code",
   "execution_count": 201,
   "metadata": {},
   "outputs": [
    {
     "data": {
      "text/plain": [
       "11"
      ]
     },
     "execution_count": 201,
     "metadata": {},
     "output_type": "execute_result"
    },
    {
     "data": {
      "text/plain": [
       "2"
      ]
     },
     "execution_count": 201,
     "metadata": {},
     "output_type": "execute_result"
    },
    {
     "data": {
      "text/plain": [
       "2"
      ]
     },
     "execution_count": 201,
     "metadata": {},
     "output_type": "execute_result"
    },
    {
     "data": {
      "text/plain": [
       "2"
      ]
     },
     "execution_count": 201,
     "metadata": {},
     "output_type": "execute_result"
    },
    {
     "data": {
      "text/plain": [
       "2"
      ]
     },
     "execution_count": 201,
     "metadata": {},
     "output_type": "execute_result"
    },
    {
     "data": {
      "text/plain": [
       "2"
      ]
     },
     "execution_count": 201,
     "metadata": {},
     "output_type": "execute_result"
    },
    {
     "data": {
      "text/plain": [
       "2"
      ]
     },
     "execution_count": 201,
     "metadata": {},
     "output_type": "execute_result"
    }
   ],
   "source": [
    "file = open('./python_basics/test.txt', mode = 'w')\n",
    "file.write('Hello World')\n",
    "for i in range(6):\n",
    "    file.write(f\"{i}\\n\")\n",
    "file.close()"
   ]
  },
  {
   "cell_type": "markdown",
   "metadata": {},
   "source": [
    "## pow"
   ]
  },
  {
   "cell_type": "code",
   "execution_count": 203,
   "metadata": {},
   "outputs": [
    {
     "data": {
      "text/plain": [
       "(3, 3)"
      ]
     },
     "execution_count": 203,
     "metadata": {},
     "output_type": "execute_result"
    }
   ],
   "source": [
    "pow(base= 2, exp = 3, mod = 5) , 2**3 % 5 "
   ]
  },
  {
   "cell_type": "code",
   "execution_count": 206,
   "metadata": {},
   "outputs": [
    {
     "data": {
      "text/plain": [
       "100.0"
      ]
     },
     "execution_count": 206,
     "metadata": {},
     "output_type": "execute_result"
    },
    {
     "data": {
      "text/plain": [
       "63.09573444801933"
      ]
     },
     "execution_count": 206,
     "metadata": {},
     "output_type": "execute_result"
    },
    {
     "data": {
      "text/plain": [
       "10.0"
      ]
     },
     "execution_count": 206,
     "metadata": {},
     "output_type": "execute_result"
    },
    {
     "data": {
      "text/plain": [
       "9999999999.999998"
      ]
     },
     "execution_count": 206,
     "metadata": {},
     "output_type": "execute_result"
    }
   ],
   "source": [
    "pow(10000, 0.5)\n",
    "pow(10000, 0.45)\n",
    "pow(10000, 0.25)\n",
    "pow(1/10000, -2.5)"
   ]
  },
  {
   "cell_type": "markdown",
   "metadata": {},
   "source": [
    "## print"
   ]
  },
  {
   "cell_type": "code",
   "execution_count": 210,
   "metadata": {},
   "outputs": [
    {
     "name": "stdout",
     "output_type": "stream",
     "text": [
      "hello doctor heart miss aaayee...\n",
      "hello - doctor - heart - miss - aaayee..."
     ]
    }
   ],
   "source": [
    "print('hello','doctor','heart','miss', 'aaayee', end ='...\\n')\n",
    "print('hello','doctor','heart','miss', 'aaayee', sep = ' - ' ,end ='...')"
   ]
  },
  {
   "cell_type": "code",
   "execution_count": 213,
   "metadata": {},
   "outputs": [],
   "source": [
    "file_test = open('./python_basics/test.txt', mode= 'a')\n",
    "print('hello','doctor','heart','miss', 'aaayee', sep = ' - ' ,end ='...', file = file_test)"
   ]
  },
  {
   "cell_type": "code",
   "execution_count": 214,
   "metadata": {},
   "outputs": [],
   "source": [
    "file_test.close()"
   ]
  },
  {
   "cell_type": "markdown",
   "metadata": {},
   "source": [
    "## Range"
   ]
  },
  {
   "cell_type": "code",
   "execution_count": 216,
   "metadata": {},
   "outputs": [
    {
     "data": {
      "text/plain": [
       "[0, 1, 2, 3]"
      ]
     },
     "execution_count": 216,
     "metadata": {},
     "output_type": "execute_result"
    }
   ],
   "source": [
    "list(range(4))"
   ]
  },
  {
   "cell_type": "code",
   "execution_count": 218,
   "metadata": {},
   "outputs": [
    {
     "data": {
      "text/plain": [
       "[1, 2, 3, 4, 5, 6, 7, 8, 9]"
      ]
     },
     "execution_count": 218,
     "metadata": {},
     "output_type": "execute_result"
    },
    {
     "data": {
      "text/plain": [
       "[1, 4, 7]"
      ]
     },
     "execution_count": 218,
     "metadata": {},
     "output_type": "execute_result"
    }
   ],
   "source": [
    "list(range(1, 10))\n",
    "list(range(1, 10, 3))"
   ]
  },
  {
   "cell_type": "markdown",
   "metadata": {},
   "source": [
    "## repr"
   ]
  },
  {
   "cell_type": "code",
   "execution_count": 224,
   "metadata": {},
   "outputs": [
    {
     "data": {
      "text/plain": [
       "(\"'Maha'\", 'Maha')"
      ]
     },
     "execution_count": 224,
     "metadata": {},
     "output_type": "execute_result"
    },
    {
     "data": {
      "text/plain": [
       "(\"Decimal('1.234')\", '1.234')"
      ]
     },
     "execution_count": 224,
     "metadata": {},
     "output_type": "execute_result"
    }
   ],
   "source": [
    "from decimal import Decimal\n",
    "\n",
    "repr('Maha'), str('Maha') \n",
    "dig = Decimal('1.234')\n",
    "repr(dig) , str(dig)"
   ]
  },
  {
   "cell_type": "code",
   "execution_count": 225,
   "metadata": {},
   "outputs": [
    {
     "data": {
      "text/plain": [
       "datetime.datetime(2024, 12, 2, 20, 26, 22, 634634)"
      ]
     },
     "execution_count": 225,
     "metadata": {},
     "output_type": "execute_result"
    }
   ],
   "source": [
    "import datetime\n",
    "today = datetime.datetime.now()\n",
    "today"
   ]
  },
  {
   "cell_type": "code",
   "execution_count": 226,
   "metadata": {},
   "outputs": [
    {
     "data": {
      "text/plain": [
       "('datetime.datetime(2024, 12, 2, 20, 26, 22, 634634)',\n",
       " '2024-12-02 20:26:22.634634')"
      ]
     },
     "execution_count": 226,
     "metadata": {},
     "output_type": "execute_result"
    }
   ],
   "source": [
    "repr(today) , str(today)"
   ]
  },
  {
   "cell_type": "markdown",
   "metadata": {},
   "source": [
    "## sorted & reversed"
   ]
  },
  {
   "cell_type": "code",
   "execution_count": 235,
   "metadata": {},
   "outputs": [
    {
     "data": {
      "text/plain": [
       "[79, 99, 6, 61, 81, 86, 51, 24, 69, 53]"
      ]
     },
     "execution_count": 235,
     "metadata": {},
     "output_type": "execute_result"
    },
    {
     "data": {
      "text/plain": [
       "[53, 69, 24, 51, 86, 81, 61, 6, 99, 79]"
      ]
     },
     "execution_count": 235,
     "metadata": {},
     "output_type": "execute_result"
    },
    {
     "data": {
      "text/plain": [
       "[6, 24, 51, 53, 61, 69, 79, 81, 86, 99]"
      ]
     },
     "execution_count": 235,
     "metadata": {},
     "output_type": "execute_result"
    },
    {
     "data": {
      "text/plain": [
       "([99, 86, 81, 79, 69, 61, 53, 51, 24, 6],\n",
       " [99, 86, 81, 79, 69, 61, 53, 51, 24, 6])"
      ]
     },
     "execution_count": 235,
     "metadata": {},
     "output_type": "execute_result"
    }
   ],
   "source": [
    "l1 = list(np.random.randint(1,100,10))\n",
    "l1\n",
    "list(reversed(l1))\n",
    "\n",
    "sorted(l1)\n",
    "list(reversed(sorted(l1))) , sorted(l1, reverse = True)"
   ]
  },
  {
   "cell_type": "code",
   "execution_count": 240,
   "metadata": {},
   "outputs": [
    {
     "data": {
      "text/plain": [
       "['0', '0', '2', '4', '4', 'M', 'a', 'a', 'h', 'h', 'n', 't']"
      ]
     },
     "execution_count": 240,
     "metadata": {},
     "output_type": "execute_result"
    },
    {
     "data": {
      "text/plain": [
       "['0', '0', '2', '4', '4', 'a', 'a', 'h', 'h', 'M', 'n', 't']"
      ]
     },
     "execution_count": 240,
     "metadata": {},
     "output_type": "execute_result"
    },
    {
     "data": {
      "text/plain": [
       "['0', '0', '2', '4', '4', 'a', 'a', 'h', 'h', 'M', 'n', 't']"
      ]
     },
     "execution_count": 240,
     "metadata": {},
     "output_type": "execute_result"
    }
   ],
   "source": [
    "sorted('Mahanth24004')\n",
    "sorted('Mahanth24004', key = str.upper)\n",
    "sorted('Mahanth24004', key = str.lower)"
   ]
  },
  {
   "cell_type": "code",
   "execution_count": 242,
   "metadata": {},
   "outputs": [
    {
     "data": {
      "text/plain": [
       "array([ 36,  -5, -16, -61, -75,   9,  60,  97, -99, -40])"
      ]
     },
     "execution_count": 242,
     "metadata": {},
     "output_type": "execute_result"
    },
    {
     "data": {
      "text/plain": [
       "[-99, -75, -61, -40, -16, -5, 9, 36, 60, 97]"
      ]
     },
     "execution_count": 242,
     "metadata": {},
     "output_type": "execute_result"
    },
    {
     "data": {
      "text/plain": [
       "[-5, 9, -16, 36, -40, 60, -61, -75, 97, -99]"
      ]
     },
     "execution_count": 242,
     "metadata": {},
     "output_type": "execute_result"
    },
    {
     "data": {
      "text/plain": [
       "[97, 60, 36, 9, -5, -16, -40, -61, -75, -99]"
      ]
     },
     "execution_count": 242,
     "metadata": {},
     "output_type": "execute_result"
    },
    {
     "data": {
      "text/plain": [
       "[-99, 97, -75, -61, 60, -40, 36, -16, 9, -5]"
      ]
     },
     "execution_count": 242,
     "metadata": {},
     "output_type": "execute_result"
    }
   ],
   "source": [
    "l2 = np.random.randint(-100,100,10)\n",
    "l2\n",
    "sorted(l2)\n",
    "sorted(l2, key = abs)\n",
    "sorted(l2, reverse = True)\n",
    "sorted(l2, key = abs, reverse = True)\n"
   ]
  },
  {
   "cell_type": "code",
   "execution_count": 245,
   "metadata": {},
   "outputs": [
    {
     "data": {
      "text/plain": [
       "['Monday', 'Tuesday', 'Wednesday', 'Thursday', 'Friday', 'Saturday', 'Sunday']"
      ]
     },
     "execution_count": 245,
     "metadata": {},
     "output_type": "execute_result"
    },
    {
     "data": {
      "text/plain": [
       "['Friday', 'Monday', 'Saturday', 'Sunday', 'Thursday', 'Tuesday', 'Wednesday']"
      ]
     },
     "execution_count": 245,
     "metadata": {},
     "output_type": "execute_result"
    },
    {
     "data": {
      "text/plain": [
       "['Wednesday', 'Tuesday', 'Thursday', 'Sunday', 'Saturday', 'Monday', 'Friday']"
      ]
     },
     "execution_count": 245,
     "metadata": {},
     "output_type": "execute_result"
    },
    {
     "data": {
      "text/plain": [
       "['Monday', 'Friday', 'Sunday', 'Tuesday', 'Thursday', 'Saturday', 'Wednesday']"
      ]
     },
     "execution_count": 245,
     "metadata": {},
     "output_type": "execute_result"
    }
   ],
   "source": [
    "weekdays \n",
    "sorted(weekdays)\n",
    "sorted(weekdays , reverse = True)\n",
    "sorted(weekdays , key = len)"
   ]
  },
  {
   "cell_type": "markdown",
   "metadata": {},
   "source": [
    "## round "
   ]
  },
  {
   "cell_type": "code",
   "execution_count": 246,
   "metadata": {},
   "outputs": [
    {
     "data": {
      "text/plain": [
       "24"
      ]
     },
     "execution_count": 246,
     "metadata": {},
     "output_type": "execute_result"
    },
    {
     "data": {
      "text/plain": [
       "24.23"
      ]
     },
     "execution_count": 246,
     "metadata": {},
     "output_type": "execute_result"
    },
    {
     "data": {
      "text/plain": [
       "24.0"
      ]
     },
     "execution_count": 246,
     "metadata": {},
     "output_type": "execute_result"
    }
   ],
   "source": [
    "round(24.234)\n",
    "round(24.234, 2)\n",
    "round(24.234, 0)"
   ]
  },
  {
   "cell_type": "code",
   "execution_count": 248,
   "metadata": {},
   "outputs": [
    {
     "data": {
      "text/plain": [
       "2"
      ]
     },
     "execution_count": 248,
     "metadata": {},
     "output_type": "execute_result"
    },
    {
     "data": {
      "text/plain": [
       "2"
      ]
     },
     "execution_count": 248,
     "metadata": {},
     "output_type": "execute_result"
    }
   ],
   "source": [
    "# limitation \n",
    "round(1.5)\n",
    "round(2.5)"
   ]
  },
  {
   "cell_type": "markdown",
   "metadata": {},
   "source": [
    "## slice"
   ]
  },
  {
   "cell_type": "code",
   "execution_count": 252,
   "metadata": {},
   "outputs": [
    {
     "data": {
      "text/plain": [
       "[79, 99, 6, 61, 81, 86, 51, 24, 69, 53]"
      ]
     },
     "execution_count": 252,
     "metadata": {},
     "output_type": "execute_result"
    },
    {
     "data": {
      "text/plain": [
       "([79, 99], '==', [79, 99])"
      ]
     },
     "execution_count": 252,
     "metadata": {},
     "output_type": "execute_result"
    }
   ],
   "source": [
    "l1\n",
    "slc = slice(2)\n",
    "l1[slc] , '==' , l1[0:2]"
   ]
  },
  {
   "cell_type": "code",
   "execution_count": 253,
   "metadata": {},
   "outputs": [
    {
     "data": {
      "text/plain": [
       "[53, 69, 24, 51, 86, 81, 61, 6, 99, 79]"
      ]
     },
     "execution_count": 253,
     "metadata": {},
     "output_type": "execute_result"
    }
   ],
   "source": [
    "rev = slice(None, None, -1)\n",
    "l1[rev]"
   ]
  },
  {
   "cell_type": "code",
   "execution_count": 254,
   "metadata": {},
   "outputs": [
    {
     "data": {
      "text/plain": [
       "([99], '==', [99])"
      ]
     },
     "execution_count": 254,
     "metadata": {},
     "output_type": "execute_result"
    }
   ],
   "source": [
    "l1[1:2:3], '==' , l1[slice(1,2,3)]"
   ]
  },
  {
   "cell_type": "markdown",
   "metadata": {},
   "source": [
    "## vars"
   ]
  },
  {
   "cell_type": "code",
   "execution_count": 257,
   "metadata": {},
   "outputs": [
    {
     "data": {
      "text/plain": [
       "True"
      ]
     },
     "execution_count": 257,
     "metadata": {},
     "output_type": "execute_result"
    }
   ],
   "source": [
    "vars()  == locals()"
   ]
  },
  {
   "cell_type": "code",
   "execution_count": 260,
   "metadata": {},
   "outputs": [
    {
     "data": {
      "text/plain": [
       "False"
      ]
     },
     "execution_count": 260,
     "metadata": {},
     "output_type": "execute_result"
    }
   ],
   "source": [
    "vars(float) == vars(int)"
   ]
  },
  {
   "cell_type": "markdown",
   "metadata": {},
   "source": [
    "## zip"
   ]
  },
  {
   "cell_type": "code",
   "execution_count": 268,
   "metadata": {},
   "outputs": [
    {
     "data": {
      "text/plain": [
       "[(79, 79),\n",
       " (99, 99),\n",
       " (6, 6),\n",
       " (61, 61),\n",
       " (81, 81),\n",
       " (86, 86),\n",
       " (51, 51),\n",
       " (24, 24),\n",
       " (69, 69),\n",
       " (53, 53)]"
      ]
     },
     "execution_count": 268,
     "metadata": {},
     "output_type": "execute_result"
    }
   ],
   "source": [
    "list(zip(l1, l1))"
   ]
  },
  {
   "cell_type": "code",
   "execution_count": 269,
   "metadata": {},
   "outputs": [
    {
     "data": {
      "text/plain": [
       "[(1, 'a'), (2, 'b'), (3, 'c')]"
      ]
     },
     "execution_count": 269,
     "metadata": {},
     "output_type": "execute_result"
    }
   ],
   "source": [
    "list(zip([1,2,3] , ['a','b','c']))"
   ]
  },
  {
   "cell_type": "code",
   "execution_count": 270,
   "metadata": {},
   "outputs": [
    {
     "data": {
      "text/plain": [
       "[(1, 'a'), (2, 'b'), (3, 'c')]"
      ]
     },
     "execution_count": 270,
     "metadata": {},
     "output_type": "execute_result"
    }
   ],
   "source": [
    "list(zip([1,2,3,4,5] , ['a','b','c']))"
   ]
  },
  {
   "cell_type": "code",
   "execution_count": 274,
   "metadata": {},
   "outputs": [
    {
     "data": {
      "text/plain": [
       "[(1, 'a', 'A', 'Mon', 'K'),\n",
       " (2, 'b', 'B', 'Tue', 'I'),\n",
       " (3, 'c', 'C', 'Wed', 'S')]"
      ]
     },
     "execution_count": 274,
     "metadata": {},
     "output_type": "execute_result"
    }
   ],
   "source": [
    "list(zip([1,2,3] , ['a','b','c'] , ['A', 'B', 'C'], ['Mon', 'Tue', 'Wed'] , 'KISSIK'))"
   ]
  },
  {
   "cell_type": "code",
   "execution_count": 275,
   "metadata": {},
   "outputs": [
    {
     "data": {
      "text/plain": [
       "{1: 'a', 2: 'b', 3: 'c'}"
      ]
     },
     "execution_count": 275,
     "metadata": {},
     "output_type": "execute_result"
    }
   ],
   "source": [
    "dict(zip([1,2,3] , ['a','b','c']))"
   ]
  },
  {
   "cell_type": "markdown",
   "metadata": {},
   "source": [
    "## _ _ import _ _"
   ]
  },
  {
   "cell_type": "code",
   "execution_count": 266,
   "metadata": {},
   "outputs": [
    {
     "data": {
      "text/plain": [
       "0.5463024898437905"
      ]
     },
     "execution_count": 266,
     "metadata": {},
     "output_type": "execute_result"
    }
   ],
   "source": [
    "k = __import__('math')\n",
    "k.tan(0.5)"
   ]
  }
 ],
 "metadata": {
  "kernelspec": {
   "display_name": "iisc",
   "language": "python",
   "name": "iisc"
  },
  "language_info": {
   "codemirror_mode": {
    "name": "ipython",
    "version": 3
   },
   "file_extension": ".py",
   "mimetype": "text/x-python",
   "name": "python",
   "nbconvert_exporter": "python",
   "pygments_lexer": "ipython3",
   "version": "3.9.15"
  }
 },
 "nbformat": 4,
 "nbformat_minor": 2
}
